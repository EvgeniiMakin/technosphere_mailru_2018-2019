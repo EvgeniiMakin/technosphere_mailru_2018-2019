{
 "cells": [
  {
   "cell_type": "markdown",
   "metadata": {},
   "source": [
    "**Общая информация**\n",
    "\n",
    "**Срок сдачи:** 18 октября 2018, 06:00 <br\\>\n",
    "**Штраф за опоздание:** -2 балла после 06:00 18 октября, -4 балла после 06:00 25 октября, -6 баллов после 06:00 1 ноября\n",
    "\n",
    "При отправлении ДЗ указывайте фамилию в названии файла\n",
    "Присылать ДЗ необходимо в виде ссылки на свой github репозиторий в slack @alkhamush\n",
    "\n",
    "Необходимо в slack создать таск в приватный чат:\n",
    "/todo Фамилия Имя ссылка на гитхаб @alkhamush\n",
    "Пример:\n",
    "/todo Ксения Стройкова https://github.com/stroykova/spheremailru/stroykova_hw1.ipynb @alkhamush\n",
    "Дополнительно нужно просто скинуть ссылку в slack в личный чат\n",
    "\n",
    "Используйте данный Ipython Notebook при оформлении домашнего задания."
   ]
  },
  {
   "cell_type": "markdown",
   "metadata": {},
   "source": [
    "###### Задание 1 (2 баллов)\n",
    "Реализовать KNN в классе MyKNeighborsClassifier (обязательное условие: точность не ниже sklearn реализации)\n",
    "Разберитесь самостоятельно, какая мера расстояния используется в KNeighborsClassifier дефолтно и реализуйте свой алгоритм именно с этой мерой. Самостоятельно разберитесь, как считается score из KNeighborsClassifier и реализуйте аналог в своём классе. Score не должен уступать значению KNN из sklearn\n",
    "\n",
    "###### Задание 2 (2 балла)\n",
    "Добиться скорости работы на fit,  predict и predict_proba сравнимой со sklearn для iris и mnist\n",
    "Для этого используем numpy\n",
    "\n",
    "###### Задание 3 (2 балла)\n",
    "Для iris найдите такой параметр n_neighbors, при котором выдаётся наилучший score. Нарисуйте график зависимости score от n_neighbors\n",
    "\n",
    "###### Задание 4 (3 балла)\n",
    "Добавить algorithm='kd_tree' в реализацию KNN (использовать KDTree из sklearn.neighbors). Значение n_neighbors нужно взять из задания 3. Добиться скорости работы на fit,  predict и predict_proba сравнимой со sklearn для iris и mnist\n",
    "Для этого используем numpy. Score не должен уступать значению KNN из sklearn\n",
    "\n",
    "###### Задание 5 (1 балла)\n",
    "Описать для чего нужны следующие библиотеки/классы/функции (список будет ниже)\n",
    "\n",
    "**Штрафные баллы:**\n",
    "\n",
    "1. Невыполнение PEP8 -1 балл\n",
    "2. Отсутствие фамилии в имени скрипта (скрипт должен называться по аналогии со stroykova_hw1.ipynb) -1 балл\n",
    "3. Все строчки должны быть выполнены. Нужно, чтобы output команды можно было увидеть уже в git'е. В противном случае -1 балл\n",
    "4. При оформлении ДЗ нужно пользоваться данным файлом в качестве шаблона. Не нужно удалять и видоизменять структуру кода и текст. В противном случае -1 балл\n"
   ]
  },
  {
   "cell_type": "markdown",
   "metadata": {},
   "source": [
    "Задание 1, 2"
   ]
  },
  {
   "cell_type": "code",
   "execution_count": 2,
   "metadata": {},
   "outputs": [],
   "source": [
    "import numpy as np\n",
    "import matplotlib.pyplot as plt\n",
    "import seaborn as sns\n",
    "\n",
    "from sklearn.neighbors import KDTree\n",
    "from sklearn import datasets\n",
    "from sklearn.base import ClassifierMixin\n",
    "from sklearn.datasets import fetch_mldata\n",
    "from sklearn.neighbors.base import NeighborsBase, KNeighborsMixin, SupervisedIntegerMixin \n",
    "from sklearn.model_selection import train_test_split\n",
    "from sklearn.neighbors import KNeighborsClassifier\n",
    "%load_ext pycodestyle_magic"
   ]
  },
  {
   "cell_type": "code",
   "execution_count": 288,
   "metadata": {},
   "outputs": [],
   "source": [
    "%%pycodestyle\n",
    "\n",
    "\n",
    "class MyKNeighborsClassifier(\n",
    "    NeighborsBase, KNeighborsMixin,\n",
    "    SupervisedIntegerMixin, ClassifierMixin\n",
    "):\n",
    "    \"\"\"Classifier implementing the k-nearest neighbors vote\"\"\"\n",
    "\n",
    "    def __init__(self, n_neighbors, algorithm='brute'):\n",
    "        self.n_neighbors = n_neighbors\n",
    "        self.algorithm = algorithm\n",
    "\n",
    "    def fit(self, X, y):\n",
    "\n",
    "        self._X = np.array(X, dtype=np.float32)\n",
    "        self._y = np.array(y, dtype=np.int)\n",
    "        self._classes = np.unique(self._y)\n",
    "\n",
    "    def pre_predict(self, X):\n",
    "\n",
    "        if self.algorithm == 'brute':\n",
    "            dist_train_X = (self._X ** 2).sum(axis=1).reshape(1, -1)\n",
    "            dist_test_X = (X ** 2).sum(axis=1).reshape(-1, 1)\n",
    "            distance = dist_train_X + dist_test_X - 2*(X @ self._X.T)\n",
    "            indices_neighbors = np.argsort(distance)[:, :self.n_neighbors]\n",
    "            class_of_test = self._y[indices_neighbors]\n",
    "\n",
    "        if self.algorithm == 'kd_tree':\n",
    "            tree = KDTree(self._X)\n",
    "            _, ind = tree.query(X, k=self.n_neighbors)\n",
    "            class_of_test = self._y[ind]\n",
    "        return class_of_test\n",
    "\n",
    "    def predict(self, X):\n",
    "\n",
    "        return np.apply_along_axis(\n",
    "            lambda x: np.bincount(x).argmax(), 1, self.pre_predict(X))\n",
    "\n",
    "    def predict_proba(self, X):\n",
    "\n",
    "        forecast = np.zeros(((X.shape[0]), int(self._y.max()) + 1))\n",
    "        class_of_test = self.pre_predict(X)\n",
    "        for j in self._classes:\n",
    "            forecast[:, j] = np.sum(j == class_of_test, axis=1)\n",
    "        return forecast / self.n_neighbors\n",
    "\n",
    "    def score(self, X, y):\n",
    "        return (self.predict(X) == y) .mean()"
   ]
  },
  {
   "cell_type": "markdown",
   "metadata": {},
   "source": [
    "**IRIS**"
   ]
  },
  {
   "cell_type": "code",
   "execution_count": 279,
   "metadata": {},
   "outputs": [],
   "source": [
    "iris = datasets.load_iris()"
   ]
  },
  {
   "cell_type": "code",
   "execution_count": 280,
   "metadata": {},
   "outputs": [],
   "source": [
    "X_train, X_test, y_train, y_test = train_test_split(\n",
    "    iris.data, iris.target,\n",
    "    test_size=0.1, stratify=iris.target\n",
    ")"
   ]
  },
  {
   "cell_type": "code",
   "execution_count": 281,
   "metadata": {},
   "outputs": [],
   "source": [
    "clf = KNeighborsClassifier(n_neighbors=2)\n",
    "my_clf = MyKNeighborsClassifier(n_neighbors=2)"
   ]
  },
  {
   "cell_type": "code",
   "execution_count": 282,
   "metadata": {},
   "outputs": [
    {
     "name": "stdout",
     "output_type": "stream",
     "text": [
      "CPU times: user 1.12 ms, sys: 11 µs, total: 1.13 ms\n",
      "Wall time: 674 µs\n"
     ]
    },
    {
     "data": {
      "text/plain": [
       "KNeighborsClassifier(algorithm='auto', leaf_size=30, metric='minkowski',\n",
       "           metric_params=None, n_jobs=None, n_neighbors=2, p=2,\n",
       "           weights='uniform')"
      ]
     },
     "execution_count": 282,
     "metadata": {},
     "output_type": "execute_result"
    }
   ],
   "source": [
    "%time clf.fit(X_train, y_train)"
   ]
  },
  {
   "cell_type": "code",
   "execution_count": 283,
   "metadata": {},
   "outputs": [
    {
     "name": "stdout",
     "output_type": "stream",
     "text": [
      "CPU times: user 986 µs, sys: 10 µs, total: 996 µs\n",
      "Wall time: 858 µs\n"
     ]
    }
   ],
   "source": [
    "%time my_clf.fit(X_train, y_train)"
   ]
  },
  {
   "cell_type": "code",
   "execution_count": 284,
   "metadata": {},
   "outputs": [
    {
     "name": "stdout",
     "output_type": "stream",
     "text": [
      "CPU times: user 1.5 ms, sys: 15 µs, total: 1.51 ms\n",
      "Wall time: 1.19 ms\n"
     ]
    },
    {
     "data": {
      "text/plain": [
       "array([1, 1, 2, 0, 2, 1, 2, 2, 0, 0, 0, 0, 2, 1, 1])"
      ]
     },
     "execution_count": 284,
     "metadata": {},
     "output_type": "execute_result"
    }
   ],
   "source": [
    "%time clf.predict(X_test)"
   ]
  },
  {
   "cell_type": "code",
   "execution_count": 285,
   "metadata": {},
   "outputs": [
    {
     "name": "stdout",
     "output_type": "stream",
     "text": [
      "CPU times: user 1.83 ms, sys: 17 µs, total: 1.84 ms\n",
      "Wall time: 1.02 ms\n"
     ]
    },
    {
     "data": {
      "text/plain": [
       "array([1, 1, 2, 0, 2, 1, 2, 2, 0, 0, 0, 0, 2, 1, 1])"
      ]
     },
     "execution_count": 285,
     "metadata": {},
     "output_type": "execute_result"
    }
   ],
   "source": [
    "%time my_clf.predict(X_test)"
   ]
  },
  {
   "cell_type": "code",
   "execution_count": 286,
   "metadata": {},
   "outputs": [
    {
     "name": "stdout",
     "output_type": "stream",
     "text": [
      "CPU times: user 1.4 ms, sys: 14 µs, total: 1.41 ms\n",
      "Wall time: 1.05 ms\n"
     ]
    },
    {
     "data": {
      "text/plain": [
       "array([[0., 1., 0.],\n",
       "       [0., 1., 0.],\n",
       "       [0., 0., 1.],\n",
       "       [1., 0., 0.],\n",
       "       [0., 0., 1.],\n",
       "       [0., 1., 0.],\n",
       "       [0., 0., 1.],\n",
       "       [0., 0., 1.],\n",
       "       [1., 0., 0.],\n",
       "       [1., 0., 0.],\n",
       "       [1., 0., 0.],\n",
       "       [1., 0., 0.],\n",
       "       [0., 0., 1.],\n",
       "       [0., 1., 0.],\n",
       "       [0., 1., 0.]])"
      ]
     },
     "execution_count": 286,
     "metadata": {},
     "output_type": "execute_result"
    }
   ],
   "source": [
    "%time clf.predict_proba(X_test)"
   ]
  },
  {
   "cell_type": "code",
   "execution_count": 287,
   "metadata": {},
   "outputs": [
    {
     "name": "stdout",
     "output_type": "stream",
     "text": [
      "CPU times: user 1.05 ms, sys: 1 µs, total: 1.05 ms\n",
      "Wall time: 628 µs\n"
     ]
    },
    {
     "data": {
      "text/plain": [
       "array([[0., 1., 0.],\n",
       "       [0., 1., 0.],\n",
       "       [0., 0., 1.],\n",
       "       [1., 0., 0.],\n",
       "       [0., 0., 1.],\n",
       "       [0., 1., 0.],\n",
       "       [0., 0., 1.],\n",
       "       [0., 0., 1.],\n",
       "       [1., 0., 0.],\n",
       "       [1., 0., 0.],\n",
       "       [1., 0., 0.],\n",
       "       [1., 0., 0.],\n",
       "       [0., 0., 1.],\n",
       "       [0., 1., 0.],\n",
       "       [0., 1., 0.]])"
      ]
     },
     "execution_count": 287,
     "metadata": {},
     "output_type": "execute_result"
    }
   ],
   "source": [
    "%time my_clf.predict_proba(X_test)"
   ]
  },
  {
   "cell_type": "code",
   "execution_count": 269,
   "metadata": {},
   "outputs": [
    {
     "data": {
      "text/plain": [
       "0.9333333333333333"
      ]
     },
     "execution_count": 269,
     "metadata": {},
     "output_type": "execute_result"
    }
   ],
   "source": [
    "clf.score(X_test, y_test)"
   ]
  },
  {
   "cell_type": "code",
   "execution_count": 270,
   "metadata": {},
   "outputs": [
    {
     "data": {
      "text/plain": [
       "0.9333333333333333"
      ]
     },
     "execution_count": 270,
     "metadata": {},
     "output_type": "execute_result"
    }
   ],
   "source": [
    "my_clf.score(X_test, y_test)"
   ]
  },
  {
   "cell_type": "markdown",
   "metadata": {},
   "source": [
    "Задание 3"
   ]
  },
  {
   "cell_type": "code",
   "execution_count": 114,
   "metadata": {},
   "outputs": [
    {
     "data": {
      "image/png": "[encoded data removed]",
      "text/plain": [
       "<Figure size 1080x864 with 2 Axes>"
      ]
     },
     "metadata": {
      "needs_background": "light"
     },
     "output_type": "display_data"
    }
   ],
   "source": [
    "Max_N = 31\n",
    "Number_of_test = 200\n",
    "MyKNN_train_score = np.zeros(Max_N-1)\n",
    "MyKNN_test_score = np.zeros(Max_N-1)\n",
    "KNN_train_score = np.zeros(Max_N-1)\n",
    "KNN_test_score = np.zeros(Max_N-1)\n",
    "x_ax = np.arange(1, Max_N)\n",
    "for i in range(1, Max_N):\n",
    "    MyKNN_test = []\n",
    "    MyKNN_train = []\n",
    "    KNN_test = []\n",
    "    KNN_train = []\n",
    "    for j in range(Number_of_test):\n",
    "        iris = datasets.load_iris()\n",
    "        X_train, X_test, y_train, y_test = train_test_split(\n",
    "            iris.data, iris.target,\n",
    "            test_size=0.1, stratify=iris.target\n",
    "        )\n",
    "        my_clf = MyKNeighborsClassifier(n_neighbors=i)\n",
    "        my_clf.fit(X_train, y_train)\n",
    "        MyKNN_test.append(my_clf.score(X_test, y_test))\n",
    "        MyKNN_train.append(my_clf.score(X_train, y_train))\n",
    "\n",
    "        clf = KNeighborsClassifier(n_neighbors=i)\n",
    "        clf.fit(X_train, y_train)\n",
    "        KNN_test.append(clf.score(X_test, y_test))\n",
    "        KNN_train.append(clf.score(X_train, y_train))\n",
    "        \n",
    "    MyKNN_train_score[i-1] = np.mean(MyKNN_train)\n",
    "    MyKNN_test_score[i-1] = np.mean(MyKNN_test)\n",
    "    KNN_train_score[i-1] = np.mean(KNN_train)\n",
    "    KNN_test_score[i-1] = np.mean(KNN_test)\n",
    "\n",
    "# plots\n",
    "plt.figure(figsize=(15, 12))\n",
    "\n",
    "plt.subplot(2, 1, 1)\n",
    "plt.xlim(1, Max_N-1)\n",
    "plt.title(\"Sklearn KNN\")\n",
    "plt.plot(np.arange(1, Max_N), KNN_test_score, label=\"test\", color=\"orange\")\n",
    "plt.plot(np.arange(1, Max_N), KNN_train_score, label=\"train\", color=\"blue\")\n",
    "plt.xlabel('Number of neighbors')\n",
    "plt.ylabel('Accurasy')\n",
    "plt.legend()\n",
    "plt.grid(linestyle='--', linewidth=1)\n",
    "\n",
    "plt.subplot(2, 1, 2)\n",
    "plt.xlim(1, Max_N-1)\n",
    "plt.title(\"My KNN\")\n",
    "plt.plot(np.arange(1, Max_N), MyKNN_test_score, label=\"test\", color=\"orange\")\n",
    "plt.plot(np.arange(1, Max_N), MyKNN_train_score, label=\"train\", color=\"blue\")\n",
    "plt.xlabel('Number of neighbors')\n",
    "plt.ylabel('Accurasy')\n",
    "plt.legend()\n",
    "plt.grid(linestyle='--', linewidth=1)\n",
    "plt.show()"
   ]
  },
  {
   "cell_type": "code",
   "execution_count": 115,
   "metadata": {},
   "outputs": [
    {
     "name": "stdout",
     "output_type": "stream",
     "text": [
      "---------------- Топ 10 ----------------\n",
      "Количество соседей =  17  -> Score =  0.977\n",
      "Количество соседей =  19  -> Score =  0.975\n",
      "Количество соседей =  18  -> Score =  0.972\n",
      "Количество соседей =  14  -> Score =  0.972\n",
      "Количество соседей =  10  -> Score =  0.972\n",
      "Количество соседей =  15  -> Score =  0.971\n",
      "Количество соседей =  16  -> Score =  0.97\n",
      "Количество соседей =  11  -> Score =  0.97\n",
      "Количество соседей =  13  -> Score =  0.968\n",
      "Количество соседей =  23  -> Score =  0.967\n",
      "----------------------------------------\n",
      "Лучший результат получается если количество соседей =  17\n"
     ]
    }
   ],
   "source": [
    "k_of_n = [i+1 for i in reversed(np.argsort(MyKNN_test_score))]\n",
    "N = 10\n",
    "print(\"-\"*16, \"Топ\", N, \"-\"*16)\n",
    "for i in range(N):\n",
    "    print(\"Количество соседей = \", k_of_n[i],\n",
    "          \" -> Score = \", round(MyKNN_test_score[k_of_n[i]-1], 3))\n",
    "print(\"-\"*40)\n",
    "print(\"Лучший результат получается если количество соседей = \", k_of_n[0])"
   ]
  },
  {
   "cell_type": "markdown",
   "metadata": {},
   "source": [
    "**MNIST**"
   ]
  },
  {
   "cell_type": "code",
   "execution_count": 58,
   "metadata": {},
   "outputs": [],
   "source": [
    "#does't work\n",
    "#mnist = fetch_mldata('MNIST original')"
   ]
  },
  {
   "cell_type": "code",
   "execution_count": 59,
   "metadata": {},
   "outputs": [
    {
     "name": "stdout",
     "output_type": "stream",
     "text": [
      "Could not download MNIST data from mldata.org trying alternative...\n"
     ]
    },
    {
     "name": "stderr",
     "output_type": "stream",
     "text": [
      "/home/evgenii/.local/lib/python3.6/site-packages/sklearn/utils/deprecation.py:77: DeprecationWarning: Function fetch_mldata is deprecated; fetch_mldata was deprecated in version 0.20 and will be removed in version 0.22\n",
      "  warnings.warn(msg, category=DeprecationWarning)\n",
      "/home/evgenii/.local/lib/python3.6/site-packages/sklearn/utils/deprecation.py:77: DeprecationWarning: Function mldata_filename is deprecated; mldata_filename was deprecated in version 0.20 and will be removed in version 0.22\n",
      "  warnings.warn(msg, category=DeprecationWarning)\n"
     ]
    },
    {
     "name": "stdout",
     "output_type": "stream",
     "text": [
      "Success!\n"
     ]
    }
   ],
   "source": [
    "from six.moves import urllib\n",
    "from sklearn.datasets import fetch_mldata\n",
    "try:\n",
    "    mnist = fetch_mldata('MNIST original')\n",
    "except:\n",
    "    print(\"Could not download MNIST data from mldata.org\",\n",
    "          \"trying alternative...\")\n",
    "\n",
    "    # Alternative method to load MNIST, if mldata.org is down\n",
    "    from scipy.io import loadmat\n",
    "    mnist_alternative_url = \"https://github.com/amplab/datascience-sp14/raw/master/lab7/mldata/mnist-original.mat\"\n",
    "    mnist_path = \"./mnist-original.mat\"\n",
    "    response = urllib.request.urlopen(mnist_alternative_url)\n",
    "    with open(mnist_path, \"wb\") as f:\n",
    "        content = response.read()\n",
    "        f.write(content)\n",
    "    mnist_raw = loadmat(mnist_path)\n",
    "    mnist = {\n",
    "        'data': mnist_raw[\"data\"].T,\n",
    "        'target': mnist_raw[\"label\"][0],\n",
    "        \"COL_NAMES\": [\"label\", \"data\"],\n",
    "        \"DESCR\": \"mldata.org dataset: mnist-original\",\n",
    "    }\n",
    "    print(\"Success!\")"
   ]
  },
  {
   "cell_type": "code",
   "execution_count": 60,
   "metadata": {},
   "outputs": [
    {
     "data": {
      "text/plain": [
       "(70000, 784)"
      ]
     },
     "execution_count": 60,
     "metadata": {},
     "output_type": "execute_result"
    }
   ],
   "source": [
    "#does't work\n",
    "#X_train, X_test, y_train, y_test = train_test_split(\n",
    "#    mnist.data, mnist.target,\n",
    "#    test_size=0.01, stratify=mnist.target\n",
    "#)\n",
    "mnist['data'].shape"
   ]
  },
  {
   "cell_type": "code",
   "execution_count": 237,
   "metadata": {},
   "outputs": [],
   "source": [
    "X_train, X_test, y_train, y_test = train_test_split(\n",
    "    mnist['data'], mnist['target'],\n",
    "    test_size=0.01, stratify=mnist['target']\n",
    ")"
   ]
  },
  {
   "cell_type": "code",
   "execution_count": 238,
   "metadata": {},
   "outputs": [],
   "source": [
    "clf = KNeighborsClassifier(n_neighbors=18)\n",
    "my_clf = MyKNeighborsClassifier(n_neighbors=18)"
   ]
  },
  {
   "cell_type": "code",
   "execution_count": 239,
   "metadata": {},
   "outputs": [
    {
     "name": "stdout",
     "output_type": "stream",
     "text": [
      "CPU times: user 23.2 s, sys: 160 ms, total: 23.3 s\n",
      "Wall time: 23.3 s\n"
     ]
    },
    {
     "data": {
      "text/plain": [
       "KNeighborsClassifier(algorithm='auto', leaf_size=30, metric='minkowski',\n",
       "           metric_params=None, n_jobs=None, n_neighbors=18, p=2,\n",
       "           weights='uniform')"
      ]
     },
     "execution_count": 239,
     "metadata": {},
     "output_type": "execute_result"
    }
   ],
   "source": [
    "%time clf.fit(X_train, y_train)"
   ]
  },
  {
   "cell_type": "code",
   "execution_count": 240,
   "metadata": {},
   "outputs": [
    {
     "name": "stdout",
     "output_type": "stream",
     "text": [
      "CPU times: user 15.7 ms, sys: 47.9 ms, total: 63.6 ms\n",
      "Wall time: 62.6 ms\n"
     ]
    }
   ],
   "source": [
    "%time my_clf.fit(X_train, y_train)"
   ]
  },
  {
   "cell_type": "code",
   "execution_count": 241,
   "metadata": {},
   "outputs": [
    {
     "name": "stdout",
     "output_type": "stream",
     "text": [
      "CPU times: user 57.4 s, sys: 0 ns, total: 57.4 s\n",
      "Wall time: 57.4 s\n"
     ]
    },
    {
     "data": {
      "text/plain": [
       "array([9., 1., 0., 4., 4., 2., 3., 1., 3., 8., 4., 2., 4., 5., 7., 3., 7.,\n",
       "       6., 3., 8., 1., 8., 5., 4., 1., 5., 7., 5., 1., 5., 7., 3., 6., 0.,\n",
       "       4., 1., 1., 6., 4., 1., 1., 3., 3., 0., 9., 5., 8., 1., 2., 3., 3.,\n",
       "       1., 1., 7., 0., 1., 9., 3., 3., 6., 1., 1., 9., 3., 2., 3., 8., 7.,\n",
       "       0., 7., 0., 6., 9., 2., 3., 0., 1., 1., 0., 4., 8., 7., 0., 0., 6.,\n",
       "       2., 7., 3., 6., 1., 3., 4., 2., 2., 2., 0., 7., 6., 0., 8., 4., 6.,\n",
       "       9., 2., 2., 9., 4., 0., 9., 0., 5., 6., 4., 1., 3., 2., 9., 2., 7.,\n",
       "       2., 3., 4., 1., 9., 7., 9., 1., 4., 3., 1., 6., 5., 4., 1., 5., 9.,\n",
       "       1., 6., 0., 3., 9., 8., 7., 3., 8., 2., 8., 9., 1., 4., 5., 7., 3.,\n",
       "       6., 8., 8., 7., 0., 1., 5., 0., 6., 2., 2., 4., 9., 4., 0., 0., 8.,\n",
       "       9., 7., 1., 1., 7., 8., 8., 4., 3., 4., 3., 5., 3., 7., 9., 5., 9.,\n",
       "       3., 7., 6., 3., 2., 4., 2., 1., 6., 4., 0., 9., 1., 3., 5., 9., 5.,\n",
       "       7., 3., 5., 5., 3., 9., 5., 3., 7., 6., 9., 2., 2., 2., 5., 0., 6.,\n",
       "       1., 7., 8., 2., 1., 9., 6., 8., 6., 9., 3., 3., 2., 7., 2., 6., 5.,\n",
       "       7., 8., 6., 8., 5., 1., 9., 2., 8., 1., 5., 3., 8., 7., 0., 2., 3.,\n",
       "       3., 7., 3., 3., 1., 4., 4., 7., 5., 8., 6., 0., 2., 8., 4., 7., 3.,\n",
       "       0., 8., 2., 0., 1., 3., 7., 9., 7., 6., 7., 4., 5., 2., 1., 5., 5.,\n",
       "       4., 6., 4., 0., 9., 1., 7., 8., 0., 7., 5., 6., 8., 0., 9., 8., 0.,\n",
       "       8., 6., 9., 2., 7., 8., 7., 4., 0., 0., 6., 9., 0., 3., 0., 6., 5.,\n",
       "       8., 3., 6., 9., 9., 4., 6., 1., 1., 8., 8., 4., 6., 5., 7., 8., 4.,\n",
       "       1., 6., 3., 9., 7., 0., 0., 0., 1., 4., 3., 7., 5., 3., 1., 7., 1.,\n",
       "       6., 8., 9., 6., 6., 4., 1., 7., 8., 5., 7., 9., 3., 1., 1., 5., 1.,\n",
       "       7., 2., 7., 7., 4., 2., 0., 7., 1., 1., 6., 3., 9., 3., 2., 0., 3.,\n",
       "       2., 9., 4., 8., 1., 1., 6., 4., 7., 2., 0., 5., 9., 1., 1., 0., 4.,\n",
       "       4., 0., 3., 0., 2., 4., 2., 8., 2., 8., 0., 9., 0., 6., 9., 7., 9.,\n",
       "       1., 6., 3., 4., 4., 7., 2., 5., 8., 7., 3., 8., 2., 1., 3., 6., 0.,\n",
       "       9., 7., 6., 7., 7., 1., 5., 7., 5., 9., 4., 6., 9., 0., 8., 0., 7.,\n",
       "       2., 5., 3., 0., 5., 4., 8., 3., 2., 6., 5., 6., 9., 3., 8., 5., 0.,\n",
       "       4., 6., 0., 0., 2., 4., 1., 7., 0., 0., 0., 3., 5., 8., 5., 4., 2.,\n",
       "       6., 6., 4., 2., 2., 4., 6., 9., 0., 0., 2., 6., 1., 4., 0., 4., 5.,\n",
       "       1., 7., 1., 3., 9., 5., 8., 1., 3., 0., 6., 2., 2., 3., 2., 8., 8.,\n",
       "       4., 6., 7., 5., 5., 5., 1., 4., 6., 8., 5., 4., 8., 0., 5., 4., 8.,\n",
       "       6., 3., 0., 8., 2., 7., 7., 6., 7., 8., 9., 3., 9., 5., 3., 9., 9.,\n",
       "       5., 5., 9., 2., 8., 7., 5., 9., 4., 6., 2., 1., 7., 9., 3., 1., 8.,\n",
       "       1., 4., 6., 4., 8., 9., 8., 6., 2., 2., 1., 9., 9., 9., 2., 9., 1.,\n",
       "       9., 5., 1., 4., 7., 8., 0., 5., 2., 5., 9., 4., 9., 6., 0., 6., 5.,\n",
       "       6., 0., 2., 5., 9., 6., 7., 3., 8., 8., 0., 5., 4., 5., 1., 7., 1.,\n",
       "       4., 7., 5., 6., 0., 2., 0., 7., 3., 1., 4., 1., 0., 4., 5., 9., 7.,\n",
       "       3., 7., 6., 1., 3., 4., 9., 7., 9., 3., 1., 2., 4., 0., 6., 1., 5.,\n",
       "       0., 3., 2., 9., 6., 7., 8., 6., 2., 7., 7., 5., 1., 8., 1., 1., 2.,\n",
       "       1., 1., 2., 9., 8., 7., 9., 1., 0., 1., 2., 7., 8., 1., 8., 0., 9.,\n",
       "       1., 6., 3.])"
      ]
     },
     "execution_count": 241,
     "metadata": {},
     "output_type": "execute_result"
    }
   ],
   "source": [
    "%time clf.predict(X_test)"
   ]
  },
  {
   "cell_type": "code",
   "execution_count": 242,
   "metadata": {},
   "outputs": [
    {
     "name": "stdout",
     "output_type": "stream",
     "text": [
      "CPU times: user 6.95 s, sys: 1.01 s, total: 7.96 s\n",
      "Wall time: 4.28 s\n"
     ]
    },
    {
     "data": {
      "text/plain": [
       "array([9, 1, 0, 4, 4, 2, 3, 1, 3, 8, 4, 2, 4, 5, 7, 3, 7, 6, 3, 8, 1, 8,\n",
       "       5, 4, 1, 5, 7, 5, 1, 5, 7, 3, 6, 0, 4, 1, 1, 6, 4, 1, 1, 3, 3, 0,\n",
       "       9, 5, 8, 1, 2, 3, 3, 1, 1, 7, 0, 1, 9, 3, 3, 6, 1, 1, 9, 3, 2, 3,\n",
       "       8, 7, 0, 7, 0, 6, 9, 2, 3, 0, 1, 1, 0, 4, 8, 7, 0, 0, 6, 2, 7, 3,\n",
       "       6, 1, 3, 4, 2, 2, 2, 0, 7, 6, 0, 8, 4, 6, 9, 2, 2, 9, 4, 0, 9, 0,\n",
       "       5, 6, 4, 1, 3, 2, 9, 2, 7, 2, 3, 4, 1, 9, 7, 9, 1, 4, 3, 1, 6, 5,\n",
       "       4, 1, 5, 9, 1, 6, 0, 3, 9, 8, 7, 3, 8, 2, 8, 9, 1, 4, 5, 7, 3, 6,\n",
       "       8, 8, 7, 0, 1, 5, 0, 6, 2, 2, 4, 9, 4, 0, 0, 8, 9, 7, 1, 1, 7, 8,\n",
       "       8, 4, 3, 4, 3, 5, 3, 7, 9, 5, 9, 3, 7, 6, 3, 2, 4, 2, 1, 6, 4, 0,\n",
       "       9, 1, 3, 5, 9, 5, 7, 3, 5, 5, 3, 9, 5, 3, 7, 6, 9, 2, 2, 2, 5, 0,\n",
       "       6, 1, 7, 8, 2, 1, 9, 6, 8, 6, 9, 3, 3, 2, 7, 2, 6, 5, 7, 8, 6, 8,\n",
       "       5, 1, 9, 2, 8, 1, 5, 3, 8, 7, 0, 2, 3, 3, 7, 3, 3, 1, 4, 4, 7, 5,\n",
       "       8, 6, 0, 2, 8, 4, 7, 3, 0, 8, 2, 0, 1, 3, 7, 9, 7, 6, 7, 4, 5, 2,\n",
       "       1, 5, 5, 4, 6, 4, 0, 9, 1, 7, 8, 0, 7, 5, 6, 8, 0, 9, 8, 0, 8, 6,\n",
       "       9, 2, 7, 8, 7, 4, 0, 0, 6, 9, 0, 3, 0, 6, 5, 8, 3, 6, 9, 9, 4, 6,\n",
       "       1, 1, 8, 8, 4, 6, 5, 7, 8, 4, 1, 6, 3, 9, 7, 0, 0, 0, 1, 4, 3, 7,\n",
       "       5, 3, 1, 7, 1, 6, 8, 9, 6, 6, 4, 1, 7, 8, 5, 7, 9, 3, 1, 1, 5, 1,\n",
       "       7, 2, 7, 7, 4, 2, 0, 7, 1, 1, 6, 3, 9, 3, 2, 0, 3, 2, 9, 4, 8, 1,\n",
       "       1, 6, 4, 7, 2, 0, 5, 9, 1, 1, 0, 4, 4, 0, 3, 0, 2, 4, 2, 8, 2, 8,\n",
       "       0, 9, 0, 6, 9, 7, 9, 1, 6, 3, 4, 4, 7, 2, 5, 8, 7, 3, 8, 2, 1, 3,\n",
       "       6, 0, 9, 7, 6, 7, 7, 1, 5, 7, 5, 9, 4, 6, 9, 0, 8, 0, 7, 2, 5, 3,\n",
       "       0, 5, 4, 8, 3, 2, 6, 5, 6, 9, 3, 8, 5, 0, 4, 6, 0, 0, 2, 4, 1, 7,\n",
       "       0, 0, 0, 3, 5, 8, 5, 4, 2, 6, 6, 4, 2, 2, 4, 6, 9, 0, 0, 2, 6, 1,\n",
       "       4, 0, 4, 5, 1, 7, 1, 3, 9, 5, 8, 1, 3, 0, 6, 2, 2, 3, 2, 8, 8, 4,\n",
       "       6, 7, 5, 5, 5, 1, 4, 6, 8, 5, 4, 8, 0, 5, 4, 8, 6, 3, 0, 8, 2, 7,\n",
       "       7, 6, 7, 8, 9, 3, 9, 5, 3, 9, 9, 5, 5, 9, 2, 8, 7, 5, 9, 4, 6, 2,\n",
       "       1, 7, 9, 3, 1, 8, 1, 4, 6, 4, 8, 9, 8, 6, 2, 2, 1, 9, 9, 9, 2, 9,\n",
       "       1, 9, 5, 1, 4, 7, 8, 0, 5, 2, 5, 9, 4, 9, 6, 0, 6, 5, 6, 0, 2, 5,\n",
       "       9, 6, 7, 3, 8, 8, 0, 5, 4, 5, 1, 7, 1, 4, 7, 5, 6, 0, 2, 0, 7, 3,\n",
       "       1, 4, 1, 0, 4, 5, 9, 7, 3, 7, 6, 1, 3, 4, 9, 7, 9, 3, 1, 2, 4, 0,\n",
       "       6, 1, 5, 0, 3, 2, 9, 6, 7, 8, 6, 2, 7, 7, 5, 1, 8, 1, 1, 2, 1, 1,\n",
       "       2, 9, 8, 7, 9, 1, 0, 1, 2, 7, 8, 1, 8, 0, 9, 1, 6, 3])"
      ]
     },
     "execution_count": 242,
     "metadata": {},
     "output_type": "execute_result"
    }
   ],
   "source": [
    "%time my_clf.predict(X_test)"
   ]
  },
  {
   "cell_type": "code",
   "execution_count": 243,
   "metadata": {},
   "outputs": [
    {
     "name": "stdout",
     "output_type": "stream",
     "text": [
      "CPU times: user 59 s, sys: 0 ns, total: 59 s\n",
      "Wall time: 59 s\n"
     ]
    },
    {
     "data": {
      "text/plain": [
       "array([[0.        , 0.        , 0.        , ..., 0.        , 0.        ,\n",
       "        1.        ],\n",
       "       [0.        , 1.        , 0.        , ..., 0.        , 0.        ,\n",
       "        0.        ],\n",
       "       [0.88888889, 0.        , 0.        , ..., 0.05555556, 0.        ,\n",
       "        0.05555556],\n",
       "       ...,\n",
       "       [0.        , 1.        , 0.        , ..., 0.        , 0.        ,\n",
       "        0.        ],\n",
       "       [0.        , 0.        , 0.        , ..., 0.        , 0.        ,\n",
       "        0.        ],\n",
       "       [0.        , 0.        , 0.        , ..., 0.        , 0.        ,\n",
       "        0.        ]])"
      ]
     },
     "execution_count": 243,
     "metadata": {},
     "output_type": "execute_result"
    }
   ],
   "source": [
    "%time clf.predict_proba(X_test)"
   ]
  },
  {
   "cell_type": "code",
   "execution_count": 244,
   "metadata": {},
   "outputs": [
    {
     "name": "stdout",
     "output_type": "stream",
     "text": [
      "CPU times: user 6.94 s, sys: 960 ms, total: 7.9 s\n",
      "Wall time: 4.27 s\n"
     ]
    },
    {
     "data": {
      "text/plain": [
       "array([[0.        , 0.        , 0.        , ..., 0.        , 0.        ,\n",
       "        1.        ],\n",
       "       [0.        , 1.        , 0.        , ..., 0.        , 0.        ,\n",
       "        0.        ],\n",
       "       [0.88888889, 0.        , 0.        , ..., 0.05555556, 0.        ,\n",
       "        0.05555556],\n",
       "       ...,\n",
       "       [0.        , 1.        , 0.        , ..., 0.        , 0.        ,\n",
       "        0.        ],\n",
       "       [0.        , 0.        , 0.        , ..., 0.        , 0.        ,\n",
       "        0.        ],\n",
       "       [0.        , 0.        , 0.        , ..., 0.        , 0.        ,\n",
       "        0.        ]])"
      ]
     },
     "execution_count": 244,
     "metadata": {},
     "output_type": "execute_result"
    }
   ],
   "source": [
    "%time my_clf.predict_proba(X_test)"
   ]
  },
  {
   "cell_type": "code",
   "execution_count": 245,
   "metadata": {},
   "outputs": [
    {
     "data": {
      "text/plain": [
       "0.97"
      ]
     },
     "execution_count": 245,
     "metadata": {},
     "output_type": "execute_result"
    }
   ],
   "source": [
    "clf.score(X_test, y_test)"
   ]
  },
  {
   "cell_type": "code",
   "execution_count": 246,
   "metadata": {},
   "outputs": [
    {
     "data": {
      "text/plain": [
       "0.97"
      ]
     },
     "execution_count": 246,
     "metadata": {},
     "output_type": "execute_result"
    }
   ],
   "source": [
    "my_clf.score(X_test, y_test)"
   ]
  },
  {
   "cell_type": "markdown",
   "metadata": {},
   "source": [
    "Задание 4"
   ]
  },
  {
   "cell_type": "code",
   "execution_count": 247,
   "metadata": {},
   "outputs": [],
   "source": [
    "clf = KNeighborsClassifier(n_neighbors=18, algorithm='kd_tree')\n",
    "my_clf = MyKNeighborsClassifier(n_neighbors=18, algorithm='kd_tree')"
   ]
  },
  {
   "cell_type": "code",
   "execution_count": 248,
   "metadata": {},
   "outputs": [],
   "source": [
    "#does't work\n",
    "#X_train, X_test, y_train, y_test = train_test_split(\n",
    "#    mnist.data, mnist.target,\n",
    "#    test_size=0.01, stratify=mnist.target\n",
    "#)"
   ]
  },
  {
   "cell_type": "code",
   "execution_count": 249,
   "metadata": {},
   "outputs": [],
   "source": [
    "X_train, X_test, y_train, y_test = train_test_split(\n",
    "    mnist['data'], mnist['target'],\n",
    "    test_size=0.01, stratify=mnist['target']\n",
    ")"
   ]
  },
  {
   "cell_type": "code",
   "execution_count": 250,
   "metadata": {},
   "outputs": [
    {
     "name": "stdout",
     "output_type": "stream",
     "text": [
      "CPU times: user 23.3 s, sys: 132 ms, total: 23.4 s\n",
      "Wall time: 23.4 s\n"
     ]
    },
    {
     "data": {
      "text/plain": [
       "KNeighborsClassifier(algorithm='kd_tree', leaf_size=30, metric='minkowski',\n",
       "           metric_params=None, n_jobs=None, n_neighbors=18, p=2,\n",
       "           weights='uniform')"
      ]
     },
     "execution_count": 250,
     "metadata": {},
     "output_type": "execute_result"
    }
   ],
   "source": [
    "%time clf.fit(X_train, y_train)"
   ]
  },
  {
   "cell_type": "code",
   "execution_count": 251,
   "metadata": {},
   "outputs": [
    {
     "name": "stdout",
     "output_type": "stream",
     "text": [
      "CPU times: user 25.8 ms, sys: 40 ms, total: 65.8 ms\n",
      "Wall time: 64.8 ms\n"
     ]
    }
   ],
   "source": [
    "%time my_clf.fit(X_train, y_train)"
   ]
  },
  {
   "cell_type": "code",
   "execution_count": 252,
   "metadata": {},
   "outputs": [
    {
     "name": "stdout",
     "output_type": "stream",
     "text": [
      "CPU times: user 1min 4s, sys: 0 ns, total: 1min 4s\n",
      "Wall time: 1min 4s\n"
     ]
    },
    {
     "data": {
      "text/plain": [
       "array([3., 0., 1., 4., 6., 5., 8., 7., 7., 0., 3., 8., 3., 4., 3., 3., 7.,\n",
       "       9., 8., 0., 4., 6., 8., 5., 6., 8., 0., 0., 3., 3., 7., 5., 7., 6.,\n",
       "       7., 6., 1., 9., 5., 4., 6., 4., 8., 4., 4., 0., 2., 5., 8., 1., 5.,\n",
       "       8., 7., 2., 5., 2., 1., 1., 6., 4., 3., 6., 3., 7., 4., 4., 3., 6.,\n",
       "       7., 7., 6., 3., 5., 0., 5., 2., 3., 8., 1., 3., 4., 2., 2., 6., 6.,\n",
       "       1., 5., 3., 1., 5., 2., 6., 0., 8., 8., 6., 0., 5., 7., 7., 3., 6.,\n",
       "       7., 9., 1., 3., 1., 4., 2., 7., 1., 3., 0., 0., 7., 1., 5., 0., 7.,\n",
       "       6., 9., 4., 0., 7., 4., 1., 8., 4., 4., 5., 1., 8., 7., 3., 1., 1.,\n",
       "       7., 3., 6., 2., 0., 4., 9., 5., 0., 6., 9., 0., 1., 2., 7., 4., 5.,\n",
       "       0., 2., 4., 6., 3., 7., 9., 2., 7., 2., 5., 2., 4., 8., 4., 8., 6.,\n",
       "       8., 9., 2., 1., 8., 0., 6., 3., 0., 0., 2., 2., 8., 6., 9., 1., 0.,\n",
       "       5., 1., 0., 1., 9., 7., 1., 4., 0., 0., 1., 1., 1., 9., 7., 5., 1.,\n",
       "       1., 3., 2., 4., 9., 7., 8., 7., 2., 8., 2., 0., 6., 9., 0., 7., 2.,\n",
       "       1., 1., 6., 1., 7., 5., 0., 8., 3., 4., 3., 6., 0., 0., 9., 1., 0.,\n",
       "       9., 0., 0., 9., 9., 1., 0., 2., 6., 2., 5., 2., 9., 5., 7., 9., 8.,\n",
       "       4., 8., 1., 0., 3., 8., 9., 1., 3., 4., 9., 4., 6., 1., 8., 3., 1.,\n",
       "       9., 4., 7., 5., 9., 8., 6., 9., 9., 5., 8., 8., 6., 4., 5., 0., 7.,\n",
       "       4., 9., 4., 3., 2., 3., 2., 7., 7., 2., 7., 7., 0., 6., 2., 3., 9.,\n",
       "       6., 7., 8., 1., 5., 7., 1., 1., 1., 3., 8., 7., 8., 4., 4., 9., 9.,\n",
       "       2., 0., 6., 5., 7., 6., 6., 6., 7., 6., 7., 4., 1., 5., 3., 2., 9.,\n",
       "       8., 5., 8., 9., 4., 5., 7., 5., 4., 2., 0., 5., 7., 2., 8., 9., 5.,\n",
       "       2., 5., 8., 0., 3., 8., 2., 1., 8., 9., 5., 7., 6., 3., 8., 9., 9.,\n",
       "       9., 6., 4., 7., 5., 1., 3., 4., 8., 7., 1., 7., 5., 0., 9., 9., 5.,\n",
       "       3., 1., 5., 6., 6., 2., 6., 6., 2., 5., 8., 7., 3., 0., 7., 6., 3.,\n",
       "       3., 0., 4., 4., 0., 7., 7., 6., 1., 4., 5., 7., 4., 9., 8., 7., 6.,\n",
       "       4., 1., 9., 7., 9., 4., 8., 7., 1., 9., 1., 8., 3., 7., 3., 9., 0.,\n",
       "       1., 0., 6., 1., 1., 7., 3., 4., 1., 7., 6., 3., 4., 5., 9., 1., 5.,\n",
       "       6., 8., 3., 3., 3., 0., 2., 8., 2., 6., 3., 6., 7., 6., 9., 8., 2.,\n",
       "       8., 5., 2., 9., 6., 4., 4., 2., 2., 7., 9., 2., 7., 4., 9., 3., 0.,\n",
       "       7., 4., 3., 4., 2., 1., 0., 0., 2., 3., 4., 5., 1., 6., 6., 1., 0.,\n",
       "       9., 5., 7., 6., 6., 9., 2., 7., 4., 7., 9., 3., 3., 2., 0., 2., 4.,\n",
       "       1., 0., 7., 1., 7., 6., 0., 1., 0., 0., 9., 6., 3., 7., 1., 8., 1.,\n",
       "       1., 4., 4., 3., 5., 3., 3., 8., 5., 9., 2., 1., 9., 6., 3., 1., 2.,\n",
       "       6., 4., 9., 2., 6., 0., 2., 6., 1., 6., 1., 8., 1., 4., 1., 1., 9.,\n",
       "       1., 1., 2., 4., 2., 5., 6., 4., 7., 9., 9., 8., 2., 2., 8., 6., 6.,\n",
       "       9., 3., 4., 1., 1., 8., 8., 3., 8., 8., 0., 3., 6., 8., 0., 6., 6.,\n",
       "       0., 9., 3., 5., 1., 9., 7., 2., 6., 9., 2., 6., 2., 2., 5., 7., 2.,\n",
       "       2., 1., 3., 0., 6., 5., 4., 9., 0., 9., 8., 7., 0., 2., 7., 9., 1.,\n",
       "       6., 3., 4., 3., 7., 3., 2., 2., 3., 0., 1., 8., 1., 1., 3., 4., 0.,\n",
       "       5., 3., 7., 5., 5., 0., 4., 8., 4., 2., 9., 3., 7., 7., 5., 7., 4.,\n",
       "       5., 5., 1., 9., 1., 0., 0., 5., 0., 9., 2., 0., 5., 8., 3., 0., 5.,\n",
       "       5., 0., 0.])"
      ]
     },
     "execution_count": 252,
     "metadata": {},
     "output_type": "execute_result"
    }
   ],
   "source": [
    "%time clf.predict(X_test)"
   ]
  },
  {
   "cell_type": "code",
   "execution_count": 253,
   "metadata": {},
   "outputs": [
    {
     "name": "stdout",
     "output_type": "stream",
     "text": [
      "CPU times: user 1min 14s, sys: 140 ms, total: 1min 14s\n",
      "Wall time: 1min 14s\n"
     ]
    },
    {
     "data": {
      "text/plain": [
       "array([3, 0, 1, 4, 6, 5, 8, 7, 7, 0, 3, 8, 3, 4, 3, 3, 7, 9, 8, 0, 4, 6,\n",
       "       8, 5, 6, 8, 0, 0, 3, 3, 7, 5, 7, 6, 7, 6, 1, 9, 5, 4, 6, 4, 8, 4,\n",
       "       4, 0, 2, 5, 8, 1, 5, 8, 7, 2, 5, 2, 1, 1, 6, 4, 3, 6, 3, 7, 4, 4,\n",
       "       3, 6, 7, 7, 6, 3, 5, 0, 5, 2, 3, 8, 1, 3, 4, 2, 2, 6, 6, 1, 5, 3,\n",
       "       1, 5, 2, 6, 0, 8, 8, 6, 0, 5, 7, 7, 3, 6, 7, 9, 1, 3, 1, 4, 2, 7,\n",
       "       1, 3, 0, 0, 7, 1, 5, 0, 7, 6, 9, 4, 0, 7, 4, 1, 8, 4, 4, 5, 1, 8,\n",
       "       7, 3, 1, 1, 7, 3, 6, 2, 0, 4, 9, 5, 0, 6, 9, 0, 1, 2, 7, 4, 5, 0,\n",
       "       2, 4, 6, 3, 7, 9, 2, 7, 2, 5, 2, 4, 8, 4, 8, 6, 8, 9, 2, 1, 8, 0,\n",
       "       6, 3, 0, 0, 2, 2, 8, 6, 9, 1, 0, 5, 1, 0, 1, 9, 7, 1, 4, 0, 0, 1,\n",
       "       1, 1, 9, 7, 5, 1, 1, 3, 2, 4, 9, 7, 8, 7, 2, 8, 2, 0, 6, 9, 0, 7,\n",
       "       2, 1, 1, 6, 1, 7, 5, 0, 8, 3, 4, 3, 6, 0, 0, 9, 1, 0, 9, 0, 0, 9,\n",
       "       9, 1, 0, 2, 6, 2, 5, 2, 9, 5, 7, 9, 8, 4, 8, 1, 0, 3, 8, 9, 1, 3,\n",
       "       4, 9, 4, 6, 1, 8, 3, 1, 9, 4, 7, 5, 9, 8, 6, 9, 9, 5, 8, 8, 6, 4,\n",
       "       5, 0, 7, 4, 9, 4, 3, 2, 3, 2, 7, 7, 2, 7, 7, 0, 6, 2, 3, 9, 6, 7,\n",
       "       8, 1, 5, 7, 1, 1, 1, 3, 8, 7, 8, 4, 4, 9, 9, 2, 0, 6, 5, 7, 6, 6,\n",
       "       6, 7, 6, 7, 4, 1, 5, 3, 2, 9, 8, 5, 8, 9, 4, 5, 7, 5, 4, 2, 0, 5,\n",
       "       7, 2, 8, 9, 5, 2, 5, 8, 0, 3, 8, 2, 1, 8, 9, 5, 7, 6, 3, 8, 9, 9,\n",
       "       9, 6, 4, 7, 5, 1, 3, 4, 8, 7, 1, 7, 5, 0, 9, 9, 5, 3, 1, 5, 6, 6,\n",
       "       2, 6, 6, 2, 5, 8, 7, 3, 0, 7, 6, 3, 3, 0, 4, 4, 0, 7, 7, 6, 1, 4,\n",
       "       5, 7, 4, 9, 8, 7, 6, 4, 1, 9, 7, 9, 4, 8, 7, 1, 9, 1, 8, 3, 7, 3,\n",
       "       9, 0, 1, 0, 6, 1, 1, 7, 3, 4, 1, 7, 6, 3, 4, 5, 9, 1, 5, 6, 8, 3,\n",
       "       3, 3, 0, 2, 8, 2, 6, 3, 6, 7, 6, 9, 8, 2, 8, 5, 2, 9, 6, 4, 4, 2,\n",
       "       2, 7, 9, 2, 7, 4, 9, 3, 0, 7, 4, 3, 4, 2, 1, 0, 0, 2, 3, 4, 5, 1,\n",
       "       6, 6, 1, 0, 9, 5, 7, 6, 6, 9, 2, 7, 4, 7, 9, 3, 3, 2, 0, 2, 4, 1,\n",
       "       0, 7, 1, 7, 6, 0, 1, 0, 0, 9, 6, 3, 7, 1, 8, 1, 1, 4, 4, 3, 5, 3,\n",
       "       3, 8, 5, 9, 2, 1, 9, 6, 3, 1, 2, 6, 4, 9, 2, 6, 0, 2, 6, 1, 6, 1,\n",
       "       8, 1, 4, 1, 1, 9, 1, 1, 2, 4, 2, 5, 6, 4, 7, 9, 9, 8, 2, 2, 8, 6,\n",
       "       6, 9, 3, 4, 1, 1, 8, 8, 3, 8, 8, 0, 3, 6, 8, 0, 6, 6, 0, 9, 3, 5,\n",
       "       1, 9, 7, 2, 6, 9, 2, 6, 2, 2, 5, 7, 2, 2, 1, 3, 0, 6, 5, 4, 9, 0,\n",
       "       9, 8, 7, 0, 2, 7, 9, 1, 6, 3, 4, 3, 7, 3, 2, 2, 3, 0, 1, 8, 1, 1,\n",
       "       3, 4, 0, 5, 3, 7, 5, 5, 0, 4, 8, 4, 2, 9, 3, 7, 7, 5, 7, 4, 5, 5,\n",
       "       1, 9, 1, 0, 0, 5, 0, 9, 2, 0, 5, 8, 3, 0, 5, 5, 0, 0])"
      ]
     },
     "execution_count": 253,
     "metadata": {},
     "output_type": "execute_result"
    }
   ],
   "source": [
    "%time my_clf.predict(X_test)"
   ]
  },
  {
   "cell_type": "code",
   "execution_count": 254,
   "metadata": {},
   "outputs": [
    {
     "name": "stdout",
     "output_type": "stream",
     "text": [
      "CPU times: user 1min 2s, sys: 0 ns, total: 1min 2s\n",
      "Wall time: 1min 2s\n"
     ]
    },
    {
     "data": {
      "text/plain": [
       "array([[0., 0., 0., ..., 0., 0., 0.],\n",
       "       [1., 0., 0., ..., 0., 0., 0.],\n",
       "       [0., 1., 0., ..., 0., 0., 0.],\n",
       "       ...,\n",
       "       [0., 0., 0., ..., 0., 0., 0.],\n",
       "       [1., 0., 0., ..., 0., 0., 0.],\n",
       "       [1., 0., 0., ..., 0., 0., 0.]])"
      ]
     },
     "execution_count": 254,
     "metadata": {},
     "output_type": "execute_result"
    }
   ],
   "source": [
    "%time clf.predict_proba(X_test)"
   ]
  },
  {
   "cell_type": "code",
   "execution_count": 255,
   "metadata": {},
   "outputs": [
    {
     "name": "stdout",
     "output_type": "stream",
     "text": [
      "CPU times: user 1min 16s, sys: 152 ms, total: 1min 16s\n",
      "Wall time: 1min 16s\n"
     ]
    },
    {
     "data": {
      "text/plain": [
       "array([[0., 0., 0., ..., 0., 0., 0.],\n",
       "       [1., 0., 0., ..., 0., 0., 0.],\n",
       "       [0., 1., 0., ..., 0., 0., 0.],\n",
       "       ...,\n",
       "       [0., 0., 0., ..., 0., 0., 0.],\n",
       "       [1., 0., 0., ..., 0., 0., 0.],\n",
       "       [1., 0., 0., ..., 0., 0., 0.]])"
      ]
     },
     "execution_count": 255,
     "metadata": {},
     "output_type": "execute_result"
    }
   ],
   "source": [
    "%time my_clf.predict_proba(X_test)"
   ]
  },
  {
   "cell_type": "code",
   "execution_count": 256,
   "metadata": {},
   "outputs": [
    {
     "data": {
      "text/plain": [
       "0.9585714285714285"
      ]
     },
     "execution_count": 256,
     "metadata": {},
     "output_type": "execute_result"
    }
   ],
   "source": [
    "clf.score(X_test, y_test)"
   ]
  },
  {
   "cell_type": "code",
   "execution_count": 257,
   "metadata": {},
   "outputs": [
    {
     "data": {
      "text/plain": [
       "0.9585714285714285"
      ]
     },
     "execution_count": 257,
     "metadata": {},
     "output_type": "execute_result"
    }
   ],
   "source": [
    "my_clf.score(X_test, y_test)"
   ]
  },
  {
   "cell_type": "markdown",
   "metadata": {},
   "source": [
    "Задание 5"
   ]
  },
  {
   "cell_type": "markdown",
   "metadata": {},
   "source": [
    "__seaborn__ - библиотека для визуализации данных, базируется на Matplotlib, оптимизирована для визуализации статистических моделей. Есть встроенные функции для визуализации распределения данных, линейных регрессионных моделей, временных рядов.\n",
    "\n",
    "__matplotlib__ - библиотека для визуализации данных, построения графиков.  \n",
    "\n",
    "__train_test_split__ - функция, котороая разделяет данные на две части: для тестирования и для тренировки. При этом по умолчанию данные перед разделением перемешиваются. \n",
    "\n",
    "__Pipelin%load_ext e (from sklearn.pipeline import Pipeline)__ - конвеер, который инкапсулирует последовательность преобразований данных и выполняет их последовательно одно за другим. С помощью его код становится понятнее.\n",
    "\n",
    "__StandardScaler (from sklearn.preprocessing import StandardScaler)__ - класс, необходимый для который нужен для стандартизации данных, путем вычесления мат. ожидания и деления на дисперсию.\n",
    "\n",
    "__ClassifierMixin__ - класс от которого наследуются все классификаторы в sklearn, также в нём заложен метод score для оценки результатов предсказания.\n",
    "\n",
    "__NeighborsBase__ - базовый класс для оценок ближайших соседей\n",
    "\n",
    "__KNeighborsMixin__ - класс, примесь для поиска k ближайших соседей\n",
    "\n",
    "__SupervisedIntegerMixin__ - класс для модели обучения с учителем, есть метод fit  "
   ]
  }
 ],
 "metadata": {
  "kernelspec": {
   "display_name": "Python 3",
   "language": "python",
   "name": "python3"
  },
  "language_info": {
   "codemirror_mode": {
    "name": "ipython",
    "version": 3
   },
   "file_extension": ".py",
   "mimetype": "text/x-python",
   "name": "python",
   "nbconvert_exporter": "python",
   "pygments_lexer": "ipython3",
   "version": "3.6.6"
  }
 },
 "nbformat": 4,
 "nbformat_minor": 2
}
