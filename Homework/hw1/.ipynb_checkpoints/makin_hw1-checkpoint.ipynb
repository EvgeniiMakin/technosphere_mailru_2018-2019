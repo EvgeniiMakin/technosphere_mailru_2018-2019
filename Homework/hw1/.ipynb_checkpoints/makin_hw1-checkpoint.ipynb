{
 "cells": [
  {
   "cell_type": "markdown",
   "metadata": {},
   "source": [
    "**Общая информация**\n",
    "\n",
    "**Срок сдачи:** 18 октября 2018, 06:00 <br\\>\n",
    "**Штраф за опоздание:** -2 балла после 06:00 18 октября, -4 балла после 06:00 25 октября, -6 баллов после 06:00 1 ноября\n",
    "\n",
    "При отправлении ДЗ указывайте фамилию в названии файла\n",
    "Присылать ДЗ необходимо в виде ссылки на свой github репозиторий в slack @alkhamush\n",
    "\n",
    "Необходимо в slack создать таск в приватный чат:\n",
    "/todo Фамилия Имя ссылка на гитхаб @alkhamush\n",
    "Пример:\n",
    "/todo Ксения Стройкова https://github.com/stroykova/spheremailru/stroykova_hw1.ipynb @alkhamush\n",
    "Дополнительно нужно просто скинуть ссылку в slack в личный чат\n",
    "\n",
    "Используйте данный Ipython Notebook при оформлении домашнего задания."
   ]
  },
  {
   "cell_type": "markdown",
   "metadata": {},
   "source": [
    "###### Задание 1 (2 баллов)\n",
    "Реализовать KNN в классе MyKNeighborsClassifier (обязательное условие: точность не ниже sklearn реализации)\n",
    "Разберитесь самостоятельно, какая мера расстояния используется в KNeighborsClassifier дефолтно и реализуйте свой алгоритм именно с этой мерой. Самостоятельно разберитесь, как считается score из KNeighborsClassifier и реализуйте аналог в своём классе. Score не должен уступать значению KNN из sklearn\n",
    "\n",
    "###### Задание 2 (2 балла)\n",
    "Добиться скорости работы на fit,  predict и predict_proba сравнимой со sklearn для iris и mnist\n",
    "Для этого используем numpy\n",
    "\n",
    "###### Задание 3 (2 балла)\n",
    "Для iris найдите такой параметр n_neighbors, при котором выдаётся наилучший score. Нарисуйте график зависимости score от n_neighbors\n",
    "\n",
    "###### Задание 4 (3 балла)\n",
    "Добавить algorithm='kd_tree' в реализацию KNN (использовать KDTree из sklearn.neighbors). Значение n_neighbors нужно взять из задания 3. Добиться скорости работы на fit,  predict и predict_proba сравнимой со sklearn для iris и mnist\n",
    "Для этого используем numpy. Score не должен уступать значению KNN из sklearn\n",
    "\n",
    "###### Задание 5 (1 балла)\n",
    "Описать для чего нужны следующие библиотеки/классы/функции (список будет ниже)\n",
    "\n",
    "**Штрафные баллы:**\n",
    "\n",
    "1. Невыполнение PEP8 -1 балл\n",
    "2. Отсутствие фамилии в имени скрипта (скрипт должен называться по аналогии со stroykova_hw1.ipynb) -1 балл\n",
    "3. Все строчки должны быть выполнены. Нужно, чтобы output команды можно было увидеть уже в git'е. В противном случае -1 балл\n",
    "4. При оформлении ДЗ нужно пользоваться данным файлом в качестве шаблона. Не нужно удалять и видоизменять структуру кода и текст. В противном случае -1 балл\n"
   ]
  },
  {
   "cell_type": "markdown",
   "metadata": {},
   "source": [
    "Задание 1, 2"
   ]
  },
  {
   "cell_type": "code",
   "execution_count": 140,
   "metadata": {},
   "outputs": [
    {
     "name": "stdout",
     "output_type": "stream",
     "text": [
      "The pycodestyle_magic extension is already loaded. To reload it, use:\n",
      "  %reload_ext pycodestyle_magic\n"
     ]
    }
   ],
   "source": [
    "import numpy as np\n",
    "import matplotlib.pyplot as plt\n",
    "import seaborn as sns\n",
    "\n",
    "from sklearn.neighbors import KDTree\n",
    "from sklearn import datasets\n",
    "from sklearn.base import ClassifierMixin\n",
    "from sklearn.datasets import fetch_mldata\n",
    "from sklearn.neighbors.base import NeighborsBase, KNeighborsMixin, SupervisedIntegerMixin \n",
    "from sklearn.model_selection import train_test_split\n",
    "from sklearn.neighbors import KNeighborsClassifier\n",
    "%load_ext pycodestyle_magic"
   ]
  },
  {
   "cell_type": "code",
   "execution_count": 246,
   "metadata": {},
   "outputs": [],
   "source": [
    "%%pycodestyle\n",
    "\n",
    "\n",
    "class MyKNeighborsClassifier(\n",
    "    NeighborsBase, KNeighborsMixin,\n",
    "    SupervisedIntegerMixin, ClassifierMixin\n",
    "):\n",
    "    \"\"\"Classifier implementing the k-nearest neighbors vote\"\"\"\n",
    "\n",
    "    def __init__(self, n_neighbors, algorithm='brute'):\n",
    "        self.n_neighbors = n_neighbors\n",
    "        self.algorithm = algorithm\n",
    "\n",
    "    def fit(self, X, y):\n",
    "\n",
    "        self._X = np.array(X, dtype=np.float32)\n",
    "        self._y = np.array(y, dtype=np.int)\n",
    "        self._classes = np.unique(self._y)\n",
    "\n",
    "    def pre_predict(self, X):\n",
    "\n",
    "        if self.algorithm == 'brute':\n",
    "            dist_train_X = ((self._X) ** 2).sum(axis=1).reshape(1, -1)\n",
    "            dist_test_X = ((X) ** 2).sum(axis=1).reshape(-1, 1)\n",
    "            distance = dist_train_X + dist_test_X - 2*np.matmul(X, self._X.T)\n",
    "            indices_neighbors = np.argsort(distance)[:, :self.n_neighbors]\n",
    "            class_of_test = self._y[indices_neighbors]\n",
    "\n",
    "        if self.algorithm == 'kd_tree':\n",
    "            tree = KDTree(self._X)\n",
    "            _, ind = tree.query(X, k=self.n_neighbors)\n",
    "            class_of_test = self._y[ind]\n",
    "        return class_of_test\n",
    "\n",
    "    def predict(self, X):\n",
    "\n",
    "        forecast = np.zeros((X.shape[0]))\n",
    "\n",
    "        class_of_test = self.pre_predict(X)\n",
    "        for i, elem in enumerate(class_of_test):\n",
    "            unique, pos = np.unique(elem, return_inverse=True)\n",
    "            maxpos = np.bincount(pos).argmax()\n",
    "            forecast[i] = unique[maxpos]\n",
    "        return forecast\n",
    "\n",
    "    def predict_proba(self, X):\n",
    "\n",
    "        forecast = np.zeros(((X.shape[0]), int(self._y.max())+1))\n",
    "\n",
    "        class_of_test = self.pre_predict(X)\n",
    "        for i, elem in enumerate(class_of_test):\n",
    "            result_of_freq = np.zeros(int(self._y.max())+1)\n",
    "            for j in self._classes:\n",
    "                result_of_freq[j] = sum(elem == j)\n",
    "            forecast[i] = result_of_freq / self.n_neighbors\n",
    "        return forecast\n",
    "\n",
    "    def score(self, X, y):\n",
    "        return sum(self.predict(X) == y) / X.shape[0]"
   ]
  },
  {
   "cell_type": "markdown",
   "metadata": {},
   "source": [
    "**IRIS**"
   ]
  },
  {
   "cell_type": "code",
   "execution_count": 197,
   "metadata": {},
   "outputs": [],
   "source": [
    "iris = datasets.load_iris()"
   ]
  },
  {
   "cell_type": "code",
   "execution_count": 198,
   "metadata": {},
   "outputs": [],
   "source": [
    "X_train, X_test, y_train, y_test = train_test_split(\n",
    "    iris.data, iris.target,\n",
    "    test_size=0.1, stratify=iris.target\n",
    ")"
   ]
  },
  {
   "cell_type": "code",
   "execution_count": 207,
   "metadata": {},
   "outputs": [],
   "source": [
    "clf = KNeighborsClassifier(n_neighbors=2)\n",
    "my_clf = MyKNeighborsClassifier(n_neighbors=2)"
   ]
  },
  {
   "cell_type": "code",
   "execution_count": 208,
   "metadata": {},
   "outputs": [
    {
     "name": "stdout",
     "output_type": "stream",
     "text": [
      "CPU times: user 746 µs, sys: 0 ns, total: 746 µs\n",
      "Wall time: 509 µs\n"
     ]
    },
    {
     "data": {
      "text/plain": [
       "KNeighborsClassifier(algorithm='auto', leaf_size=30, metric='minkowski',\n",
       "           metric_params=None, n_jobs=None, n_neighbors=2, p=2,\n",
       "           weights='uniform')"
      ]
     },
     "execution_count": 208,
     "metadata": {},
     "output_type": "execute_result"
    }
   ],
   "source": [
    "%time clf.fit(X_train, y_train)"
   ]
  },
  {
   "cell_type": "code",
   "execution_count": 209,
   "metadata": {},
   "outputs": [
    {
     "name": "stdout",
     "output_type": "stream",
     "text": [
      "CPU times: user 730 µs, sys: 0 ns, total: 730 µs\n",
      "Wall time: 544 µs\n"
     ]
    }
   ],
   "source": [
    "%time my_clf.fit(X_train, y_train)"
   ]
  },
  {
   "cell_type": "code",
   "execution_count": 210,
   "metadata": {},
   "outputs": [
    {
     "name": "stdout",
     "output_type": "stream",
     "text": [
      "CPU times: user 2.9 ms, sys: 361 µs, total: 3.26 ms\n",
      "Wall time: 2.7 ms\n"
     ]
    },
    {
     "data": {
      "text/plain": [
       "array([2, 1, 0, 2, 1, 1, 0, 1, 2, 0, 1, 2, 2, 0, 0])"
      ]
     },
     "execution_count": 210,
     "metadata": {},
     "output_type": "execute_result"
    }
   ],
   "source": [
    "%time clf.predict(X_test)"
   ]
  },
  {
   "cell_type": "code",
   "execution_count": 211,
   "metadata": {},
   "outputs": [
    {
     "name": "stdout",
     "output_type": "stream",
     "text": [
      "CPU times: user 7.39 ms, sys: 423 µs, total: 7.82 ms\n",
      "Wall time: 4.65 ms\n"
     ]
    },
    {
     "data": {
      "text/plain": [
       "array([2., 1., 0., 2., 1., 1., 0., 1., 2., 0., 1., 2., 2., 0., 0.])"
      ]
     },
     "execution_count": 211,
     "metadata": {},
     "output_type": "execute_result"
    }
   ],
   "source": [
    "%time my_clf.predict(X_test)"
   ]
  },
  {
   "cell_type": "code",
   "execution_count": 212,
   "metadata": {},
   "outputs": [
    {
     "name": "stdout",
     "output_type": "stream",
     "text": [
      "CPU times: user 5.58 ms, sys: 0 ns, total: 5.58 ms\n",
      "Wall time: 3.61 ms\n"
     ]
    },
    {
     "data": {
      "text/plain": [
       "array([[0., 0., 1.],\n",
       "       [0., 1., 0.],\n",
       "       [1., 0., 0.],\n",
       "       [0., 0., 1.],\n",
       "       [0., 1., 0.],\n",
       "       [0., 1., 0.],\n",
       "       [1., 0., 0.],\n",
       "       [0., 1., 0.],\n",
       "       [0., 0., 1.],\n",
       "       [1., 0., 0.],\n",
       "       [0., 1., 0.],\n",
       "       [0., 0., 1.],\n",
       "       [0., 0., 1.],\n",
       "       [1., 0., 0.],\n",
       "       [1., 0., 0.]])"
      ]
     },
     "execution_count": 212,
     "metadata": {},
     "output_type": "execute_result"
    }
   ],
   "source": [
    "%time clf.predict_proba(X_test)"
   ]
  },
  {
   "cell_type": "code",
   "execution_count": 213,
   "metadata": {},
   "outputs": [
    {
     "name": "stdout",
     "output_type": "stream",
     "text": [
      "CPU times: user 750 µs, sys: 7.6 ms, total: 8.35 ms\n",
      "Wall time: 4.99 ms\n"
     ]
    },
    {
     "data": {
      "text/plain": [
       "array([[0., 0., 1.],\n",
       "       [0., 1., 0.],\n",
       "       [1., 0., 0.],\n",
       "       [0., 0., 1.],\n",
       "       [0., 1., 0.],\n",
       "       [0., 1., 0.],\n",
       "       [1., 0., 0.],\n",
       "       [0., 1., 0.],\n",
       "       [0., 0., 1.],\n",
       "       [1., 0., 0.],\n",
       "       [0., 1., 0.],\n",
       "       [0., 0., 1.],\n",
       "       [0., 0., 1.],\n",
       "       [1., 0., 0.],\n",
       "       [1., 0., 0.]])"
      ]
     },
     "execution_count": 213,
     "metadata": {},
     "output_type": "execute_result"
    }
   ],
   "source": [
    "%time my_clf.predict_proba(X_test)"
   ]
  },
  {
   "cell_type": "code",
   "execution_count": 214,
   "metadata": {},
   "outputs": [
    {
     "data": {
      "text/plain": [
       "1.0"
      ]
     },
     "execution_count": 214,
     "metadata": {},
     "output_type": "execute_result"
    }
   ],
   "source": [
    "clf.score(X_test, y_test)"
   ]
  },
  {
   "cell_type": "code",
   "execution_count": 215,
   "metadata": {},
   "outputs": [
    {
     "data": {
      "text/plain": [
       "1.0"
      ]
     },
     "execution_count": 215,
     "metadata": {},
     "output_type": "execute_result"
    }
   ],
   "source": [
    "my_clf.score(X_test, y_test)"
   ]
  },
  {
   "cell_type": "markdown",
   "metadata": {},
   "source": [
    "Задание 3"
   ]
  },
  {
   "cell_type": "code",
   "execution_count": 247,
   "metadata": {},
   "outputs": [
    {
     "data": {
      "image/png": "[encoded data removed]",
      "text/plain": [
       "<Figure size 1080x864 with 2 Axes>"
      ]
     },
     "metadata": {
      "needs_background": "light"
     },
     "output_type": "display_data"
    }
   ],
   "source": [
    "Max_N = 31\n",
    "Number_of_test = 200\n",
    "MyKNN_train_score = np.zeros(Max_N-1)\n",
    "MyKNN_test_score = np.zeros(Max_N-1)\n",
    "KNN_train_score = np.zeros(Max_N-1)\n",
    "KNN_test_score = np.zeros(Max_N-1)\n",
    "x_ax = np.arange(1, Max_N)\n",
    "for i in range(1, Max_N):\n",
    "    MyKNN_test = []\n",
    "    MyKNN_train = []\n",
    "    KNN_test = []\n",
    "    KNN_train = []\n",
    "    for j in range(Number_of_test):\n",
    "        iris = datasets.load_iris()\n",
    "        X_train, X_test, y_train, y_test = train_test_split(\n",
    "            iris.data, iris.target,\n",
    "            test_size=0.1, stratify=iris.target\n",
    "        )\n",
    "        my_clf = MyKNeighborsClassifier(n_neighbors=i)\n",
    "        my_clf.fit(X_train, y_train)\n",
    "        MyKNN_test.append(my_clf.score(X_test, y_test))\n",
    "        MyKNN_train.append(my_clf.score(X_train, y_train))\n",
    "\n",
    "        clf = KNeighborsClassifier(n_neighbors=i)\n",
    "        clf.fit(X_train, y_train)\n",
    "        KNN_test.append(clf.score(X_test, y_test))\n",
    "        KNN_train.append(clf.score(X_train, y_train))\n",
    "        \n",
    "    MyKNN_train_score[i-1] = np.mean(MyKNN_train)\n",
    "    MyKNN_test_score[i-1] = np.mean(MyKNN_test)\n",
    "    KNN_train_score[i-1] = np.mean(KNN_train)\n",
    "    KNN_test_score[i-1] = np.mean(KNN_test)\n",
    "\n",
    "# plots\n",
    "plt.figure(figsize=(15, 12))\n",
    "\n",
    "plt.subplot(2, 1, 1)\n",
    "plt.xlim(1, Max_N-1)\n",
    "plt.title(\"Sklearn KNN\")\n",
    "plt.plot(np.arange(1, Max_N), KNN_test_score, label=\"test\", color=\"orange\")\n",
    "plt.plot(np.arange(1, Max_N), KNN_train_score, label=\"train\", color=\"blue\")\n",
    "plt.xlabel('Number of neighbors')\n",
    "plt.ylabel('Accurasy')\n",
    "plt.legend()\n",
    "plt.grid(linestyle='--', linewidth=1)\n",
    "\n",
    "plt.subplot(2, 1, 2)\n",
    "plt.xlim(1, Max_N-1)\n",
    "plt.title(\"My KNN\")\n",
    "plt.plot(np.arange(1, Max_N), MyKNN_test_score, label=\"test\", color=\"orange\")\n",
    "plt.plot(np.arange(1, Max_N), MyKNN_train_score, label=\"train\", color=\"blue\")\n",
    "plt.xlabel('Number of neighbors')\n",
    "plt.ylabel('Accurasy')\n",
    "plt.legend()\n",
    "plt.grid(linestyle='--', linewidth=1)\n",
    "plt.show()"
   ]
  },
  {
   "cell_type": "code",
   "execution_count": 248,
   "metadata": {},
   "outputs": [
    {
     "name": "stdout",
     "output_type": "stream",
     "text": [
      "---------------- Топ 10 ----------------\n",
      "Количество соседей =  18  -> Score =  0.977\n",
      "Количество соседей =  14  -> Score =  0.975\n",
      "Количество соседей =  13  -> Score =  0.974\n",
      "Количество соседей =  11  -> Score =  0.974\n",
      "Количество соседей =  16  -> Score =  0.973\n",
      "Количество соседей =  19  -> Score =  0.97\n",
      "Количество соседей =  15  -> Score =  0.97\n",
      "Количество соседей =  17  -> Score =  0.97\n",
      "Количество соседей =  5  -> Score =  0.967\n",
      "Количество соседей =  7  -> Score =  0.967\n",
      "----------------------------------------\n",
      "Лучший результат получается если количество соседей =  18\n"
     ]
    }
   ],
   "source": [
    "k_of_n = [i+1 for i in reversed(np.argsort(MyKNN_test_score))]\n",
    "N = 10\n",
    "print(\"-\"*16, \"Топ\", N, \"-\"*16)\n",
    "for i in range(N):\n",
    "    print(\"Количество соседей = \", k_of_n[i],\n",
    "          \" -> Score = \", round(MyKNN_test_score[k_of_n[i]-1], 3))\n",
    "print(\"-\"*40)\n",
    "print(\"Лучший результат получается если количество соседей = \", k_of_n[0])"
   ]
  },
  {
   "cell_type": "markdown",
   "metadata": {},
   "source": [
    "**MNIST**"
   ]
  },
  {
   "cell_type": "code",
   "execution_count": 218,
   "metadata": {},
   "outputs": [],
   "source": [
    "#does't work\n",
    "#mnist = fetch_mldata('MNIST original')"
   ]
  },
  {
   "cell_type": "code",
   "execution_count": 219,
   "metadata": {},
   "outputs": [
    {
     "name": "stderr",
     "output_type": "stream",
     "text": [
      "/home/evgenii/.local/lib/python3.6/site-packages/sklearn/utils/deprecation.py:77: DeprecationWarning: Function fetch_mldata is deprecated; fetch_mldata was deprecated in version 0.20 and will be removed in version 0.22\n",
      "  warnings.warn(msg, category=DeprecationWarning)\n",
      "/home/evgenii/.local/lib/python3.6/site-packages/sklearn/utils/deprecation.py:77: DeprecationWarning: Function mldata_filename is deprecated; mldata_filename was deprecated in version 0.20 and will be removed in version 0.22\n",
      "  warnings.warn(msg, category=DeprecationWarning)\n"
     ]
    },
    {
     "name": "stdout",
     "output_type": "stream",
     "text": [
      "Could not download MNIST data from mldata.org trying alternative...\n",
      "Success!\n"
     ]
    }
   ],
   "source": [
    "from six.moves import urllib\n",
    "from sklearn.datasets import fetch_mldata\n",
    "try:\n",
    "    mnist = fetch_mldata('MNIST original')\n",
    "except:\n",
    "    print(\"Could not download MNIST data from mldata.org\",\n",
    "          \"trying alternative...\")\n",
    "\n",
    "    # Alternative method to load MNIST, if mldata.org is down\n",
    "    from scipy.io import loadmat\n",
    "    mnist_alternative_url = \"https://github.com/amplab/datascience-sp14/raw/master/lab7/mldata/mnist-original.mat\"\n",
    "    mnist_path = \"./mnist-original.mat\"\n",
    "    response = urllib.request.urlopen(mnist_alternative_url)\n",
    "    with open(mnist_path, \"wb\") as f:\n",
    "        content = response.read()\n",
    "        f.write(content)\n",
    "    mnist_raw = loadmat(mnist_path)\n",
    "    mnist = {\n",
    "        'data': mnist_raw[\"data\"].T,\n",
    "        'target': mnist_raw[\"label\"][0],\n",
    "        \"COL_NAMES\": [\"label\", \"data\"],\n",
    "        \"DESCR\": \"mldata.org dataset: mnist-original\",\n",
    "    }\n",
    "    print(\"Success!\")"
   ]
  },
  {
   "cell_type": "code",
   "execution_count": 220,
   "metadata": {},
   "outputs": [
    {
     "data": {
      "text/plain": [
       "(70000, 784)"
      ]
     },
     "execution_count": 220,
     "metadata": {},
     "output_type": "execute_result"
    }
   ],
   "source": [
    "#does't work\n",
    "#X_train, X_test, y_train, y_test = train_test_split(\n",
    "#    mnist.data, mnist.target,\n",
    "#    test_size=0.01, stratify=mnist.target\n",
    "#)\n",
    "mnist['data'].shape"
   ]
  },
  {
   "cell_type": "code",
   "execution_count": 221,
   "metadata": {},
   "outputs": [],
   "source": [
    "X_train, X_test, y_train, y_test = train_test_split(\n",
    "    mnist['data'], mnist['target'],\n",
    "    test_size=0.01, stratify=mnist['target']\n",
    ")"
   ]
  },
  {
   "cell_type": "code",
   "execution_count": 222,
   "metadata": {},
   "outputs": [],
   "source": [
    "clf = KNeighborsClassifier(n_neighbors=18)\n",
    "my_clf = MyKNeighborsClassifier(n_neighbors=18)"
   ]
  },
  {
   "cell_type": "code",
   "execution_count": 223,
   "metadata": {},
   "outputs": [
    {
     "name": "stdout",
     "output_type": "stream",
     "text": [
      "CPU times: user 21.4 s, sys: 134 ms, total: 21.5 s\n",
      "Wall time: 21.5 s\n"
     ]
    },
    {
     "data": {
      "text/plain": [
       "KNeighborsClassifier(algorithm='auto', leaf_size=30, metric='minkowski',\n",
       "           metric_params=None, n_jobs=None, n_neighbors=19, p=2,\n",
       "           weights='uniform')"
      ]
     },
     "execution_count": 223,
     "metadata": {},
     "output_type": "execute_result"
    }
   ],
   "source": [
    "%time clf.fit(X_train, y_train)"
   ]
  },
  {
   "cell_type": "code",
   "execution_count": 224,
   "metadata": {},
   "outputs": [
    {
     "name": "stdout",
     "output_type": "stream",
     "text": [
      "CPU times: user 27.2 ms, sys: 36.2 ms, total: 63.3 ms\n",
      "Wall time: 62.3 ms\n"
     ]
    }
   ],
   "source": [
    "%time my_clf.fit(X_train, y_train)"
   ]
  },
  {
   "cell_type": "code",
   "execution_count": 225,
   "metadata": {},
   "outputs": [
    {
     "name": "stdout",
     "output_type": "stream",
     "text": [
      "CPU times: user 58.8 s, sys: 0 ns, total: 58.8 s\n",
      "Wall time: 58.8 s\n"
     ]
    },
    {
     "data": {
      "text/plain": [
       "array([5., 0., 6., 8., 7., 4., 0., 0., 9., 1., 0., 3., 6., 9., 2., 3., 3.,\n",
       "       1., 9., 8., 5., 4., 9., 9., 7., 9., 0., 3., 6., 3., 8., 7., 8., 6.,\n",
       "       1., 7., 0., 7., 2., 0., 8., 7., 0., 1., 6., 7., 9., 1., 7., 7., 3.,\n",
       "       8., 8., 0., 1., 8., 3., 4., 8., 5., 4., 4., 6., 7., 5., 2., 2., 9.,\n",
       "       1., 5., 4., 8., 8., 2., 6., 3., 1., 7., 2., 5., 2., 2., 0., 7., 3.,\n",
       "       0., 0., 7., 6., 8., 5., 0., 9., 9., 4., 9., 9., 7., 5., 6., 4., 8.,\n",
       "       4., 1., 9., 7., 3., 0., 8., 9., 3., 7., 7., 1., 1., 0., 3., 2., 7.,\n",
       "       6., 5., 3., 4., 4., 2., 2., 1., 3., 4., 6., 0., 4., 6., 4., 3., 5.,\n",
       "       1., 2., 1., 4., 5., 7., 7., 9., 9., 7., 3., 4., 4., 2., 6., 9., 0.,\n",
       "       3., 7., 9., 9., 3., 2., 8., 5., 5., 7., 6., 1., 7., 6., 2., 2., 4.,\n",
       "       4., 9., 0., 0., 1., 2., 3., 7., 7., 4., 7., 5., 6., 8., 5., 7., 1.,\n",
       "       1., 7., 7., 9., 9., 3., 6., 8., 6., 6., 3., 7., 1., 0., 0., 1., 2.,\n",
       "       5., 4., 6., 1., 2., 8., 4., 1., 0., 0., 9., 2., 9., 2., 1., 3., 3.,\n",
       "       9., 7., 7., 6., 2., 5., 6., 1., 4., 8., 8., 7., 1., 7., 1., 1., 0.,\n",
       "       9., 5., 5., 9., 2., 2., 7., 1., 5., 9., 3., 5., 0., 4., 2., 8., 8.,\n",
       "       8., 4., 7., 8., 0., 3., 6., 0., 1., 1., 2., 2., 8., 5., 1., 4., 9.,\n",
       "       5., 7., 1., 8., 3., 3., 9., 4., 0., 6., 4., 8., 9., 6., 1., 1., 4.,\n",
       "       3., 1., 9., 5., 5., 8., 3., 7., 1., 5., 6., 6., 5., 1., 4., 6., 1.,\n",
       "       4., 6., 2., 7., 1., 6., 9., 4., 4., 4., 5., 4., 5., 5., 2., 6., 5.,\n",
       "       3., 3., 2., 4., 0., 5., 7., 9., 9., 6., 8., 4., 0., 6., 4., 6., 2.,\n",
       "       4., 3., 8., 0., 0., 4., 8., 9., 3., 7., 9., 4., 6., 4., 0., 6., 8.,\n",
       "       0., 8., 9., 5., 1., 0., 1., 9., 9., 3., 2., 9., 4., 0., 0., 2., 3.,\n",
       "       7., 5., 2., 9., 8., 0., 5., 7., 9., 2., 8., 1., 5., 6., 3., 3., 8.,\n",
       "       1., 8., 6., 1., 3., 1., 4., 3., 0., 2., 1., 6., 7., 5., 5., 7., 9.,\n",
       "       4., 9., 0., 9., 1., 1., 1., 4., 4., 6., 3., 9., 1., 9., 5., 0., 8.,\n",
       "       9., 0., 6., 9., 8., 9., 3., 2., 5., 8., 4., 4., 5., 1., 0., 2., 8.,\n",
       "       3., 3., 8., 2., 7., 0., 1., 3., 7., 6., 8., 4., 7., 1., 7., 3., 0.,\n",
       "       2., 4., 4., 2., 4., 7., 8., 2., 0., 3., 4., 8., 0., 3., 6., 3., 3.,\n",
       "       9., 3., 6., 1., 6., 6., 2., 1., 3., 7., 6., 5., 6., 3., 2., 9., 0.,\n",
       "       9., 1., 0., 1., 5., 3., 3., 9., 0., 2., 7., 3., 4., 8., 5., 2., 1.,\n",
       "       3., 1., 7., 2., 5., 8., 0., 5., 4., 3., 7., 6., 7., 3., 1., 7., 0.,\n",
       "       1., 0., 6., 1., 8., 6., 2., 9., 2., 6., 7., 6., 2., 2., 6., 7., 2.,\n",
       "       2., 9., 9., 1., 5., 0., 2., 1., 0., 7., 7., 7., 4., 3., 8., 7., 1.,\n",
       "       9., 6., 5., 8., 4., 9., 5., 1., 9., 0., 9., 0., 5., 1., 2., 0., 0.,\n",
       "       3., 2., 6., 1., 4., 2., 4., 7., 8., 1., 5., 7., 8., 5., 8., 0., 5.,\n",
       "       7., 8., 7., 2., 3., 4., 1., 4., 2., 1., 4., 4., 8., 5., 1., 2., 1.,\n",
       "       8., 8., 2., 4., 7., 2., 3., 7., 7., 8., 5., 4., 0., 6., 6., 0., 6.,\n",
       "       4., 6., 1., 5., 7., 9., 9., 8., 5., 1., 7., 8., 0., 1., 3., 2., 0.,\n",
       "       9., 3., 6., 8., 6., 1., 0., 3., 3., 2., 5., 1., 6., 1., 2., 3., 5.,\n",
       "       6., 6., 1., 2., 5., 0., 1., 9., 8., 8., 3., 0., 6., 9., 9., 6., 3.,\n",
       "       3., 7., 7., 3., 4., 8., 2., 6., 4., 0., 2., 9., 7., 5., 6., 6., 5.,\n",
       "       1., 5., 5.])"
      ]
     },
     "execution_count": 225,
     "metadata": {},
     "output_type": "execute_result"
    }
   ],
   "source": [
    "%time clf.predict(X_test)"
   ]
  },
  {
   "cell_type": "code",
   "execution_count": 226,
   "metadata": {},
   "outputs": [
    {
     "name": "stdout",
     "output_type": "stream",
     "text": [
      "CPU times: user 7.09 s, sys: 968 ms, total: 8.05 s\n",
      "Wall time: 4.3 s\n"
     ]
    },
    {
     "data": {
      "text/plain": [
       "array([5., 0., 6., 8., 7., 4., 0., 0., 9., 1., 0., 3., 6., 9., 2., 3., 3.,\n",
       "       1., 9., 8., 5., 4., 9., 9., 7., 9., 0., 3., 6., 3., 8., 7., 8., 6.,\n",
       "       1., 7., 0., 7., 2., 0., 8., 7., 0., 1., 6., 7., 9., 1., 7., 7., 3.,\n",
       "       8., 8., 0., 1., 8., 3., 4., 8., 5., 4., 4., 6., 7., 5., 2., 2., 9.,\n",
       "       1., 5., 4., 8., 8., 2., 6., 3., 1., 7., 2., 5., 2., 2., 0., 7., 3.,\n",
       "       0., 0., 7., 6., 8., 5., 0., 9., 9., 4., 9., 9., 7., 5., 6., 4., 8.,\n",
       "       4., 1., 9., 7., 3., 0., 8., 9., 3., 7., 7., 1., 1., 0., 3., 2., 7.,\n",
       "       6., 5., 3., 4., 4., 2., 2., 1., 3., 4., 6., 0., 4., 6., 4., 3., 5.,\n",
       "       1., 2., 1., 4., 5., 7., 7., 9., 9., 7., 3., 4., 4., 2., 6., 9., 0.,\n",
       "       3., 7., 9., 9., 3., 2., 8., 5., 5., 7., 6., 1., 7., 6., 2., 2., 4.,\n",
       "       4., 9., 0., 0., 1., 2., 3., 7., 7., 4., 7., 5., 6., 8., 5., 7., 1.,\n",
       "       1., 7., 7., 9., 9., 3., 6., 8., 6., 6., 3., 7., 1., 0., 0., 1., 2.,\n",
       "       5., 4., 6., 1., 2., 8., 4., 1., 0., 0., 9., 2., 9., 2., 1., 3., 3.,\n",
       "       9., 7., 7., 6., 2., 5., 6., 1., 4., 8., 8., 7., 1., 7., 1., 1., 0.,\n",
       "       9., 5., 5., 9., 2., 2., 7., 1., 5., 9., 3., 5., 0., 4., 2., 8., 8.,\n",
       "       8., 4., 7., 8., 0., 3., 6., 0., 1., 1., 2., 2., 8., 5., 1., 4., 9.,\n",
       "       5., 7., 1., 8., 3., 3., 9., 4., 0., 6., 4., 8., 9., 6., 1., 1., 4.,\n",
       "       3., 1., 9., 5., 5., 8., 3., 7., 1., 5., 6., 6., 5., 1., 4., 6., 1.,\n",
       "       4., 6., 2., 7., 1., 6., 9., 4., 4., 4., 5., 4., 5., 5., 2., 6., 5.,\n",
       "       3., 3., 2., 4., 0., 5., 7., 9., 9., 6., 8., 4., 0., 6., 4., 6., 2.,\n",
       "       4., 3., 8., 0., 0., 4., 8., 9., 3., 7., 9., 4., 6., 4., 0., 6., 8.,\n",
       "       0., 8., 9., 5., 1., 0., 1., 9., 9., 3., 2., 9., 4., 0., 0., 2., 3.,\n",
       "       7., 5., 2., 9., 8., 0., 5., 7., 9., 2., 8., 1., 5., 6., 3., 3., 8.,\n",
       "       1., 8., 6., 1., 3., 1., 4., 3., 0., 2., 1., 6., 7., 5., 5., 7., 9.,\n",
       "       4., 9., 0., 9., 1., 1., 1., 4., 4., 6., 3., 9., 1., 9., 5., 0., 8.,\n",
       "       9., 0., 6., 9., 8., 9., 3., 2., 5., 8., 4., 4., 5., 1., 0., 2., 8.,\n",
       "       3., 3., 8., 2., 7., 0., 1., 3., 7., 6., 8., 4., 7., 1., 7., 3., 0.,\n",
       "       2., 4., 4., 2., 4., 7., 8., 2., 0., 3., 4., 8., 0., 3., 6., 3., 3.,\n",
       "       9., 3., 6., 1., 6., 6., 2., 1., 3., 7., 6., 5., 6., 3., 2., 9., 0.,\n",
       "       9., 1., 0., 1., 5., 3., 3., 9., 0., 2., 7., 3., 4., 8., 5., 2., 1.,\n",
       "       3., 1., 7., 2., 5., 8., 0., 5., 4., 3., 7., 6., 7., 3., 1., 7., 0.,\n",
       "       1., 0., 6., 1., 8., 6., 2., 9., 2., 6., 7., 6., 2., 2., 6., 7., 2.,\n",
       "       2., 9., 9., 1., 5., 0., 2., 1., 0., 7., 7., 7., 4., 3., 8., 7., 1.,\n",
       "       9., 6., 5., 8., 4., 9., 5., 1., 9., 0., 9., 0., 5., 1., 2., 0., 0.,\n",
       "       3., 2., 6., 1., 4., 2., 4., 7., 8., 1., 5., 7., 8., 5., 8., 0., 5.,\n",
       "       7., 8., 7., 2., 3., 4., 1., 4., 2., 1., 4., 4., 8., 5., 1., 2., 1.,\n",
       "       8., 8., 2., 4., 7., 2., 3., 7., 7., 8., 5., 4., 0., 6., 6., 0., 6.,\n",
       "       4., 6., 1., 5., 7., 9., 9., 8., 5., 1., 7., 8., 0., 1., 3., 2., 0.,\n",
       "       9., 3., 6., 8., 6., 1., 0., 3., 3., 2., 5., 1., 6., 1., 2., 3., 5.,\n",
       "       6., 6., 1., 2., 5., 0., 1., 9., 8., 8., 3., 0., 6., 9., 9., 6., 3.,\n",
       "       3., 7., 7., 3., 4., 8., 2., 6., 4., 0., 2., 9., 7., 5., 6., 6., 5.,\n",
       "       1., 5., 5.])"
      ]
     },
     "execution_count": 226,
     "metadata": {},
     "output_type": "execute_result"
    }
   ],
   "source": [
    "%time my_clf.predict(X_test)"
   ]
  },
  {
   "cell_type": "code",
   "execution_count": 227,
   "metadata": {},
   "outputs": [
    {
     "name": "stdout",
     "output_type": "stream",
     "text": [
      "CPU times: user 1min 2s, sys: 0 ns, total: 1min 2s\n",
      "Wall time: 1min 2s\n"
     ]
    },
    {
     "data": {
      "text/plain": [
       "array([[0.        , 0.        , 0.        , ..., 0.        , 0.        ,\n",
       "        0.        ],\n",
       "       [1.        , 0.        , 0.        , ..., 0.        , 0.        ,\n",
       "        0.        ],\n",
       "       [0.        , 0.        , 0.        , ..., 0.        , 0.        ,\n",
       "        0.        ],\n",
       "       ...,\n",
       "       [0.        , 1.        , 0.        , ..., 0.        , 0.        ,\n",
       "        0.        ],\n",
       "       [0.        , 0.        , 0.        , ..., 0.        , 0.        ,\n",
       "        0.47368421],\n",
       "       [0.        , 0.        , 0.        , ..., 0.        , 0.        ,\n",
       "        0.        ]])"
      ]
     },
     "execution_count": 227,
     "metadata": {},
     "output_type": "execute_result"
    }
   ],
   "source": [
    "%time clf.predict_proba(X_test)"
   ]
  },
  {
   "cell_type": "code",
   "execution_count": 228,
   "metadata": {},
   "outputs": [
    {
     "name": "stdout",
     "output_type": "stream",
     "text": [
      "CPU times: user 7.18 s, sys: 1.01 s, total: 8.19 s\n",
      "Wall time: 4.48 s\n"
     ]
    },
    {
     "data": {
      "text/plain": [
       "array([[0.        , 0.        , 0.        , ..., 0.        , 0.        ,\n",
       "        0.        ],\n",
       "       [1.        , 0.        , 0.        , ..., 0.        , 0.        ,\n",
       "        0.        ],\n",
       "       [0.        , 0.        , 0.        , ..., 0.        , 0.        ,\n",
       "        0.        ],\n",
       "       ...,\n",
       "       [0.        , 1.        , 0.        , ..., 0.        , 0.        ,\n",
       "        0.        ],\n",
       "       [0.        , 0.        , 0.        , ..., 0.        , 0.        ,\n",
       "        0.47368421],\n",
       "       [0.        , 0.        , 0.        , ..., 0.        , 0.        ,\n",
       "        0.        ]])"
      ]
     },
     "execution_count": 228,
     "metadata": {},
     "output_type": "execute_result"
    }
   ],
   "source": [
    "%time my_clf.predict_proba(X_test)"
   ]
  },
  {
   "cell_type": "code",
   "execution_count": 229,
   "metadata": {},
   "outputs": [
    {
     "data": {
      "text/plain": [
       "0.9728571428571429"
      ]
     },
     "execution_count": 229,
     "metadata": {},
     "output_type": "execute_result"
    }
   ],
   "source": [
    "clf.score(X_test, y_test)"
   ]
  },
  {
   "cell_type": "code",
   "execution_count": 230,
   "metadata": {},
   "outputs": [
    {
     "data": {
      "text/plain": [
       "0.9728571428571429"
      ]
     },
     "execution_count": 230,
     "metadata": {},
     "output_type": "execute_result"
    }
   ],
   "source": [
    "my_clf.score(X_test, y_test)"
   ]
  },
  {
   "cell_type": "markdown",
   "metadata": {},
   "source": [
    "Задание 4"
   ]
  },
  {
   "cell_type": "code",
   "execution_count": 231,
   "metadata": {},
   "outputs": [],
   "source": [
    "clf = KNeighborsClassifier(n_neighbors=18, algorithm='kd_tree')\n",
    "my_clf = MyKNeighborsClassifier(n_neighbors=18, algorithm='kd_tree')"
   ]
  },
  {
   "cell_type": "code",
   "execution_count": 232,
   "metadata": {},
   "outputs": [],
   "source": [
    "#does't work\n",
    "#X_train, X_test, y_train, y_test = train_test_split(\n",
    "#    mnist.data, mnist.target,\n",
    "#    test_size=0.01, stratify=mnist.target\n",
    "#)"
   ]
  },
  {
   "cell_type": "code",
   "execution_count": 233,
   "metadata": {},
   "outputs": [],
   "source": [
    "X_train, X_test, y_train, y_test = train_test_split(\n",
    "    mnist['data'], mnist['target'],\n",
    "    test_size=0.01, stratify=mnist['target']\n",
    ")"
   ]
  },
  {
   "cell_type": "code",
   "execution_count": 234,
   "metadata": {},
   "outputs": [
    {
     "name": "stdout",
     "output_type": "stream",
     "text": [
      "CPU times: user 21.2 s, sys: 131 ms, total: 21.3 s\n",
      "Wall time: 21.3 s\n"
     ]
    },
    {
     "data": {
      "text/plain": [
       "KNeighborsClassifier(algorithm='kd_tree', leaf_size=30, metric='minkowski',\n",
       "           metric_params=None, n_jobs=None, n_neighbors=19, p=2,\n",
       "           weights='uniform')"
      ]
     },
     "execution_count": 234,
     "metadata": {},
     "output_type": "execute_result"
    }
   ],
   "source": [
    "%time clf.fit(X_train, y_train)"
   ]
  },
  {
   "cell_type": "code",
   "execution_count": 235,
   "metadata": {},
   "outputs": [
    {
     "name": "stdout",
     "output_type": "stream",
     "text": [
      "CPU times: user 23.5 ms, sys: 40 ms, total: 63.5 ms\n",
      "Wall time: 62.5 ms\n"
     ]
    }
   ],
   "source": [
    "%time my_clf.fit(X_train, y_train)"
   ]
  },
  {
   "cell_type": "code",
   "execution_count": 236,
   "metadata": {},
   "outputs": [
    {
     "name": "stdout",
     "output_type": "stream",
     "text": [
      "CPU times: user 1min, sys: 0 ns, total: 1min\n",
      "Wall time: 1min\n"
     ]
    },
    {
     "data": {
      "text/plain": [
       "array([0., 1., 3., 3., 9., 9., 3., 5., 9., 4., 1., 7., 1., 2., 5., 2., 9.,\n",
       "       2., 2., 1., 4., 8., 5., 7., 8., 5., 8., 7., 2., 1., 4., 6., 7., 1.,\n",
       "       9., 9., 0., 3., 1., 8., 8., 2., 0., 3., 4., 3., 1., 3., 9., 6., 6.,\n",
       "       1., 0., 4., 1., 0., 6., 6., 7., 2., 4., 3., 1., 5., 2., 4., 2., 9.,\n",
       "       2., 0., 2., 2., 6., 0., 9., 9., 6., 0., 7., 7., 2., 7., 3., 4., 9.,\n",
       "       2., 8., 6., 8., 8., 0., 8., 6., 4., 8., 9., 2., 2., 9., 3., 1., 6.,\n",
       "       1., 2., 0., 8., 7., 4., 8., 4., 7., 8., 2., 6., 0., 7., 5., 9., 5.,\n",
       "       0., 3., 9., 4., 4., 9., 2., 7., 4., 7., 1., 1., 7., 8., 0., 0., 0.,\n",
       "       5., 8., 5., 7., 1., 1., 9., 9., 3., 6., 4., 1., 5., 0., 5., 5., 2.,\n",
       "       4., 4., 4., 4., 3., 4., 8., 1., 7., 4., 7., 0., 3., 3., 4., 5., 2.,\n",
       "       4., 1., 0., 7., 5., 3., 0., 0., 1., 2., 3., 5., 5., 4., 7., 7., 8.,\n",
       "       4., 2., 1., 4., 5., 3., 7., 1., 0., 3., 6., 7., 0., 0., 9., 8., 8.,\n",
       "       4., 6., 0., 3., 1., 0., 2., 7., 5., 9., 2., 1., 7., 7., 3., 3., 9.,\n",
       "       2., 6., 8., 7., 0., 7., 5., 2., 5., 8., 6., 4., 0., 7., 6., 3., 7.,\n",
       "       0., 0., 0., 4., 7., 4., 3., 4., 5., 1., 3., 7., 4., 6., 9., 0., 0.,\n",
       "       1., 8., 7., 8., 5., 9., 3., 5., 8., 8., 0., 1., 3., 4., 1., 0., 5.,\n",
       "       0., 7., 2., 7., 0., 8., 4., 7., 6., 1., 3., 6., 0., 6., 5., 0., 9.,\n",
       "       8., 3., 2., 5., 2., 1., 5., 3., 7., 5., 2., 7., 7., 7., 2., 3., 6.,\n",
       "       4., 7., 5., 6., 9., 5., 3., 3., 5., 7., 9., 1., 6., 0., 7., 6., 7.,\n",
       "       2., 2., 3., 1., 8., 2., 0., 6., 6., 3., 9., 8., 2., 6., 4., 6., 5.,\n",
       "       3., 7., 2., 7., 2., 7., 5., 5., 6., 9., 1., 5., 4., 3., 2., 4., 9.,\n",
       "       6., 7., 8., 5., 8., 1., 7., 8., 3., 7., 9., 7., 8., 5., 2., 0., 5.,\n",
       "       1., 0., 9., 5., 6., 6., 6., 5., 3., 3., 6., 1., 6., 8., 5., 9., 0.,\n",
       "       1., 0., 1., 1., 2., 8., 0., 4., 8., 4., 6., 3., 1., 6., 2., 0., 7.,\n",
       "       3., 7., 5., 6., 3., 5., 9., 5., 9., 0., 6., 4., 0., 9., 5., 4., 3.,\n",
       "       9., 3., 4., 3., 2., 6., 0., 8., 1., 4., 6., 8., 5., 3., 0., 3., 9.,\n",
       "       3., 1., 5., 2., 2., 2., 9., 7., 4., 4., 2., 6., 1., 2., 3., 9., 4.,\n",
       "       1., 1., 6., 1., 4., 4., 9., 6., 0., 8., 5., 7., 1., 9., 6., 4., 0.,\n",
       "       4., 3., 7., 4., 7., 6., 1., 3., 4., 8., 9., 6., 7., 2., 6., 4., 6.,\n",
       "       2., 2., 4., 2., 3., 8., 6., 5., 0., 4., 5., 2., 1., 1., 0., 6., 1.,\n",
       "       3., 1., 1., 9., 6., 9., 8., 6., 7., 7., 8., 3., 9., 2., 2., 7., 6.,\n",
       "       1., 7., 9., 9., 0., 6., 9., 8., 5., 1., 6., 9., 6., 2., 8., 6., 9.,\n",
       "       1., 5., 7., 9., 1., 5., 3., 8., 5., 8., 9., 8., 9., 8., 9., 8., 1.,\n",
       "       3., 3., 8., 8., 8., 8., 4., 4., 6., 4., 0., 1., 5., 6., 1., 8., 2.,\n",
       "       1., 9., 2., 7., 7., 7., 7., 0., 3., 9., 8., 3., 8., 0., 2., 1., 6.,\n",
       "       4., 6., 9., 9., 9., 1., 7., 6., 2., 1., 7., 7., 3., 8., 1., 1., 4.,\n",
       "       0., 7., 5., 2., 3., 1., 9., 3., 1., 2., 4., 1., 3., 3., 5., 7., 3.,\n",
       "       8., 0., 5., 1., 3., 7., 6., 7., 0., 1., 9., 9., 8., 0., 9., 0., 2.,\n",
       "       4., 3., 6., 8., 8., 2., 0., 9., 9., 1., 6., 9., 2., 5., 2., 6., 0.,\n",
       "       1., 7., 2., 8., 1., 3., 0., 9., 5., 7., 9., 8., 8., 4., 1., 0., 0.,\n",
       "       1., 6., 8., 4., 4., 8., 2., 5., 5., 5., 5., 0., 3., 7., 1., 4., 4.,\n",
       "       0., 1., 4.])"
      ]
     },
     "execution_count": 236,
     "metadata": {},
     "output_type": "execute_result"
    }
   ],
   "source": [
    "%time clf.predict(X_test)"
   ]
  },
  {
   "cell_type": "code",
   "execution_count": 237,
   "metadata": {},
   "outputs": [
    {
     "name": "stdout",
     "output_type": "stream",
     "text": [
      "CPU times: user 1min 10s, sys: 157 ms, total: 1min 10s\n",
      "Wall time: 1min 10s\n"
     ]
    },
    {
     "data": {
      "text/plain": [
       "array([0., 1., 3., 3., 9., 9., 3., 5., 9., 4., 1., 7., 1., 2., 5., 2., 9.,\n",
       "       2., 2., 1., 4., 8., 5., 7., 8., 5., 8., 7., 2., 1., 4., 6., 7., 1.,\n",
       "       9., 9., 0., 3., 1., 8., 8., 2., 0., 3., 4., 3., 1., 3., 9., 6., 6.,\n",
       "       1., 0., 4., 1., 0., 6., 6., 7., 2., 4., 3., 1., 5., 2., 4., 2., 9.,\n",
       "       2., 0., 2., 2., 6., 0., 9., 9., 6., 0., 7., 7., 2., 7., 3., 4., 9.,\n",
       "       2., 8., 6., 8., 8., 0., 8., 6., 4., 8., 9., 2., 2., 9., 3., 1., 6.,\n",
       "       1., 2., 0., 8., 7., 4., 8., 4., 7., 8., 2., 6., 0., 7., 5., 9., 5.,\n",
       "       0., 3., 9., 4., 4., 9., 2., 7., 4., 7., 1., 1., 7., 8., 0., 0., 0.,\n",
       "       5., 8., 5., 7., 1., 1., 9., 9., 3., 6., 4., 1., 5., 0., 5., 5., 2.,\n",
       "       4., 4., 4., 4., 3., 4., 8., 1., 7., 4., 7., 0., 3., 3., 4., 5., 2.,\n",
       "       4., 1., 0., 7., 5., 3., 0., 0., 1., 2., 3., 5., 5., 4., 7., 7., 8.,\n",
       "       4., 2., 1., 4., 5., 3., 7., 1., 0., 3., 6., 7., 0., 0., 9., 8., 8.,\n",
       "       4., 6., 0., 3., 1., 0., 2., 7., 5., 9., 2., 1., 7., 7., 3., 3., 9.,\n",
       "       2., 6., 8., 7., 0., 7., 5., 2., 5., 8., 6., 4., 0., 7., 6., 3., 7.,\n",
       "       0., 0., 0., 4., 7., 4., 3., 4., 5., 1., 3., 7., 4., 6., 9., 0., 0.,\n",
       "       1., 8., 7., 8., 5., 9., 3., 5., 8., 8., 0., 1., 3., 4., 1., 0., 5.,\n",
       "       0., 7., 2., 7., 0., 8., 4., 7., 6., 1., 3., 6., 0., 6., 5., 0., 9.,\n",
       "       8., 3., 2., 5., 2., 1., 5., 3., 7., 5., 2., 7., 7., 7., 2., 3., 6.,\n",
       "       4., 7., 5., 6., 9., 5., 3., 3., 5., 7., 9., 1., 6., 0., 7., 6., 7.,\n",
       "       2., 2., 3., 1., 8., 2., 0., 6., 6., 3., 9., 8., 2., 6., 4., 6., 5.,\n",
       "       3., 7., 2., 7., 2., 7., 5., 5., 6., 9., 1., 5., 4., 3., 2., 4., 9.,\n",
       "       6., 7., 8., 5., 8., 1., 7., 8., 3., 7., 9., 7., 8., 5., 2., 0., 5.,\n",
       "       1., 0., 9., 5., 6., 6., 6., 5., 3., 3., 6., 1., 6., 8., 5., 9., 0.,\n",
       "       1., 0., 1., 1., 2., 8., 0., 4., 8., 4., 6., 3., 1., 6., 2., 0., 7.,\n",
       "       3., 7., 5., 6., 3., 5., 9., 5., 9., 0., 6., 4., 0., 9., 5., 4., 3.,\n",
       "       9., 3., 4., 3., 2., 6., 0., 8., 1., 4., 6., 8., 5., 3., 0., 3., 9.,\n",
       "       3., 1., 5., 2., 2., 2., 9., 7., 4., 4., 2., 6., 1., 2., 3., 9., 4.,\n",
       "       1., 1., 6., 1., 4., 4., 9., 6., 0., 8., 5., 7., 1., 9., 6., 4., 0.,\n",
       "       4., 3., 7., 4., 7., 6., 1., 3., 4., 8., 9., 6., 7., 2., 6., 4., 6.,\n",
       "       2., 2., 4., 2., 3., 8., 6., 5., 0., 4., 5., 2., 1., 1., 0., 6., 1.,\n",
       "       3., 1., 1., 9., 6., 9., 8., 6., 7., 7., 8., 3., 9., 2., 2., 7., 6.,\n",
       "       1., 7., 9., 9., 0., 6., 9., 8., 5., 1., 6., 9., 6., 2., 8., 6., 9.,\n",
       "       1., 5., 7., 9., 1., 5., 3., 8., 5., 8., 9., 8., 9., 8., 9., 8., 1.,\n",
       "       3., 3., 8., 8., 8., 8., 4., 4., 6., 4., 0., 1., 5., 6., 1., 8., 2.,\n",
       "       1., 9., 2., 7., 7., 7., 7., 0., 3., 9., 8., 3., 8., 0., 2., 1., 6.,\n",
       "       4., 6., 9., 9., 9., 1., 7., 6., 2., 1., 7., 7., 3., 8., 1., 1., 4.,\n",
       "       0., 7., 5., 2., 3., 1., 9., 3., 1., 2., 4., 1., 3., 3., 5., 7., 3.,\n",
       "       8., 0., 5., 1., 3., 7., 6., 7., 0., 1., 9., 9., 8., 0., 9., 0., 2.,\n",
       "       4., 3., 6., 8., 8., 2., 0., 9., 9., 1., 6., 9., 2., 5., 2., 6., 0.,\n",
       "       1., 7., 2., 8., 1., 3., 0., 9., 5., 7., 9., 8., 8., 4., 1., 0., 0.,\n",
       "       1., 6., 8., 4., 4., 8., 2., 5., 5., 5., 5., 0., 3., 7., 1., 4., 4.,\n",
       "       0., 1., 4.])"
      ]
     },
     "execution_count": 237,
     "metadata": {},
     "output_type": "execute_result"
    }
   ],
   "source": [
    "%time my_clf.predict(X_test)"
   ]
  },
  {
   "cell_type": "code",
   "execution_count": 238,
   "metadata": {},
   "outputs": [
    {
     "name": "stdout",
     "output_type": "stream",
     "text": [
      "CPU times: user 59.6 s, sys: 0 ns, total: 59.6 s\n",
      "Wall time: 59.6 s\n"
     ]
    },
    {
     "data": {
      "text/plain": [
       "array([[1., 0., 0., ..., 0., 0., 0.],\n",
       "       [0., 1., 0., ..., 0., 0., 0.],\n",
       "       [0., 0., 0., ..., 0., 0., 0.],\n",
       "       ...,\n",
       "       [1., 0., 0., ..., 0., 0., 0.],\n",
       "       [0., 1., 0., ..., 0., 0., 0.],\n",
       "       [0., 0., 0., ..., 0., 0., 0.]])"
      ]
     },
     "execution_count": 238,
     "metadata": {},
     "output_type": "execute_result"
    }
   ],
   "source": [
    "%time clf.predict_proba(X_test)"
   ]
  },
  {
   "cell_type": "code",
   "execution_count": 239,
   "metadata": {},
   "outputs": [
    {
     "name": "stdout",
     "output_type": "stream",
     "text": [
      "CPU times: user 1min 14s, sys: 146 ms, total: 1min 14s\n",
      "Wall time: 1min 14s\n"
     ]
    },
    {
     "data": {
      "text/plain": [
       "array([[1., 0., 0., ..., 0., 0., 0.],\n",
       "       [0., 1., 0., ..., 0., 0., 0.],\n",
       "       [0., 0., 0., ..., 0., 0., 0.],\n",
       "       ...,\n",
       "       [1., 0., 0., ..., 0., 0., 0.],\n",
       "       [0., 1., 0., ..., 0., 0., 0.],\n",
       "       [0., 0., 0., ..., 0., 0., 0.]])"
      ]
     },
     "execution_count": 239,
     "metadata": {},
     "output_type": "execute_result"
    }
   ],
   "source": [
    "%time my_clf.predict_proba(X_test)"
   ]
  },
  {
   "cell_type": "code",
   "execution_count": 240,
   "metadata": {},
   "outputs": [
    {
     "data": {
      "text/plain": [
       "0.9785714285714285"
      ]
     },
     "execution_count": 240,
     "metadata": {},
     "output_type": "execute_result"
    }
   ],
   "source": [
    "clf.score(X_test, y_test)"
   ]
  },
  {
   "cell_type": "code",
   "execution_count": 241,
   "metadata": {},
   "outputs": [
    {
     "data": {
      "text/plain": [
       "0.9785714285714285"
      ]
     },
     "execution_count": 241,
     "metadata": {},
     "output_type": "execute_result"
    }
   ],
   "source": [
    "my_clf.score(X_test, y_test)"
   ]
  },
  {
   "cell_type": "markdown",
   "metadata": {},
   "source": [
    "Задание 5"
   ]
  },
  {
   "cell_type": "markdown",
   "metadata": {},
   "source": [
    "__seaborn__ - библиотека для визуализации данных, базируется на Matplotlib, оптимизирована для визуализации статистических моделей. Есть встроенные функции для визуализации распределения данных, линейных регрессионных моделей, временных рядов.\n",
    "\n",
    "__matplotlib__ - библиотека для визуализации данных, построения графиков.  \n",
    "\n",
    "__train_test_split__ - функция, котороая разделяет данные на две части: для тестирования и для тренировки. При этом по умолчанию данные перед разделением перемешиваются. \n",
    "\n",
    "__Pipelin%load_ext e (from sklearn.pipeline import Pipeline)__ - конвеер, который инкапсулирует последовательность преобразований данных и выполняет их последовательно одно за другим. С помощью его код становится понятнее.\n",
    "\n",
    "__StandardScaler (from sklearn.preprocessing import StandardScaler)__ - класс, необходимый для который нужен для стандартизации данных, путем вычесления мат. ожидания и деления на дисперсию.\n",
    "\n",
    "__ClassifierMixin__ - класс от которого наследуются все классификаторы в sklearn, также в нём заложен метод score для оценки результатов предсказания.\n",
    "\n",
    "__NeighborsBase__ - базовый класс для оценок ближайших соседей\n",
    "\n",
    "__KNeighborsMixin__ - класс, примесь для поиска k ближайших соседей\n",
    "\n",
    "__SupervisedIntegerMixin__ - класс для модели обучения с учителем, есть метод fit  "
   ]
  }
 ],
 "metadata": {
  "kernelspec": {
   "display_name": "Python 3",
   "language": "python",
   "name": "python3"
  },
  "language_info": {
   "codemirror_mode": {
    "name": "ipython",
    "version": 3
   },
   "file_extension": ".py",
   "mimetype": "text/x-python",
   "name": "python",
   "nbconvert_exporter": "python",
   "pygments_lexer": "ipython3",
   "version": "3.6.6"
  }
 },
 "nbformat": 4,
 "nbformat_minor": 2
}
