{
 "cells": [
  {
   "cell_type": "markdown",
   "metadata": {},
   "source": [
    "# Алгоритмы интеллектуальной обработки больших объемов данных\n",
    "## Домашнее задание №2 - Дерево решений\n"
   ]
  },
  {
   "cell_type": "markdown",
   "metadata": {},
   "source": [
    "**Общая информация**\n",
    "\n",
    "**Срок сдачи:** до 1 ноября 2018, 06:00 \n",
    "**Штраф за опоздание:** -2 балла после 06:00 1 ноября, -4 балла после 06:00 8 ноября, -6 баллов после 06:00 15 ноября\n",
    "\n",
    "При отправлении ДЗ указывайте фамилию в названии файла   \n",
    "\n",
    "\n",
    "Присылать ДЗ необходимо в виде ссылки на свой github репозиторий в slack @alkhamush\n",
    "Необходимо в slack создать таск в приватный чат:   \n",
    "/todo Фамилия Имя *ссылка на гитхаб* @alkhamush   \n",
    "Пример:   \n",
    "/todo Ксения Стройкова https://github.com/stroykova/spheremailru/stroykova_hw2.ipynb @alkhamush   \n",
    "\n",
    "Используйте данный Ipython Notebook при оформлении домашнего задания."
   ]
  },
  {
   "cell_type": "markdown",
   "metadata": {},
   "source": [
    "###### Задание 1 (4 балла)\n",
    "Разберитесь в коде MyDecisionTreeClassifier, который уже частично реализован. В комментариях, где написано \"Что делает этот блок кода?\", ответьте на этот вопрос. Допишите код там, где написано \"Ваш код\". Ваша реализация дерева должна работать по точности не хуже DecisionTreeClassifier из sklearn. Точность проверяется на wine и Speed Dating Data.\n",
    "\n",
    "###### Задание 2 (2 балла)\n",
    "Добиться скорости работы fit такой, чтобы она была медленнее sklearn не более чем в 10 раз. Скорость проверяем на  wine и Speed Dating Data. Для ускорения используем только numpy.\n",
    "\n",
    "###### Задание 3 (2 балла)\n",
    "Добавьте функционал, который определяет значения feature importance. Выведите 10 главных фичей под пунктом Задание 3 (уже написано ниже) для MyDecisionTreeClassifier и DecisionTreeClassifier так, чтобы сразу были видны выводы и по MyDecisionTreeClassifier, и по DecisionTreeClassifier. Используем данные Speed Dating Data.\n",
    "\n",
    "###### Задание 4 (2 балла)\n",
    "С помощью GridSearchCV или RandomSearchCV подберите наиболее оптимальные параметры для случайного леса (Выберете 2-3 параметра). Используем данные Speed Dating Data. Задание реализуйте под пунктом Задание 4 (уже написано ниже)\n",
    "\n",
    "\n",
    "**Штрафные баллы:**\n",
    "\n",
    "1. Невыполнение PEP8 -1 балл\n",
    "2. Отсутствие фамилии в имени скрипта (скрипт должен называться по аналогии со stroykova_hw2.ipynb) -1 балл\n",
    "3. Все строчки должны быть выполнены. Нужно, чтобы output команды можно было увидеть уже в git'е. В противном случае -1 балл\n",
    "4. При оформлении ДЗ нужно пользоваться данным файлом в качестве шаблона. Не нужно удалять и видоизменять написанный код и текст. В противном случае -1 балл"
   ]
  },
  {
   "cell_type": "code",
   "execution_count": 4,
   "metadata": {},
   "outputs": [],
   "source": [
    "import matplotlib.pyplot as plt\n",
    "import numpy as np\n",
    "import pandas as pd\n",
    "\n",
    "from sklearn.datasets import load_wine\n",
    "from sklearn.ensemble import RandomForestClassifier\n",
    "from sklearn.metrics import accuracy_score, f1_score\n",
    "from sklearn.model_selection import KFold, train_test_split, GridSearchCV, RandomizedSearchCV\n",
    "from sklearn.tree import DecisionTreeClassifier\n",
    "\n",
    "%matplotlib inline\n",
    "%load_ext pycodestyle_magic"
   ]
  },
  {
   "cell_type": "code",
   "execution_count": 634,
   "metadata": {},
   "outputs": [],
   "source": [
    "%%pycodestyle\n",
    "\n",
    "\n",
    "class MyDecisionTreeClassifier:\n",
    "    NON_LEAF_TYPE = 0\n",
    "    LEAF_TYPE = 1\n",
    "\n",
    "    def __init__(self, min_samples_split=2,\n",
    "                 max_depth=None, sufficient_share=1.0,\n",
    "                 criterion='gini', max_features=None):\n",
    "        # Дерево задано с помощью словаря\n",
    "        self.tree = dict()\n",
    "        # Минимальное количество элементов в узле\n",
    "        # Если меньше этого количества, то делим, иначе это вершина\n",
    "        self.min_samples_split = min_samples_split\n",
    "        # Максимальная глубина дерева\n",
    "        self.max_depth = max_depth\n",
    "        # Минимальная доля определенного класса,\n",
    "        # которая определяет принадлежность к классу,\n",
    "        # создание нового листа\n",
    "        self.sufficient_share = sufficient_share\n",
    "        # Начальное количество классов\n",
    "        self.num_class = -1\n",
    "        # Важность признаков\n",
    "        self.feature_importances_ = None\n",
    "\n",
    "        # Меры неопределенности. Прирост информации\n",
    "        if criterion == 'gini':\n",
    "            self.G_function = self.__gini\n",
    "            self.importance_G_function = self.__importance_gini\n",
    "        elif criterion == 'entropy':\n",
    "            self.G_function = self.__entropy\n",
    "            self.importance_G_function = self.__importance_entropy\n",
    "        elif criterion == 'misclass':\n",
    "            self.G_function = self.__misclass\n",
    "            self.importance_G_function = self.__importance_misclass\n",
    "        else:\n",
    "            print('invalid criterion name')\n",
    "            raise\n",
    "\n",
    "        # Количество признаков,\n",
    "        # которые нужно учитывать при поиске лучшего разделения:\n",
    "        if max_features == 'sqrt':\n",
    "            self.get_feature_ids = self.__get_feature_ids_sqrt\n",
    "        elif max_features == 'log2':\n",
    "            self.get_feature_ids = self.__get_feature_ids_log2\n",
    "        elif max_features is None:\n",
    "            self.get_feature_ids = self.__get_feature_ids_N\n",
    "        else:\n",
    "            print('invalid max_features name')\n",
    "            raise\n",
    "\n",
    "    def __importance_gini(self, y):\n",
    "        _, counts = np.unique(y, return_counts=True)\n",
    "        return y.size * (1 - np.sum((counts / y.size) ** 2))\n",
    "\n",
    "    def __importance_entropy(self, y):\n",
    "        _, counts = np.unique(y, return_counts=True)\n",
    "        return - y.size * np.sum((counts / y.size) * np.log2(counts / y.size))\n",
    "\n",
    "    def __importance_misclass(self, y):\n",
    "        _, counts = np.unique(y, return_counts=True)\n",
    "        return y.size * (1 - np.max(counts / y.size))\n",
    "\n",
    "    def __gini(self, l_c, l_s, r_c, r_s):\n",
    "        l_s = l_s.astype('float')\n",
    "        r_s = r_s.astype('float')\n",
    "        return ((1 - (((l_c / l_s) ** 2).sum(axis=1))).\n",
    "                reshape(-1, 1) * l_s +\n",
    "                (1 - (((r_c / r_s) ** 2).sum(axis=1))).\n",
    "                reshape(-1, 1) * r_s) / (l_s + r_s)\n",
    "\n",
    "    def __entropy(self, l_c, l_s, r_c, r_s):\n",
    "        return -(((l_c/l_s) * np.log2(l_c/l_s)).sum(axis=1).\n",
    "                 reshape(-1, 1) * l_s +\n",
    "                 ((r_c/r_s) * np.log2(r_c/r_s)).sum(axis=1).\n",
    "                 reshape(-1, 1) * r_s) / (l_s + r_s)\n",
    "\n",
    "    def __misclass(self, l_c, l_s, r_c, r_s):\n",
    "        return ((1 - (l_c/l_s).max(axis=1)).reshape(-1, 1) * l_s +\n",
    "                (1 - (r_c/r_s).max(axis=1)).reshape(-1, 1) * r_s) / (l_s + r_s)\n",
    "\n",
    "    def __get_feature_ids_sqrt(self, n_feature):\n",
    "        feature_ids = np.arange(n_feature)\n",
    "        np.random.shuffle(feature_ids)\n",
    "        return feature_ids[:int(np.sqrt(n_feature))]\n",
    "\n",
    "    def __get_feature_ids_log2(self, n_feature):\n",
    "        feature_ids = np.arange(n_feature)\n",
    "        np.random.shuffle(feature_ids)\n",
    "        return feature_ids[:int(np.log2(n_feature))]\n",
    "\n",
    "    def __get_feature_ids_N(self, n_feature):\n",
    "        return np.arange(n_feature)\n",
    "\n",
    "    def __sort_samples(self, x, y):\n",
    "        # Сортировка x и y в порядке возрастания x\n",
    "        sorted_idx = x.argsort()\n",
    "        return x[sorted_idx], y[sorted_idx]\n",
    "\n",
    "    def __div_samples(self, x, y, feature_id, threshold):\n",
    "        # Разделение выборки на 2 части:\n",
    "        # левая: если значение определенного признака\n",
    "        # больше некоторого порога\n",
    "        # правая: все остальное\n",
    "        left_mask = x[:, feature_id] > threshold\n",
    "        right_mask = ~left_mask\n",
    "        return x[left_mask], x[right_mask], y[left_mask], y[right_mask]\n",
    "\n",
    "    def __find_threshold(self, x, y):\n",
    "        # Что делает этот блок кода?\n",
    "        '''\n",
    "        Поиск порога критерия для успешного разделения в узле на две части\n",
    "        и поиск значения наименьшей неопределенности\n",
    "        '''\n",
    "        # Сортировка x и y в порядке возрастания признака x\n",
    "        sorted_x, sorted_y = self.__sort_samples(x, y)\n",
    "\n",
    "        # Подсчитываем количество классов\n",
    "        class_number = self.num_class\n",
    "        cut_size = np.int(self.min_samples_split / 2 - 1)\n",
    "\n",
    "        # Что делает этот блок кода?\n",
    "        # Выделение тех значений y, индексы, которых лежат\n",
    "        # посередине, т.е. первые cut_size элементов и пропускаем\n",
    "        # и последние cut_size элементов пропускаем\n",
    "\n",
    "        if cut_size == 0:\n",
    "            splitted_sorted_y = sorted_y\n",
    "        else:\n",
    "            splitted_sorted_y = sorted_y[cut_size:-cut_size]\n",
    "\n",
    "        # Поиск тех позиций целевой функции, в которых,\n",
    "        # следующий класс не равен предыдущему(берется правая позиция),\n",
    "        # т.е ищем те места, где классы меняются,\n",
    "        # и чтобы индекс был правильным: добавляем размер cut_size\n",
    "        r_border_ids = np.where(splitted_sorted_y[:-1] !=\n",
    "                                splitted_sorted_y[1:])[0] + (cut_size + 1)\n",
    "        # Если r_border_ids таков, что там все индексы\n",
    "        # одинаковые, то вернуть np.inf, none\n",
    "        if len(r_border_ids) == 0:\n",
    "            return np.inf, None\n",
    "\n",
    "        # Что делает этот блок кода?\n",
    "        # eq_el_count - разница между элементами в r_border_ids,\n",
    "        # для нулевого - это разница с cut_size\n",
    "        # т.е это количество одинаковых элементов в интервалах\n",
    "        # (где интервал  - это разница между двумя индексами в r_border_ids)\n",
    "        eq_el_count = r_border_ids - np.append(np.array([cut_size]),\n",
    "                                               r_border_ids[:-1])\n",
    "        # one_hot_code - записаны метки равные 1 там,\n",
    "        # где менялись классы, причем они ставятся\n",
    "        # на позицию соответсвующего класса\n",
    "        one_hot_code = np.zeros((r_border_ids.shape[0], class_number))\n",
    "        one_hot_code[np.arange(r_border_ids.shape[0]),\n",
    "                     sorted_y[r_border_ids - 1]] = 1\n",
    "        # Делаем матрицу class_increments, в которой записано\n",
    "        # количество классов для каждого интервала,\n",
    "        # причем на позициях соответсвующего класса\n",
    "        class_increments = one_hot_code * eq_el_count.reshape(-1, 1)\n",
    "        class_increments[0] = class_increments[0] + \\\n",
    "            np.bincount(sorted_y[:cut_size], minlength=class_number)\n",
    "\n",
    "        # Что делает этот блок кода?\n",
    "        # l_class_count - содержит разбиения по классам\n",
    "        # (например [0, 17, 0]) - идет в левое поддерево,\n",
    "        # получаем с помощью кумулятивной суммы\n",
    "        l_class_count = np.cumsum(class_increments, axis=0)\n",
    "        # r_class_count - содержит разбиения по классам\n",
    "        # (например [53, 47, 43]) - идет в правое поддерево,\n",
    "        # т.е идет все что не пошло в левое поддерево\n",
    "        r_class_count = np.bincount(sorted_y,\n",
    "                                    minlength=class_number) - l_class_count\n",
    "        # l_sizes - размеры разбиение,\n",
    "        # т.е сколько элементов пойдет в левое поддерево\n",
    "        l_sizes = r_border_ids.reshape(l_class_count.shape[0], 1)\n",
    "        # r_sizes - размеры разбиение,\n",
    "        # т.е сколько элементов пойдет в правое поддерево\n",
    "        r_sizes = sorted_y.shape[0] - l_sizes\n",
    "\n",
    "        # Что делает этот блок кода?\n",
    "        # Cчитаем значение функции неопределенности для каждого разбиения,\n",
    "        # находим индекс разбиения, у которого значение G_function наименьшее\n",
    "        gs = self.G_function(l_class_count, l_sizes, r_class_count, r_sizes)\n",
    "        idx = np.argmin(gs)\n",
    "\n",
    "        # Что делает этот блок кода?\n",
    "        # Bозвращает значение наименьшей неопределенности и порога для признака\n",
    "        left_el_id = l_sizes[idx][0]\n",
    "        return gs[idx], (sorted_x[left_el_id-1] + sorted_x[left_el_id]) / 2.0\n",
    "\n",
    "    def __fit_node(self, x, y, node_id, depth, pred_f=-1):\n",
    "        # Ваш код\n",
    "        # Необходимо использовать следующее:\n",
    "        # self.LEAF_TYPE\n",
    "        # self.NON_LEAF_TYPE\n",
    "\n",
    "        # self.tree\n",
    "        # self.max_depth\n",
    "        # self.sufficient_share\n",
    "        # self.min_samples_split\n",
    "\n",
    "        # self.get_feature_ids\n",
    "        # self.__find_threshold\n",
    "        # self.__div_samples\n",
    "        # self.__fit_node\n",
    "\n",
    "        self.tree[node_id] = [0, 0, 0]\n",
    "\n",
    "        # Если глубина равна максимальной,\n",
    "        # или доля класса больше чем необходима, то говорим, что это leaf\n",
    "        if depth == self.max_depth or \\\n",
    "            np.max(np.bincount(y)) / y.size >= self.sufficient_share or \\\n",
    "                y.size < self.min_samples_split:\n",
    "                    self.__init_leaf(y, node_id)\n",
    "                    return\n",
    "        # разбиваем вершину\n",
    "        # feature_ids - index выбранных признаков\n",
    "        # other features - index других (остальных) признаков\n",
    "        feature_ids = self.get_feature_ids(x.shape[1])\n",
    "\n",
    "        # gs_threshold - матрица в которой, записано:\n",
    "        # мера неопределенности (прирост информации) и threshold\n",
    "        gini_threshold = np.full((2, x.shape[1]), np.inf)\n",
    "        gini_threshold[:, feature_ids] = \\\n",
    "            np.apply_along_axis(self.__find_threshold, 0,\n",
    "                                x[:, feature_ids], y)\n",
    "        # не используем предыдущий признак\n",
    "        gini_threshold[0, pred_f] = np.inf\n",
    "        feature = np.argmin(gini_threshold[0, :])\n",
    "        threshold = gini_threshold[1, feature]\n",
    "        x_l, x_r, y_l, y_r = self.__div_samples(x, y, feature, threshold)\n",
    "\n",
    "        if y_l.size == 0 or y_r.size == 0:\n",
    "            self.__init_leaf(y, node_id)\n",
    "            return\n",
    "        self.__init_no_leaf(feature, threshold, node_id)\n",
    "        # Важность признаков\n",
    "        self.feature_importances_[feature] += \\\n",
    "            self.importance_G_function(y) - \\\n",
    "            self.importance_G_function(y_l) - \\\n",
    "            self.importance_G_function(y_r)\n",
    "        # Спускаемся к левому и правому потомку\n",
    "        self.__fit_node(x_l, y_l, 2 * node_id + 1, depth + 1, feature)\n",
    "        self.__fit_node(x_r, y_r, 2 * node_id + 2, depth + 1, feature)\n",
    "\n",
    "    def __init_leaf(self, y, node_id):\n",
    "        self.tree[node_id][0] = self.LEAF_TYPE\n",
    "        self.tree[node_id][1] = np.bincount(y).argmax(axis=0)\n",
    "        self.tree[node_id][2] = np.max(np.bincount(y)) / y.size\n",
    "\n",
    "    def __init_no_leaf(self, feature, threshold, node_id):\n",
    "        self.tree[node_id][0] = self.NON_LEAF_TYPE\n",
    "        self.tree[node_id][1] = feature\n",
    "        self.tree[node_id][2] = threshold\n",
    "\n",
    "    def fit(self, x, y):\n",
    "        self.num_class = np.unique(y).size\n",
    "        self.feature_importances_ = np.zeros(x.shape[1], np.float)\n",
    "        self.__fit_node(x, y, 0, 0)\n",
    "        self.feature_importances_ = \\\n",
    "            self.feature_importances_ / self.feature_importances_.sum()\n",
    "\n",
    "    def __predict_class(self, x, node_id):\n",
    "        node = self.tree[node_id]\n",
    "        if node[0] == self.__class__.NON_LEAF_TYPE:\n",
    "            _, feature_id, threshold = node\n",
    "            if x[feature_id] > threshold:\n",
    "                return self.__predict_class(x, 2 * node_id + 1)\n",
    "            else:\n",
    "                return self.__predict_class(x, 2 * node_id + 2)\n",
    "        else:\n",
    "            return node[1]\n",
    "\n",
    "    def __predict_probs(self, x, node_id):\n",
    "        node = self.tree[node_id]\n",
    "        if node[0] == self.__class__.NON_LEAF_TYPE:\n",
    "            _, feature_id, threshold = node\n",
    "            if x[feature_id] > threshold:\n",
    "                return self.__predict_probs(x, 2 * node_id + 1)\n",
    "            else:\n",
    "                return self.__predict_probs(x, 2 * node_id + 2)\n",
    "        else:\n",
    "            return node[2]\n",
    "\n",
    "    def predict(self, X):\n",
    "        return np.array([self.__predict_class(x, 0) for x in X])\n",
    "\n",
    "    def predict_probs(self, X):\n",
    "        return np.array([self.__predict_probs(x, 0) for x in X])\n",
    "\n",
    "    def fit_predict(self, x_train, y_train, predicted_x):\n",
    "        self.fit(x_train, y_train)\n",
    "        return self.predict(predicted_x)"
   ]
  },
  {
   "cell_type": "code",
   "execution_count": 635,
   "metadata": {},
   "outputs": [],
   "source": [
    "my_clf = MyDecisionTreeClassifier(min_samples_split=2)\n",
    "clf = DecisionTreeClassifier(min_samples_split=2)"
   ]
  },
  {
   "cell_type": "code",
   "execution_count": 636,
   "metadata": {},
   "outputs": [],
   "source": [
    "wine = load_wine()\n",
    "X_train, X_test, y_train, y_test = train_test_split(wine.data, wine.target, test_size=0.1, stratify=wine.target)"
   ]
  },
  {
   "cell_type": "markdown",
   "metadata": {},
   "source": [
    "## Проверка скорости работы на wine"
   ]
  },
  {
   "cell_type": "code",
   "execution_count": 637,
   "metadata": {
    "scrolled": true
   },
   "outputs": [
    {
     "name": "stdout",
     "output_type": "stream",
     "text": [
      "CPU times: user 2.71 ms, sys: 155 µs, total: 2.87 ms\n",
      "Wall time: 1.55 ms\n"
     ]
    },
    {
     "data": {
      "text/plain": [
       "DecisionTreeClassifier(class_weight=None, criterion='gini', max_depth=None,\n",
       "            max_features=None, max_leaf_nodes=None,\n",
       "            min_impurity_decrease=0.0, min_impurity_split=None,\n",
       "            min_samples_leaf=1, min_samples_split=2,\n",
       "            min_weight_fraction_leaf=0.0, presort=False, random_state=None,\n",
       "            splitter='best')"
      ]
     },
     "execution_count": 637,
     "metadata": {},
     "output_type": "execute_result"
    }
   ],
   "source": [
    "%time clf.fit(X_train, y_train)"
   ]
  },
  {
   "cell_type": "code",
   "execution_count": 638,
   "metadata": {},
   "outputs": [
    {
     "name": "stdout",
     "output_type": "stream",
     "text": [
      "CPU times: user 13.1 ms, sys: 64 µs, total: 13.2 ms\n",
      "Wall time: 12.2 ms\n"
     ]
    }
   ],
   "source": [
    "%time my_clf.fit(X_train, y_train)"
   ]
  },
  {
   "cell_type": "markdown",
   "metadata": {},
   "source": [
    "## Проверка качества работы на wine"
   ]
  },
  {
   "cell_type": "code",
   "execution_count": 639,
   "metadata": {},
   "outputs": [
    {
     "data": {
      "text/plain": [
       "0.8407407407407407"
      ]
     },
     "execution_count": 639,
     "metadata": {},
     "output_type": "execute_result"
    }
   ],
   "source": [
    "f1_score(y_pred=clf.predict(X_test), y_true=y_test, average='macro')"
   ]
  },
  {
   "cell_type": "code",
   "execution_count": 640,
   "metadata": {},
   "outputs": [
    {
     "data": {
      "text/plain": [
       "0.8968253968253969"
      ]
     },
     "execution_count": 640,
     "metadata": {},
     "output_type": "execute_result"
    }
   ],
   "source": [
    "f1_score(y_pred=my_clf.predict(X_test), y_true=y_test, average='macro')"
   ]
  },
  {
   "cell_type": "code",
   "execution_count": 641,
   "metadata": {},
   "outputs": [
    {
     "data": {
      "text/plain": [
       "array([0, 1, 0, 1, 0, 2, 2, 1, 0, 1, 1, 2, 1, 2, 0, 0, 1, 1])"
      ]
     },
     "execution_count": 641,
     "metadata": {},
     "output_type": "execute_result"
    }
   ],
   "source": [
    "clf.predict(X_test)"
   ]
  },
  {
   "cell_type": "code",
   "execution_count": 642,
   "metadata": {},
   "outputs": [
    {
     "data": {
      "text/plain": [
       "array([0, 1, 0, 1, 0, 2, 2, 1, 0, 1, 1, 2, 1, 2, 0, 0, 1, 2])"
      ]
     },
     "execution_count": 642,
     "metadata": {},
     "output_type": "execute_result"
    }
   ],
   "source": [
    "my_clf.predict(X_test)"
   ]
  },
  {
   "cell_type": "code",
   "execution_count": 643,
   "metadata": {},
   "outputs": [
    {
     "data": {
      "text/plain": [
       "array([0, 1, 0, 0, 0, 2, 2, 1, 0, 1, 1, 2, 1, 2, 1, 0, 1, 2])"
      ]
     },
     "execution_count": 643,
     "metadata": {},
     "output_type": "execute_result"
    }
   ],
   "source": [
    "y_test"
   ]
  },
  {
   "cell_type": "markdown",
   "metadata": {},
   "source": [
    "## Подготовка данных Speed Dating Data "
   ]
  },
  {
   "cell_type": "code",
   "execution_count": 659,
   "metadata": {},
   "outputs": [],
   "source": [
    "# тут делаете то же самое, что и на семинаре https://github.com/stroykova/spheremailru/blob/master/2018-02/lecture_04_trees/pract-speed-dating-trees-proc.ipynb\n",
    "df = pd.read_csv('Speed Dating Data.csv', encoding='cp1251')\n",
    "df = df.iloc[:, :97]\n",
    "df = df.drop(['id', 'idg', 'condtn', 'round', 'position',\n",
    "              'positin1', 'order', 'partner', 'age_o', 'race_o',\n",
    "              'pf_o_att', 'pf_o_sin', 'pf_o_int', 'pf_o_fun',\n",
    "              'pf_o_amb', 'pf_o_sha', 'dec_o', 'attr_o', 'sinc_o',\n",
    "              'intel_o', 'fun_o', 'amb_o', 'shar_o', 'like_o',\n",
    "              'prob_o','met_o', 'field', 'undergra', 'from',\n",
    "              'zipcode', 'career', 'sports', 'tvsports',\n",
    "              'exercise', 'dining', 'museums', 'art', 'hiking',\n",
    "              'gaming', 'clubbing', 'reading', 'tv', 'theater',\n",
    "              'movies', 'concerts', 'music', 'shopping', 'yoga',\n",
    "              'expnum', 'wave'], axis=1)\n",
    "df = df.dropna(subset=['age'])\n",
    "df.loc[:, 'field_cd'] = df.loc[:, 'field_cd'].fillna(0)\n",
    "df.loc[:, 'mn_sat'] = df.loc[:, 'mn_sat'].str.replace(\n",
    "    ',', '').astype(np.float)\n",
    "df.loc[:, 'mn_sat'] = df.mn_sat.fillna(-999)\n",
    "df.loc[:, 'tuition'] = df.loc[:, 'tuition'].str.replace(\n",
    "    ',', '').astype(np.float)\n",
    "df.loc[:, 'tuition'] = df.tuition.fillna(-999)\n",
    "df = df.dropna(subset=['imprelig', 'imprace'])\n",
    "df.loc[:, 'income'] = df.loc[:, 'income'].str.replace(\n",
    "    ',', '').astype(np.float)\n",
    "df.loc[:, 'income'] = df.loc[:, 'income'].fillna(-999)\n",
    "df = df.dropna(subset=['date'])\n",
    "df.loc[:, 'career_c'] = df.loc[:, 'career_c'].fillna(0)\n",
    "df.loc[:, 'temp_totalsum'] = df.loc[:, ['attr1_1', 'sinc1_1',\n",
    "                                        'intel1_1', 'fun1_1',\n",
    "                                        'amb1_1', 'shar1_1']].sum(\n",
    "    axis=1)\n",
    "df.loc[:, ['attr1_1', 'sinc1_1', 'intel1_1',\n",
    "           'fun1_1', 'amb1_1', 'shar1_1']] = \\\n",
    "    (df.loc[:, ['attr1_1', 'sinc1_1', 'intel1_1', 'fun1_1',\n",
    "                'amb1_1', 'shar1_1']].T/df.loc[\n",
    "        :, 'temp_totalsum'].T).T * 100\n",
    "df.loc[:, 'temp_totalsum'] = df.loc[:, ['attr2_1', 'sinc2_1',\n",
    "                                        'intel2_1', 'fun2_1',\n",
    "                                        'amb2_1', 'shar2_1']].sum(\n",
    "    axis=1)\n",
    "df.loc[:, ['attr2_1', 'sinc2_1', 'intel2_1',\n",
    "           'fun2_1', 'amb2_1', 'shar2_1']] = \\\n",
    "    (df.loc[:, ['attr2_1', 'sinc2_1', 'intel2_1', 'fun2_1',\n",
    "                'amb2_1', 'shar2_1']].T/df.loc[\n",
    "        :, 'temp_totalsum'].T).T * 100\n",
    "df = df.drop(['temp_totalsum'], axis=1)\n",
    "for i in [4, 5]:\n",
    "    feat = ['attr{}_1'.format(i), 'sinc{}_1'.format(i),\n",
    "            'intel{}_1'.format(i), 'fun{}_1'.format(i),\n",
    "            'amb{}_1'.format(i), 'shar{}_1'.format(i)]\n",
    "\n",
    "    if i != 4:\n",
    "        feat.remove('shar{}_1'.format(i))\n",
    "\n",
    "    df = df.drop(feat, axis=1)\n",
    "df_male = df.query('gender == 1').drop_duplicates(subset=[\n",
    "    'iid', 'pid']).drop(['gender'], axis=1).dropna()\n",
    "df_female = df.query('gender == 0').drop_duplicates(\n",
    "    subset=['iid']).drop(['gender', 'match',\n",
    "                          'int_corr', 'samerace'], axis=1).dropna()\n",
    "\n",
    "df_female.columns = df_female.columns + '_f'\n",
    "df_female = df_female.drop(['pid_f'], axis=1)\n",
    "df_pair = df_male.join(df_female.set_index('iid_f'),\n",
    "                       on='pid',\n",
    "                       how='inner')\n",
    "df_pair = df_pair.drop(['iid', 'pid'], axis=1)\n",
    "X = df_pair.iloc[:, 1:].values\n",
    "y = df_pair.iloc[:, 0].values\n",
    "\n",
    "X_train, X_test, y_train, y_test = train_test_split(X, y, test_size=0.1)"
   ]
  },
  {
   "cell_type": "code",
   "execution_count": 660,
   "metadata": {},
   "outputs": [
    {
     "data": {
      "text/plain": [
       "DecisionTreeClassifier(class_weight=None, criterion='gini', max_depth=None,\n",
       "            max_features=None, max_leaf_nodes=None,\n",
       "            min_impurity_decrease=0.0, min_impurity_split=None,\n",
       "            min_samples_leaf=1, min_samples_split=2,\n",
       "            min_weight_fraction_leaf=0.0, presort=False, random_state=None,\n",
       "            splitter='best')"
      ]
     },
     "execution_count": 660,
     "metadata": {},
     "output_type": "execute_result"
    }
   ],
   "source": [
    "my_clf = MyDecisionTreeClassifier(min_samples_split=5)\n",
    "clf = DecisionTreeClassifier(min_samples_split=2)\n",
    "my_clf.fit(X_train, y_train)\n",
    "clf.fit(X_train, y_train)"
   ]
  },
  {
   "cell_type": "markdown",
   "metadata": {},
   "source": [
    "## Проверка качества работы на Speed Dating Data "
   ]
  },
  {
   "cell_type": "code",
   "execution_count": 661,
   "metadata": {},
   "outputs": [
    {
     "data": {
      "text/plain": [
       "0.5108605538053391"
      ]
     },
     "execution_count": 661,
     "metadata": {},
     "output_type": "execute_result"
    }
   ],
   "source": [
    "# тут должен быть код типа f1_score(y_pred=clf.predict(X_test), y_true=y_test, average='macro')\n",
    "f1_score(y_pred=clf.predict(X_test), y_true=y_test, average='macro')"
   ]
  },
  {
   "cell_type": "code",
   "execution_count": 662,
   "metadata": {},
   "outputs": [
    {
     "data": {
      "text/plain": [
       "0.5108363339900809"
      ]
     },
     "execution_count": 662,
     "metadata": {},
     "output_type": "execute_result"
    }
   ],
   "source": [
    "# тут должен быть код типа f1_score(y_pred=my_clf.predict(X_test), y_true=y_test, average='macro')\n",
    "f1_score(y_pred=my_clf.predict(X_test), y_true=y_test, average='macro')"
   ]
  },
  {
   "cell_type": "markdown",
   "metadata": {},
   "source": [
    "## Проверка скорости работы на Speed Dating Data"
   ]
  },
  {
   "cell_type": "code",
   "execution_count": 663,
   "metadata": {},
   "outputs": [
    {
     "name": "stdout",
     "output_type": "stream",
     "text": [
      "CPU times: user 73.2 ms, sys: 3.84 ms, total: 77 ms\n",
      "Wall time: 75.6 ms\n"
     ]
    },
    {
     "data": {
      "text/plain": [
       "DecisionTreeClassifier(class_weight=None, criterion='gini', max_depth=None,\n",
       "            max_features=None, max_leaf_nodes=None,\n",
       "            min_impurity_decrease=0.0, min_impurity_split=None,\n",
       "            min_samples_leaf=1, min_samples_split=2,\n",
       "            min_weight_fraction_leaf=0.0, presort=False, random_state=None,\n",
       "            splitter='best')"
      ]
     },
     "execution_count": 663,
     "metadata": {},
     "output_type": "execute_result"
    }
   ],
   "source": [
    "# тут должен быть код типа %time clf.fit(X_train, y_train)\n",
    "%time clf.fit(X_train, y_train)"
   ]
  },
  {
   "cell_type": "code",
   "execution_count": 664,
   "metadata": {},
   "outputs": [
    {
     "name": "stdout",
     "output_type": "stream",
     "text": [
      "CPU times: user 512 ms, sys: 0 ns, total: 512 ms\n",
      "Wall time: 511 ms\n"
     ]
    }
   ],
   "source": [
    "# тут должен быть код типа %time my_clf.fit(X_train, y_train)\n",
    "%time my_clf.fit(X_train, y_train)"
   ]
  },
  {
   "cell_type": "markdown",
   "metadata": {},
   "source": [
    "## Задание 3"
   ]
  },
  {
   "cell_type": "code",
   "execution_count": 665,
   "metadata": {},
   "outputs": [],
   "source": [
    "%matplotlib inline\n",
    "import matplotlib.pyplot as plt\n",
    "\n",
    "def get_features(clf, myclf, features, n_plot = 10):\n",
    "    \n",
    "    importances =clf.feature_importances_\n",
    "    indices = np.argsort(importances)[::-1]\n",
    "    importances_my =myclf.feature_importances_\n",
    "    indices_my = np.argsort(importances_my)[::-1]\n",
    "    fig = plt.figure(figsize= (16,10))\n",
    "    ax1 = plt.subplot(211)\n",
    "    ax1.grid()\n",
    "    ax1.bar(features[indices[:n_plot]], \n",
    "                   importances[indices[:n_plot]],  color=([(0.1,0.4,i/float(n_plot+1)) \n",
    "                   for i in range(n_plot)]))\n",
    "    ax1.set_xlabel(\"Признак\")\n",
    "    ax1.set_ylabel(\"Важность\")\n",
    "    ax1.set_title(\"Важность признаков (DecisionTreeClassifier)\")\n",
    "\n",
    "    ax2 = plt.subplot(212)\n",
    "    ax2.grid()\n",
    "    ax2.bar(features[indices_my[:n_plot]], \n",
    "                   importances_my[indices_my[:n_plot]], color=([(0.1,0.4,i / float(n_plot + 1)) \n",
    "                   for i in range(n_plot)]))\n",
    "    ax2.set_xlabel(\"Признак\")\n",
    "    ax2.set_ylabel(\"Важность\")\n",
    "    ax2.set_title(\"Важность признаков (MyDecisionTreeClassifier)\")\n",
    "    plt.subplots_adjust(hspace=0.5) \n",
    "    plt.show()\n",
    "\n",
    "    feature_rating = {\"clf_name\": features[indices],\n",
    "      \"clf_feature_importances\": importances[indices],\n",
    "      \"myclf_name\": features[indices_my[:]],\n",
    "      \"myclf_feature_importances\": importances_my[indices_my[:]]}\n",
    "    return pd.DataFrame(data=feature_rating)"
   ]
  },
  {
   "cell_type": "code",
   "execution_count": 666,
   "metadata": {},
   "outputs": [
    {
     "data": {
      "image/png": "[encoded data removed]",
      "text/plain": [
       "<Figure size 1152x720 with 2 Axes>"
      ]
     },
     "metadata": {
      "needs_background": "light"
     },
     "output_type": "display_data"
    },
    {
     "data": {
      "text/html": [
       "<div>\n",
       "<style scoped>\n",
       "    .dataframe tbody tr th:only-of-type {\n",
       "        vertical-align: middle;\n",
       "    }\n",
       "\n",
       "    .dataframe tbody tr th {\n",
       "        vertical-align: top;\n",
       "    }\n",
       "\n",
       "    .dataframe thead th {\n",
       "        text-align: right;\n",
       "    }\n",
       "</style>\n",
       "<table border=\"1\" class=\"dataframe\">\n",
       "  <thead>\n",
       "    <tr style=\"text-align: right;\">\n",
       "      <th></th>\n",
       "      <th>clf_name</th>\n",
       "      <th>clf_feature_importances</th>\n",
       "      <th>myclf_name</th>\n",
       "      <th>myclf_feature_importances</th>\n",
       "    </tr>\n",
       "  </thead>\n",
       "  <tbody>\n",
       "    <tr>\n",
       "      <th>0</th>\n",
       "      <td>int_corr</td>\n",
       "      <td>0.089993</td>\n",
       "      <td>int_corr</td>\n",
       "      <td>0.092014</td>\n",
       "    </tr>\n",
       "    <tr>\n",
       "      <th>1</th>\n",
       "      <td>sinc1_1</td>\n",
       "      <td>0.031824</td>\n",
       "      <td>age</td>\n",
       "      <td>0.083784</td>\n",
       "    </tr>\n",
       "    <tr>\n",
       "      <th>2</th>\n",
       "      <td>age_f</td>\n",
       "      <td>0.031008</td>\n",
       "      <td>sinc3_1</td>\n",
       "      <td>0.047727</td>\n",
       "    </tr>\n",
       "    <tr>\n",
       "      <th>3</th>\n",
       "      <td>income_f</td>\n",
       "      <td>0.030352</td>\n",
       "      <td>field_cd</td>\n",
       "      <td>0.046594</td>\n",
       "    </tr>\n",
       "    <tr>\n",
       "      <th>4</th>\n",
       "      <td>age</td>\n",
       "      <td>0.026247</td>\n",
       "      <td>shar1_1</td>\n",
       "      <td>0.045647</td>\n",
       "    </tr>\n",
       "    <tr>\n",
       "      <th>5</th>\n",
       "      <td>shar1_1_f</td>\n",
       "      <td>0.026221</td>\n",
       "      <td>age_f</td>\n",
       "      <td>0.041693</td>\n",
       "    </tr>\n",
       "    <tr>\n",
       "      <th>6</th>\n",
       "      <td>amb1_1_f</td>\n",
       "      <td>0.024370</td>\n",
       "      <td>field_cd_f</td>\n",
       "      <td>0.040906</td>\n",
       "    </tr>\n",
       "    <tr>\n",
       "      <th>7</th>\n",
       "      <td>income</td>\n",
       "      <td>0.023079</td>\n",
       "      <td>amb2_1</td>\n",
       "      <td>0.034855</td>\n",
       "    </tr>\n",
       "    <tr>\n",
       "      <th>8</th>\n",
       "      <td>amb3_1_f</td>\n",
       "      <td>0.021964</td>\n",
       "      <td>amb2_1_f</td>\n",
       "      <td>0.034404</td>\n",
       "    </tr>\n",
       "    <tr>\n",
       "      <th>9</th>\n",
       "      <td>intel2_1_f</td>\n",
       "      <td>0.020492</td>\n",
       "      <td>race_f</td>\n",
       "      <td>0.032257</td>\n",
       "    </tr>\n",
       "  </tbody>\n",
       "</table>\n",
       "</div>"
      ],
      "text/plain": [
       "     clf_name  clf_feature_importances  myclf_name  myclf_feature_importances\n",
       "0    int_corr                 0.089993    int_corr                   0.092014\n",
       "1     sinc1_1                 0.031824         age                   0.083784\n",
       "2       age_f                 0.031008     sinc3_1                   0.047727\n",
       "3    income_f                 0.030352    field_cd                   0.046594\n",
       "4         age                 0.026247     shar1_1                   0.045647\n",
       "5   shar1_1_f                 0.026221       age_f                   0.041693\n",
       "6    amb1_1_f                 0.024370  field_cd_f                   0.040906\n",
       "7      income                 0.023079      amb2_1                   0.034855\n",
       "8    amb3_1_f                 0.021964    amb2_1_f                   0.034404\n",
       "9  intel2_1_f                 0.020492      race_f                   0.032257"
      ]
     },
     "execution_count": 666,
     "metadata": {},
     "output_type": "execute_result"
    }
   ],
   "source": [
    "clf = DecisionTreeClassifier()\n",
    "clf.fit(X_train, y_train)\n",
    "myclf = MyDecisionTreeClassifier()\n",
    "myclf.fit(X_train, y_train)\n",
    "features = df_pair.columns[1:]\n",
    "features_answer = get_features(clf,myclf, features, n_plot = 10)\n",
    "features_answer.head(10)"
   ]
  },
  {
   "cell_type": "markdown",
   "metadata": {},
   "source": [
    "## Задание 4"
   ]
  },
  {
   "cell_type": "code",
   "execution_count": 356,
   "metadata": {},
   "outputs": [
    {
     "data": {
      "text/plain": [
       "{'n_estimators': 65,\n",
       " 'min_samples_split': 3,\n",
       " 'max_depth': 15,\n",
       " 'criterion': 'entropy'}"
      ]
     },
     "execution_count": 356,
     "metadata": {},
     "output_type": "execute_result"
    }
   ],
   "source": [
    "# Определим пространство поиска\n",
    "param_grid = {\"max_depth\": range(1,20), \\\n",
    "          \"min_samples_split\": range(2, 20), \\\n",
    "          \"criterion\": [\"gini\", \"entropy\"], \\\n",
    "             \"n_estimators\": range(5,100,5)\n",
    "             }\n",
    "# Будем делать 400 запусков поиска\n",
    "model = RandomForestClassifier()\n",
    "random_search = RandomizedSearchCV(model, param_grid, cv = 5, n_iter=400, n_jobs=-1)\n",
    "random_search.fit(X_train, y_train)\n",
    "random_search.best_params_"
   ]
  },
  {
   "cell_type": "code",
   "execution_count": null,
   "metadata": {},
   "outputs": [],
   "source": []
  }
 ],
 "metadata": {
  "kernelspec": {
   "display_name": "Python 3",
   "language": "python",
   "name": "python3"
  },
  "language_info": {
   "codemirror_mode": {
    "name": "ipython",
    "version": 3
   },
   "file_extension": ".py",
   "mimetype": "text/x-python",
   "name": "python",
   "nbconvert_exporter": "python",
   "pygments_lexer": "ipython3",
   "version": "3.6.6"
  }
 },
 "nbformat": 4,
 "nbformat_minor": 2
}
