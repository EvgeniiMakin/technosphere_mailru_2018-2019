{
 "cells": [
  {
   "cell_type": "markdown",
   "metadata": {},
   "source": [
    "# Алгоритмы интеллектуальной обработки больших объемов данных\n",
    "## Домашнее задание №5 - Алгоритмы кластеризации\n"
   ]
  },
  {
   "cell_type": "markdown",
   "metadata": {},
   "source": [
    "###### <hr\\>\n",
    "**Общая информация**\n",
    "\n",
    "**Срок сдачи:** 15 декабря 2018, 06:00 <br\\>\n",
    "**Штраф за опоздание:** -2 балла после 06:00 17 декабря, -4 балла после 06:00 24 декабря, -6 баллов после 06:00 31 декабря -8 баллов  после 06:00 7 января\n",
    "\n",
    "\n",
    "Используйте данный Ipython Notebook при оформлении домашнего задания.\n",
    "<hr\\>"
   ]
  },
  {
   "cell_type": "markdown",
   "metadata": {},
   "source": [
    "**Из чего состоит задание:**\n",
    "\n",
    "###### Теоретические вопросы (2 балла)\n",
    "\n",
    "###### Реализация алгоритма кластеризации (6 баллов)\n",
    "\n",
    "###### Боевое применение (2 балла)\n",
    "\n",
    "\n"
   ]
  },
  {
   "cell_type": "markdown",
   "metadata": {},
   "source": [
    "**Штрафные баллы:**\n",
    "\n",
    "1. Невыполнение PEP8 -1 балл\n",
    "2. Отсутствие фамилии в имени скрипта (скрипт должен называться по аналогии со stroykova_hw4.ipynb) -1 балл\n",
    "3. Все строчки должны быть выполнены. Нужно, чтобы output команды можно было увидеть уже в git'е. В противном случае -1 балл\n",
    "4. При оформлении ДЗ нужно пользоваться данным файлом в качестве шаблона. Не нужно удалять и видоизменять написанный код и текст. В противном случае -1 балл"
   ]
  },
  {
   "cell_type": "markdown",
   "metadata": {},
   "source": [
    "# Определяем, что вам досталось"
   ]
  },
  {
   "cell_type": "markdown",
   "metadata": {},
   "source": [
    "Укажите свою фамилию на русском языке в поле ниже."
   ]
  },
  {
   "cell_type": "code",
   "execution_count": 32,
   "metadata": {},
   "outputs": [
    {
     "name": "stdout",
     "output_type": "stream",
     "text": [
      "Имплементируйте алгоритм кластеризации Gaussian Mixture Model с использованием maximum a-posteriori для выбора кластера (параметр - число кластеров)\n"
     ]
    }
   ],
   "source": [
    "import hashlib\n",
    "\n",
    "def lucky_hash(text):\n",
    "    return int(hashlib.md5(text.encode('utf-8')).hexdigest()[:8], 16) \n",
    "\n",
    "USER_NAME = u\"Мaкин\".lower()\n",
    "\n",
    "ALGORITHMS = [\n",
    "    u\"Gaussian Mixture Model с использованием maximum a-posteriori для выбора кластера (параметр - число кластеров)\",\n",
    "    u\"Hierarchical clustering с поддержкой single-linkage, complete-linkage, average-linkage (параметры - число кластеров, linkage)\",]\n",
    "\n",
    "print (\"Имплементируйте алгоритм кластеризации %s\"\\\n",
    "% (\n",
    "    ALGORITHMS[lucky_hash(USER_NAME[::-1]) % 2]\n",
    ") )"
   ]
  },
  {
   "cell_type": "markdown",
   "metadata": {},
   "source": [
    "Не стоит переживать из-за Вашего варианта. Технически оба алгоритма несложно реализовать.  EM алгоритма бояться не стоит, Вам будет нужно просто реализовать уже выведенные формулы для E и M шагов."
   ]
  },
  {
   "cell_type": "code",
   "execution_count": 514,
   "metadata": {},
   "outputs": [
    {
     "name": "stdout",
     "output_type": "stream",
     "text": [
      "Populating the interactive namespace from numpy and matplotlib\n"
     ]
    }
   ],
   "source": [
    "import time\n",
    "import pandas as pd\n",
    "import pylab as pl\n",
    "import numpy as np\n",
    "import scipy.spatial as ss\n",
    "import sklearn.cluster as sc\n",
    "import sklearn.manifold as sm\n",
    "import sklearn.datasets as ds\n",
    "import sklearn.metrics as smt\n",
    "from sklearn.mixture import GaussianMixture\n",
    "from sklearn.cluster import AgglomerativeClustering\n",
    "\n",
    "import matplotlib.pyplot as plt\n",
    "\n",
    "%matplotlib inline\n",
    "\n",
    "plt.style.use('ggplot')\n",
    "plt.rcParams['figure.figsize'] = (12,5)\n",
    "\n",
    "# Plotting config\n",
    "%pylab inline"
   ]
  },
  {
   "cell_type": "code",
   "execution_count": 512,
   "metadata": {},
   "outputs": [
    {
     "name": "stdout",
     "output_type": "stream",
     "text": [
      "The pycodestyle_magic extension is already loaded. To reload it, use:\n",
      "  %reload_ext pycodestyle_magic\n"
     ]
    }
   ],
   "source": [
    "%load_ext pycodestyle_magic"
   ]
  },
  {
   "cell_type": "code",
   "execution_count": 515,
   "metadata": {},
   "outputs": [],
   "source": [
    "from scipy.stats import multivariate_normal"
   ]
  },
  {
   "cell_type": "markdown",
   "metadata": {},
   "source": [
    "# Теоретическое введение\n"
   ]
  },
  {
   "cell_type": "markdown",
   "metadata": {},
   "source": [
    "Основная задача кластерного анализа — разбиение исходного набора объектов на группы (кластеры) таким образом, чтобы объекты в группе были похожи друг на друга, а объекты из разных групп - отличались. \n",
    "\n",
    "В этой работе мы будем реализовывать один из двух популярных методов кластеризации: разделение смеси нормальных распределений или агломеративную кластеризацию. "
   ]
  },
  {
   "cell_type": "markdown",
   "metadata": {
    "collapsed": true
   },
   "source": [
    "## Смесь нормальных распределений\n",
    "\n"
   ]
  },
  {
   "cell_type": "markdown",
   "metadata": {
    "collapsed": true
   },
   "source": [
    "Предполагаем, что наши данные порождены смесью $k$ нормальных распределений, то есть \n",
    "\n",
    "$$ p(\\mathbf{x}) = \\sum_k \\pi_k \\mathcal{N}(\\mathbf{x} | \\mathbf{\\mu}_k, \\mathbf{\\Sigma}_k) $$,\n",
    "\n",
    "\n",
    "где $\\mathcal{N}$ - многомерное нормальное распределение размерности ${D}$:"
   ]
  },
  {
   "cell_type": "markdown",
   "metadata": {
    "collapsed": true
   },
   "source": [
    "$$\\mathcal{N(\\mathbf{x} | \\mathbf{\\mu}, \\mathbf{\\Sigma}}) = \\frac{1}{(2 \\pi)^{D/2}} \\frac{1}{|\\mathbf{\\Sigma}|^{1/2}} \\exp \\left\\{-\\frac{1}{2}(\\mathbf{x} - \\mathbf{\\mu})^T \\mathbf{\\Sigma^{-1}} (\\mathbf{x} - \\mathbf{\\mu})\\right\\}$$\n",
    "\n",
    "**Параметры**  \n",
    "\n",
    "\n",
    "${D}$-мерный вектор средних\n",
    "\n",
    "$$\\mathbf{\\mu}$$\n",
    "\n",
    "$D \\times D$-мерная матрица ковариации   (симметричная)\n",
    "\n",
    "\n",
    "$$\\mathbf{\\Sigma} = E[(\\mathbf{x} - \\mathbf{\\mu})(\\mathbf{x} - \\mathbf{\\mu})^T]$$\n",
    "\n"
   ]
  },
  {
   "cell_type": "markdown",
   "metadata": {
    "collapsed": true
   },
   "source": [
    "Необходимо оценить параметры $\\pi_k, \\mathbf{\\mu_k}, \\mathbf{\\Sigma_k} $ для всех компонент смеси.  Сделать это можно с помощью EM алгоритма - алгоритма, который находит оценку максимального правдоподобия в задаче со скрытыми переменными. "
   ]
  },
  {
   "cell_type": "markdown",
   "metadata": {},
   "source": [
    "## Expectation Maximization\n",
    "\n",
    "**I** До цикла проинциализировать случайно  $\\mu_k, \\Sigma_k, \\pi_k$ ($\\pi_k$ должны суммироваться в 1)\n",
    "\n",
    "**E** Expectation: при фиксированных $\\mu_k, \\Sigma_k, \\pi_k$\n",
    "$$\n",
    "p(z_k = 1| x_n ) = \\gamma(z_{nk}) = \\frac{\\pi_k \\mathcal{N} (\\mathbf{x}_n | \\mu_k, \\Sigma_k)}{\\sum_{j=1}^K \\pi_j \\mathcal{N} (\\mathbf{x}_n | \\mu_j, \\Sigma_j)}\n",
    "$$\n",
    "**M** Maximization: при фиксированных $\\gamma(z_{nk})$\n",
    "$$\n",
    "N_k = \\sum_{n=1}^N \\gamma(z_{nk}), \\;\\; \\mu_k = \\frac 1 {N_k} \\sum_{n=1}^N \\gamma(z_{nk}) \\mathbf{x}_n\n",
    "$$\n",
    "$$\n",
    "\\Sigma_k = \\frac 1 {N_k} \\sum_{n=1}^N \\gamma(z_{nk}) (\\mathbf{x}_n - \\mu_k)(\\mathbf{x}_n - \\mu_k)^T\n",
    "$$\n",
    "$$\n",
    "\\pi_k = \\frac{N_k}{N}\n",
    "$$\n",
    "**S** Остановиться при достижении сходимости"
   ]
  },
  {
   "cell_type": "markdown",
   "metadata": {},
   "source": [
    "Номер кластера для $n$ объекта будем брать по принципу maximum a-posteriori, то есть относить объект к тому кластеру, у которого максимальна апостериорная вероятность:\n",
    "$$ k_n =  \\arg\\underset{k}\\max  p(z_k = 1| x_n ) =  \\arg\\underset{k}\\max \\gamma(z_{nk}) $$"
   ]
  },
  {
   "cell_type": "markdown",
   "metadata": {
    "collapsed": true
   },
   "source": [
    "## Агломеративная кластеризация"
   ]
  },
  {
   "cell_type": "markdown",
   "metadata": {},
   "source": [
    "Иерархические алгоритмы кластеризации строят на выборке систему вложенных разбиений.  Наиболее часто испоьзуемые иерархические алгоритмы - агломеративные алгоритмы, которые строят ирархию по восходящей, то есть от момента, когда все элементы являются отдельными кластерами, до того момента, пока вся выборка не станет одним кластером."
   ]
  },
  {
   "cell_type": "markdown",
   "metadata": {},
   "source": [
    "Сам алгоритм описать можно примерно так:\n",
    "\n",
    "* начинаем с ситуации, когда каждый объект - отдельный кластер\n",
    "* на каждом шаге совмещаем два наиболее близких кластера\n",
    "* останавливаемся, когда получаем требуемое количество или единственный кластер"
   ]
  },
  {
   "cell_type": "markdown",
   "metadata": {},
   "source": [
    "\n",
    "В данной работе Вам предлагается реализовать три варианта расстояний между кластерами, по которым Вы определяете пару для слияния: \n",
    "* Single linkage\n",
    "$$ d_{min}(C_i, C_j) = \\min_{\\mathbf{x} \\in C_i, \\mathbf{x}' \\in C_j} \\|\\mathbf{x} -\\mathbf{x}' \\| $$\n",
    "\n",
    "* Complete linkage\n",
    "$$ d_{max}(C_i, C_j) = \\max_{\\mathbf{x} \\in C_i, \\mathbf{x}' \\in C_j} \\|\\mathbf{x} -\\mathbf{x}' \\| $$\n",
    "\n",
    "* Average linkage\n",
    "$$ d_{avg}(C_i, C_j) = \\frac{1}{n_i n_j}\\sum_{\\mathbf{x} \\in C_i}\\sum_{\\mathbf{x}' \\in C_j} \\|\\mathbf{x} -\\mathbf{x}' \\| $$\n",
    "\n",
    "Для простоты будем использовать евклидово расстояние между объектами.\n",
    "\n"
   ]
  },
  {
   "cell_type": "markdown",
   "metadata": {},
   "source": [
    "Для того, чтобы на втором этапе нам не пересчитывать заново расстояния между всеми парами кластеров, можно использовать Формулы Ланса-Вильямса, которые позволяют посчитать расстояние между кластерами после объединения, используя только расстояния между кластерами до объедения.  Таким образом, достаточно будет посчитать расстояния только между всеми одноэлементными кластерами (первый этап), а затем пересчитывать расстояния при их объединении через \n",
    "формулы Ланса-Вильямса. \n",
    "\n",
    "Общая  формула выглядит так:\n",
    "$$ d(C_i \\cup C_j, C_k) = a_i \\cdot d(C_i, C_k) + a_j \\cdot d(C_j, C_k) + b \\cdot d(C_i, C_j) + c \\cdot |d(C_i, C_k) - d(C_j, C_k)|$$\n",
    "\n",
    "Можно показать, что все относительно разумные кластерные расстояния можно описать данной формулой. \n",
    "\n",
    "Для интересущих нас linkage:\n",
    "\n",
    "* single-linkage       $a_i = \\frac{1}{2}, a_j =  \\frac{1}{2}, b = 0, c =  - \\frac{1}{2} $\n",
    "\n",
    "* complete-linkage     $a_i = \\frac{1}{2}, a_j =  \\frac{1}{2}, b = 0, c =   \\frac{1}{2} $\n",
    "\n",
    "* average-linkage       $a_i = \\frac{|C_i|}{|C_i \\cup C_j|}, a_j =  \\frac{|C_j|}{|C_i \\cup C_j|}, b = 0, c = 0 $\n",
    "\n"
   ]
  },
  {
   "cell_type": "markdown",
   "metadata": {},
   "source": [
    "# Теоретические вопросы (2 балла)\n",
    "В этой части Вам будут предложены теоретичские вопросы и задачи по теме. Вы, конечно, можете списать их у своего товарища или найти решение в интернете, но учтите, что они обязательно войдут в теоретический коллоквиум. Лучше разобраться в теме сейчас и успешно ответить на коллоквиуме, чем списать, не разобравшись в материале, и быть терзаемым совестью. \n",
    "\n",
    "\n",
    "Формулы надо оформлять в формате **LaTeX**."
   ]
  },
  {
   "cell_type": "markdown",
   "metadata": {},
   "source": [
    "***Задача 1. Сходимость kmeans.***\n",
    "\n",
    "Метод kmeans является частным случаем EM алгоритма и наиболее простым в обосновании сходимости. Докажите, что kmeans всегда сходится, и итераций не будет превышать $k^N$, где $k$ $-$ число кластеров, $N$ $-$ число объектов\n",
    "\n",
    "Подсказка: Вам стоит рассмотреть функционал, который минимизирует алгоритм, и подумать, как он изменяется на E шаге и на M шаге.\n",
    "\n"
   ]
  },
  {
   "cell_type": "markdown",
   "metadata": {},
   "source": [
    "***Ваше решение здесь***\n",
    "\n",
    "Алгоритм k-means минимизирует следующий функционал:\n",
    "\n",
    "$$ J = \\sum_{i=1}^{K} \\sum_{x \\in C_i} \\left\\lVert x - \\mu_i \\right\\rVert^2 $$\n",
    "\n",
    "т.е. минимизируется сумма квадратов отклонений точек от центров кластеров.\n",
    "\n",
    "Всего у нас $K$ - кластеров, каждый объект (всего объектов $N$) может принадлежать одному из них, а значит всевозможных разбиений $N$ объектов на $K$ кластеров - $K^N$ штук. \n",
    "\n",
    "Используем теорему Вейерштрасса:  \n",
    "> Теорема Вейерштрасса об ограниченной сверху возрастающей последовательности утверждает, что любая ограниченная сверху монотонно возрастающая последовательность имеет предел, причем этот предел равен её точной верхней (или нижней) грани.\n",
    "\n",
    "Функционал квадратичный, а значит существует только один локальный минимум (он же глобальный). На каждой итерации алгоритма происходит новый выбор центров кластеров, получаем каждый раз новое разбиение объектов на кластера, причем каждое новое разбиение зависит от старого, и значение функционала каждый раз не возрастает, т.е получается что на каждой итерации мы либо уменьшаем значение функционала, либо достигаем минимума (алгоритм завершен), а значит по теореме Вейерштрасса существует сходимость, и алгоритм отработает не более чем за $K^N$ шагов."
   ]
  },
  {
   "cell_type": "markdown",
   "metadata": {},
   "source": [
    "***Задача 2. Сходимость EM.***\n",
    "\n",
    "Разобравшись со сходимостью kmeans, можно догадаться и до ответа про EM алгоритм.\n",
    "\n",
    "При каком условии на правдоподобие системы EM алгоритм будет  сходиться?\n",
    "\n"
   ]
  },
  {
   "cell_type": "markdown",
   "metadata": {},
   "source": [
    "***Ваше решение здесь***\n",
    "\n",
    "* EM-алгоритм на каждом шаге неуменьшает правдоподобие системы, а значит для сходимости нужно, чтобы правдоподобие системы было ограничено."
   ]
  },
  {
   "cell_type": "markdown",
   "metadata": {},
   "source": [
    "***Задача 3. Формулы Ланса-Вильямса.***\n",
    "\n",
    "Формулы Ланса-Вильямса крайне удобны для быстрого пересчета расстояний в агломеративной кластеризации. Давайте докажем  формулы для single и complete linkage. \n",
    "\n",
    "Докажите, что:\n",
    "\n",
    "$d_{\\min}(U \\cup V, S) = \\frac{1}{2} d_{\\min}(U, S) + \\frac{1}{2} d_{\\min}(V, S)  - \\frac{1}{2} | d_{\\min}(U, S) - d_{\\min}(V, S) |  $\n",
    "\n",
    "\n",
    "$d_{\\max}(U \\cup V, S) = \\frac{1}{2} d_{\\max}(U, S) + \\frac{1}{2} d_{\\max}(V, S)  + \\frac{1}{2} | d_{\\max}(U, S) - d_{\\max}(V, S) |  $\n",
    "\n",
    "\n"
   ]
  },
  {
   "cell_type": "markdown",
   "metadata": {},
   "source": [
    "***Ваше решение здесь***\n",
    "\n",
    "* 1)\n",
    "\n",
    "Докажем вначале, что $ min(a,\\,b) = \\frac{1}{2} a + \\frac{1}{2} b - \\frac{1}{2} \\left| a - b \\right| (*)$ \n",
    "\n",
    "$$\\begin{matrix} min(a,\\,b) = b = \\frac{1}{2} a + \\frac{1}{2} b - \\frac{1}{2} (a - b), a >= b \\\\ min(a,\\,b) = a = \\frac{1}{2} a + \\frac{1}{2} b + \\frac{1}{2}(a - b), a <= b \\end{matrix}$$\n",
    "\n",
    "Или просто можно записать\n",
    "\n",
    "$$ min(a,\\,b) = \\frac{1}{2} a + \\frac{1}{2} b - \\frac{1}{2} \\left| a - b \\right| $$\n",
    "Также, очевидно, что:\n",
    "$$ d_{min} (U \\cup V,\\,S) = min(d_{min}(U,\\,S),\\, d_{min}(V,\\,S)) $$\n",
    "\n",
    "Тогда используя $(*)$, получаем:\n",
    "$$d_{\\min}(U \\cup V, S) = \\frac{1}{2} d_{\\min}(U, S) + \\frac{1}{2} d_{\\min}(V, S)  - \\frac{1}{2} | d_{\\min}(U, S) - d_{\\min}(V, S) |  $$\n",
    "\n",
    "ч.т.д.\n",
    "\n",
    "* 2)\n",
    "\n",
    "Докажем вначале, что $ max(a,\\,b) = \\frac{1}{2} a + \\frac{1}{2} b + \\frac{1}{2} \\left| a - b \\right| (**)$ \n",
    "\n",
    "$$\\begin{matrix} max(a,\\,b) = a = \\frac{1}{2} a + \\frac{1}{2} b + \\frac{1}{2} (a - b), a >= b \\\\ max(a,\\,b) = b = \\frac{1}{2} a + \\frac{1}{2} b - \\frac{1}{2}(a - b), a <= b \\end{matrix}$$\n",
    "\n",
    "Или просто можно записать\n",
    "\n",
    "$$ max(a,\\,b) = \\frac{1}{2} a + \\frac{1}{2} b + \\frac{1}{2} \\left| a - b \\right| $$\n",
    "Также, очевидно, что:\n",
    "$$ d_{max} (U \\cup V,\\,S) = max(d_{max}(U,\\,S),\\, d_{max}(V,\\,S)) $$\n",
    "\n",
    "Тогда используя $(**)$, получаем:\n",
    "$$d_{\\max}(U \\cup V, S) = \\frac{1}{2} d_{\\max}(U, S) + \\frac{1}{2} d_{\\max}(V, S)  + \\frac{1}{2} | d_{\\max}(U, S) - d_{\\max}(V, S) |  $$\n",
    "ч.т.д.\n"
   ]
  },
  {
   "cell_type": "markdown",
   "metadata": {},
   "source": [
    "# Реализация алгоритма кластеризации  (6 баллов)"
   ]
  },
  {
   "cell_type": "markdown",
   "metadata": {},
   "source": [
    "Алгоритм кластеризации должен удовлетворять следующему интерфейсу. Конструктор принимает набор параметров, необходимых для работы алгоритма кластеризации. Метод `fit` подсчитывает параметры модели и возвращает `self`. Метод `predict` возвращает вектор с индексами кластеров для поданных в него объектов `x`. "
   ]
  },
  {
   "cell_type": "code",
   "execution_count": 517,
   "metadata": {},
   "outputs": [],
   "source": [
    "%%pycodestyle\n",
    "\n",
    "from sklearn.base import BaseEstimator, ClusterMixin\n",
    "\n",
    "\n",
    "class Clustering(BaseEstimator, ClusterMixin):\n",
    "    \"\"\"\n",
    "    Implement clustering algorithm according\n",
    "    \"\"\"\n",
    "\n",
    "    def __init__(self, n_components=2, random_state=0, max_iter=100):\n",
    "        \"\"\"\n",
    "        Please add necessary algoritm parameters to class constructor.\n",
    "        \"\"\"\n",
    "        self. n_components = n_components\n",
    "        self.max_iter = max_iter\n",
    "        self.random_state = random_state\n",
    "        return\n",
    "\n",
    "    def fit(self, x, y=None):\n",
    "        \"\"\"\n",
    "        Use data matrix x to compute model parameters\n",
    "        \"\"\"\n",
    "        np.random.seed(self.random_state)\n",
    "        self.shape_0 = len(x)\n",
    "        self.shape_1 = x.shape[1]\n",
    "        self.pi = np.random.random(size=self.n_components)\n",
    "        self.pi /= self.pi.sum()\n",
    "\n",
    "        self.mu = [x[np.random.randint(0, x.shape[0])]]\n",
    "        for i in range(1, self.n_components):\n",
    "            cum = ss.distance.cdist(x, self.mu,\n",
    "                                    metric='sqeuclidean').min(axis=1)\n",
    "            cumsum = np.cumsum(cum)\n",
    "            index = (cumsum >= np.random.random() * cumsum[-1]) \\\n",
    "                .tolist().index(True)\n",
    "            self.mu.append(x[index])\n",
    "\n",
    "        self.sigma = np.array([np.eye(len(x[0]))\n",
    "                               for i in range(self.n_components)])\n",
    "        p = np.zeros((self.n_components, self.shape_0))\n",
    "        for i in range(self.max_iter):\n",
    "            # Найдем p\n",
    "            for k in range(self.n_components):\n",
    "                # pdf - probability density function\n",
    "                p[k, :] = self.pi[k] * \\\n",
    "                    multivariate_normal.pdf(x, allow_singular=True,\n",
    "                                            mean=self.mu[k], cov=self.sigma[k])\n",
    "            p = p/(np.sum(p, axis=0))\n",
    "            # N_k\n",
    "            N_k = np.sum(p, axis=1)\n",
    "            # mu\n",
    "            self.mu = (p @ x) / N_k.reshape(-1, 1)\n",
    "            # sigma\n",
    "            for i in range(self.n_components):\n",
    "                for j in range(len(x)):\n",
    "                    self.sigma[i] += p[i, j] * \\\n",
    "                        np.outer(x[j] - self.mu[i], x[j] - self.mu[i])\n",
    "                self.sigma[i] = self.sigma[i] / N_k[i]\n",
    "            # pi\n",
    "            self.pi = N_k[:, None] / self.shape_0\n",
    "        return self\n",
    "\n",
    "    def predict(self, x):\n",
    "        \"\"\"\n",
    "        Using computed model parameters predict cluster\n",
    "        for all objects from x\n",
    "        \"\"\"\n",
    "        p = np.empty((self.n_components, x.shape[0]))\n",
    "        for k in range(self.n_components):\n",
    "            # pdf - probability density function\n",
    "            p[k] = self.pi[k] * \\\n",
    "                multivariate_normal.pdf(x, self.mu[k], self.sigma[k])\n",
    "        return p.argmax(axis=0)\n",
    "\n",
    "    def fit_predict(self, x, y=None):\n",
    "        self.fit(x, y)\n",
    "        return self.predict(x)"
   ]
  },
  {
   "cell_type": "markdown",
   "metadata": {},
   "source": [
    "Сначала проверим реализованный алгоритм кластеризации на классическом наборе данных [Iris](http://www.wikiwand.com/en/Iris_flower_data_set). Загрузим данные (они включены в библиотеку sklearn) и посмотрим на то, как они выглядят в двух проекциях (для простоты используем 2 класса из 3)."
   ]
  },
  {
   "cell_type": "code",
   "execution_count": 518,
   "metadata": {},
   "outputs": [
    {
     "data": {
      "image/png": "[encoded data removed]",
      "text/plain": [
       "<Figure size 720x360 with 2 Axes>"
      ]
     },
     "metadata": {
      "needs_background": "light"
     },
     "output_type": "display_data"
    }
   ],
   "source": [
    "iris = ds.load_iris()\n",
    "x_iris = iris.data[:100]\n",
    "y_iris = iris.target[:100]\n",
    "\n",
    "pl.figure(figsize=(10, 5))\n",
    "\n",
    "pl.subplot(1, 2, 1)\n",
    "pl.scatter(x_iris[:, 0], x_iris[:, 1], c=y_iris, cmap=pl.cm.PuOr, lw=0, s=30)\n",
    "plt.xlabel('Sepal length')\n",
    "plt.ylabel('Sepal width')\n",
    "\n",
    "pl.subplot(1, 2, 2)\n",
    "pl.scatter(x_iris[:, 2], x_iris[:, 3], c=y_iris, cmap=pl.cm.PuOr, lw=0, s=30)\n",
    "plt.xlabel('Petal length')\n",
    "plt.ylabel('Petal width')\n",
    "pl.show()"
   ]
  },
  {
   "cell_type": "markdown",
   "metadata": {},
   "source": [
    "Видно, что классы разделяются, поэтому можно надеяться, что наш алгоритм \"найдет\" кластеры, соответствующие исходным классам. Результат работы реализованного алгоритма кластеризации предлагается сравнить с эталонной кластеризацией. Для этого предлагается изучить метрику ([adjusted rand score](http://scikit-learn.org/stable/modules/generated/sklearn.metrics.adjusted_rand_score.html)). В случае если значение этой метрики отличается от 1, предлагается поработать над улучшением реализации своего алгоритма."
   ]
  },
  {
   "cell_type": "code",
   "execution_count": 519,
   "metadata": {},
   "outputs": [
    {
     "name": "stdout",
     "output_type": "stream",
     "text": [
      "GMM score 1.0. GMM time 0.004623889923095703. AGGL score 1.0. AGGL time 0.0008077621459960938\n"
     ]
    }
   ],
   "source": [
    "# Давайте проверим, как справляются sklearn реализации\n",
    "sklearn_gmm = GaussianMixture(n_components=2)\n",
    "gmm_t0 = time.time()\n",
    "sklearn_gmm.fit(x_iris)\n",
    "gmm_diff = time.time() - gmm_t0\n",
    "gmm_score = smt.adjusted_rand_score(y_iris, sklearn_gmm.predict(x_iris))\n",
    "\n",
    "sklearn_aggl = AgglomerativeClustering(n_clusters=2)\n",
    "aggl_t0 = time.time()\n",
    "aggl_pred = sklearn_aggl.fit_predict(x_iris)\n",
    "aggl_diff = time.time() - aggl_t0\n",
    "aggl_score = smt.adjusted_rand_score(y_iris, aggl_pred)\n",
    "print (\"GMM score {}. GMM time {}. AGGL score {}. AGGL time {}\".format(gmm_score, gmm_diff, aggl_score, aggl_diff))"
   ]
  },
  {
   "cell_type": "code",
   "execution_count": 521,
   "metadata": {},
   "outputs": [
    {
     "name": "stdout",
     "output_type": "stream",
     "text": [
      "Adjusted Rand index for iris is: 1.00\n"
     ]
    }
   ],
   "source": [
    "model = Clustering(n_components=2)\n",
    "my_gmm_t0 = time.time()\n",
    "model.fit(x_iris)\n",
    "pred_iris = model.predict(x_iris)\n",
    "my_gmm_diff = time.time() - my_gmm_t0\n",
    "print(\"Adjusted Rand index for iris is: %.2f\" % smt.adjusted_rand_score(y_iris, pred_iris))"
   ]
  },
  {
   "cell_type": "markdown",
   "metadata": {},
   "source": [
    "Сверьте Ваш алгоритм с этими числами. Уверен, что у Вас получится не хуже!"
   ]
  },
  {
   "cell_type": "markdown",
   "metadata": {
    "collapsed": true
   },
   "source": [
    "# Боевое применение (2  балла)\n"
   ]
  },
  {
   "cell_type": "markdown",
   "metadata": {
    "collapsed": true
   },
   "source": [
    "Алгоритмы кластеризации прекрасны тем, что они позволяют быстро понять, как устроены наши данные. Давайте применим Ваш алгоритм для анализа реальной задачи!"
   ]
  },
  {
   "cell_type": "markdown",
   "metadata": {},
   "source": [
    "Важное замечание: в этой части задания студенту самому предлагается разобраться с данными и их форматом в качестве полезного упраженения. Не принимайте это близко к сердцу :)"
   ]
  },
  {
   "cell_type": "markdown",
   "metadata": {},
   "source": [
    "Ввозьмем датасет различных стран.  \n",
    "Данные нужно скачать тут https://data.worldbank.org/data-catalog/world-development-indicators.   \n"
   ]
  },
  {
   "cell_type": "markdown",
   "metadata": {},
   "source": [
    "Подход следующий: фиксируем год, для каждой страны берём индикаторы по зафиксированному году, кластеризуем по индикаторам. \n",
    "Разбиение должно быть объяснимым, в противном случае, скорее всего нужно лучше настроить параметры кластеризации.   \n",
    "\n",
    "Необходимо показать, какие страны попали в общий кластер в и объяснить из-за каких признаков это произошло. Если страны были в одном кластере, а спустя несколько лет разъехались по разным кластерам, попробуйте это объяснить. "
   ]
  },
  {
   "cell_type": "code",
   "execution_count": 522,
   "metadata": {},
   "outputs": [],
   "source": [
    "# Место для Вашего кластерного анализа"
   ]
  },
  {
   "cell_type": "markdown",
   "metadata": {},
   "source": [
    "## 2010"
   ]
  },
  {
   "cell_type": "code",
   "execution_count": 642,
   "metadata": {},
   "outputs": [],
   "source": [
    "df = pd.read_csv('WDIData.csv')\n",
    "data = df[['Country Name','Indicator Name','2010']]\n",
    "data = data.dropna(axis= 0)\n",
    "\n",
    "dframe = data['2010'].groupby([data['Country Name'],data['Indicator Name']]).sum().unstack()\n",
    "for frame in dframe.columns: \n",
    "    dframe[frame].fillna(dframe[frame].mean(), inplace = True)\n",
    "\n",
    "Country_name = np.array(list(dframe.axes[0]))\n",
    "Array = np.array(dframe)"
   ]
  },
  {
   "cell_type": "code",
   "execution_count": 654,
   "metadata": {},
   "outputs": [],
   "source": [
    "from sklearn.manifold import TSNE\n",
    "Array_embedded = TSNE(n_components= 2).fit_transform(Array)"
   ]
  },
  {
   "cell_type": "code",
   "execution_count": 659,
   "metadata": {},
   "outputs": [
    {
     "data": {
      "text/plain": [
       "<matplotlib.collections.PathCollection at 0x7f1331880da0>"
      ]
     },
     "execution_count": 659,
     "metadata": {},
     "output_type": "execute_result"
    },
    {
     "data": {
      "image/png": "[encoded data removed]",
      "text/plain": [
       "<Figure size 432x288 with 1 Axes>"
      ]
     },
     "metadata": {
      "needs_background": "light"
     },
     "output_type": "display_data"
    }
   ],
   "source": [
    "model = GaussianMixture(n_components=6)\n",
    "model.fit(Array_embedded)\n",
    "y_Array = model.predict(Array_embedded)\n",
    "\n",
    "plt.scatter(Array_embedded[:, 0], Array_embedded[:, 1], c = y_Array)"
   ]
  },
  {
   "cell_type": "code",
   "execution_count": 661,
   "metadata": {},
   "outputs": [
    {
     "data": {
      "text/plain": [
       "<matplotlib.collections.PathCollection at 0x7f1330904400>"
      ]
     },
     "execution_count": 661,
     "metadata": {},
     "output_type": "execute_result"
    },
    {
     "data": {
      "image/png": "[encoded data removed]",
      "text/plain": [
       "<Figure size 432x288 with 1 Axes>"
      ]
     },
     "metadata": {
      "needs_background": "light"
     },
     "output_type": "display_data"
    }
   ],
   "source": [
    "model = Clustering(n_components=6, max_iter=100)\n",
    "model.fit(Array_embedded)\n",
    "y_Array = model.predict(Array_embedded)\n",
    "\n",
    "plt.scatter(Array_embedded[:, 0], Array_embedded[:, 1], c = y_Array)"
   ]
  },
  {
   "cell_type": "code",
   "execution_count": 662,
   "metadata": {},
   "outputs": [],
   "source": [
    "Country_clusters = [[] for i in range(len(set(y_Array)))]\n",
    "for i in range(len(y_Array)):\n",
    "    Country_clusters[y_Array[i]].append(Country_name[i])"
   ]
  },
  {
   "cell_type": "code",
   "execution_count": 663,
   "metadata": {
    "scrolled": false
   },
   "outputs": [
    {
     "data": {
      "text/plain": [
       "array([['Afghanistan', 'Albania', 'Algeria', 'Angola', 'Argentina',\n",
       "        'Armenia', 'Bangladesh', 'Benin', 'Bolivia',\n",
       "        'Bosnia and Herzegovina', 'Brazil', 'Brunei Darussalam',\n",
       "        'Bulgaria', 'Burkina Faso', 'Burundi', 'Cabo Verde', 'Cambodia',\n",
       "        'Cameroon', 'Central African Republic', 'Chad', 'Comoros',\n",
       "        'Congo, Dem. Rep.', 'Congo, Rep.', 'Costa Rica', \"Cote d'Ivoire\",\n",
       "        'Croatia', 'Czech Republic', 'Denmark', 'Dominican Republic',\n",
       "        'Ecuador', 'Egypt, Arab Rep.', 'Equatorial Guinea', 'Eritrea',\n",
       "        'Gabon', 'Gambia, The', 'Ghana', 'Guinea', 'Guinea-Bissau',\n",
       "        'Haiti', 'Honduras', 'Hong Kong SAR, China', 'Hungary', 'Israel',\n",
       "        'Jordan', 'Kazakhstan', 'Kenya', 'Kosovo', 'Kuwait',\n",
       "        'Kyrgyz Republic', 'Lesotho', 'Liberia', 'Macao SAR, China',\n",
       "        'Macedonia, FYR', 'Madagascar', 'Malaysia', 'Mali', 'Mauritania',\n",
       "        'Mexico', 'Mongolia', 'Montenegro', 'Mozambique', 'Nicaragua',\n",
       "        'Niger', 'Nigeria', 'Norway', 'Pakistan', 'Paraguay',\n",
       "        'Philippines', 'Poland', 'Puerto Rico', 'Qatar', 'Romania',\n",
       "        'Rwanda', 'Saudi Arabia', 'Senegal', 'Serbia', 'Sierra Leone',\n",
       "        'South Africa', 'Sudan', 'Sweden', 'Tajikistan', 'Tanzania',\n",
       "        'Thailand', 'Timor-Leste', 'Togo', 'Tunisia', 'Uganda',\n",
       "        'United Arab Emirates', 'United States', 'Uzbekistan', 'Vanuatu',\n",
       "        'Venezuela, RB', 'West Bank and Gaza', 'Yemen, Rep.', 'Zambia'],\n",
       "       ['American Samoa', 'Andorra', 'Antigua and Barbuda', 'Aruba',\n",
       "        'Barbados', 'Bermuda', 'Cayman Islands', 'China', 'Djibouti',\n",
       "        'Dominica', 'Ethiopia', 'Faroe Islands', 'Fiji', 'Georgia',\n",
       "        'Grenada', 'Guam', 'Guyana', 'India', 'Isle of Man', 'Kiribati',\n",
       "        'Lao PDR', 'Lebanon', 'Libya', 'Liechtenstein', 'Maldives',\n",
       "        'Micronesia, Fed. Sts.', 'Monaco', 'Myanmar', 'Nauru',\n",
       "        'Northern Mariana Islands', 'Papua New Guinea',\n",
       "        'Russian Federation', 'Samoa', 'San Marino',\n",
       "        'Sao Tome and Principe', 'Seychelles',\n",
       "        'Sint Maarten (Dutch part)', 'Solomon Islands',\n",
       "        'St. Kitts and Nevis', 'St. Lucia',\n",
       "        'St. Vincent and the Grenadines', 'Suriname', 'Tonga',\n",
       "        'Trinidad and Tobago', 'Turkmenistan', 'Tuvalu',\n",
       "        'Virgin Islands (U.S.)', None, None, None, None, None, None,\n",
       "        None, None, None, None, None, None, None, None, None, None, None,\n",
       "        None, None, None, None, None, None, None, None, None, None, None,\n",
       "        None, None, None, None, None, None, None, None, None, None, None,\n",
       "        None, None, None, None, None, None, None, None, None],\n",
       "       ['Arab World', 'British Virgin Islands', 'Caribbean small states',\n",
       "        'Central Europe and the Baltics', 'Channel Islands', 'Chile',\n",
       "        'Colombia', 'Curacao', 'Early-demographic dividend',\n",
       "        'East Asia & Pacific',\n",
       "        'East Asia & Pacific (IDA & IBRD countries)',\n",
       "        'East Asia & Pacific (excluding high income)', 'Euro area',\n",
       "        'Europe & Central Asia',\n",
       "        'Europe & Central Asia (IDA & IBRD countries)',\n",
       "        'Europe & Central Asia (excluding high income)',\n",
       "        'European Union', 'Fragile and conflict affected situations',\n",
       "        'French Polynesia', 'Gibraltar',\n",
       "        'Heavily indebted poor countries (HIPC)', 'High income',\n",
       "        'IBRD only', 'IDA & IBRD total', 'IDA blend', 'IDA only',\n",
       "        'IDA total', 'Iraq', 'Japan', 'Korea, Dem. People’s Rep.',\n",
       "        'Korea, Rep.', 'Late-demographic dividend',\n",
       "        'Latin America & Caribbean',\n",
       "        'Latin America & Caribbean (excluding high income)',\n",
       "        'Latin America & the Caribbean (IDA & IBRD countries)',\n",
       "        'Least developed countries: UN classification',\n",
       "        'Low & middle income', 'Low income', 'Lower middle income',\n",
       "        'Middle East & North Africa',\n",
       "        'Middle East & North Africa (IDA & IBRD countries)',\n",
       "        'Middle East & North Africa (excluding high income)',\n",
       "        'Middle income', 'New Caledonia', 'North America',\n",
       "        'OECD members', 'Other small states',\n",
       "        'Pacific island small states', 'Post-demographic dividend',\n",
       "        'Pre-demographic dividend', 'Small states', 'Somalia',\n",
       "        'South Asia', 'South Asia (IDA & IBRD)', 'South Sudan',\n",
       "        'St. Martin (French part)', 'Sub-Saharan Africa',\n",
       "        'Sub-Saharan Africa (IDA & IBRD countries)',\n",
       "        'Sub-Saharan Africa (excluding high income)',\n",
       "        'Syrian Arab Republic', 'Turks and Caicos Islands',\n",
       "        'Upper middle income', 'Vietnam', 'World', None, None, None,\n",
       "        None, None, None, None, None, None, None, None, None, None, None,\n",
       "        None, None, None, None, None, None, None, None, None, None, None,\n",
       "        None, None, None, None, None, None],\n",
       "       ['Indonesia', 'Iran, Islamic Rep.', None, None, None, None, None,\n",
       "        None, None, None, None, None, None, None, None, None, None, None,\n",
       "        None, None, None, None, None, None, None, None, None, None, None,\n",
       "        None, None, None, None, None, None, None, None, None, None, None,\n",
       "        None, None, None, None, None, None, None, None, None, None, None,\n",
       "        None, None, None, None, None, None, None, None, None, None, None,\n",
       "        None, None, None, None, None, None, None, None, None, None, None,\n",
       "        None, None, None, None, None, None, None, None, None, None, None,\n",
       "        None, None, None, None, None, None, None, None, None, None, None],\n",
       "       ['Austria', 'Belgium', 'Canada', 'Cuba', 'Cyprus', 'Estonia',\n",
       "        'Finland', 'France', 'Germany', 'Greece', 'Greenland', 'Ireland',\n",
       "        'Italy', 'Latvia', 'Lithuania', 'Luxembourg', 'Malta',\n",
       "        'Marshall Islands', 'Netherlands', 'Palau', 'Panama', 'Portugal',\n",
       "        'Slovak Republic', 'Slovenia', 'Spain', 'Zimbabwe', None, None,\n",
       "        None, None, None, None, None, None, None, None, None, None, None,\n",
       "        None, None, None, None, None, None, None, None, None, None, None,\n",
       "        None, None, None, None, None, None, None, None, None, None, None,\n",
       "        None, None, None, None, None, None, None, None, None, None, None,\n",
       "        None, None, None, None, None, None, None, None, None, None, None,\n",
       "        None, None, None, None, None, None, None, None, None, None, None,\n",
       "        None],\n",
       "       ['Australia', 'Azerbaijan', 'Bahamas, The', 'Bahrain', 'Belarus',\n",
       "        'Belize', 'Bhutan', 'Botswana', 'El Salvador', 'Eswatini',\n",
       "        'Guatemala', 'Iceland', 'Jamaica', 'Malawi', 'Mauritius',\n",
       "        'Moldova', 'Morocco', 'Namibia', 'Nepal', 'New Zealand', 'Oman',\n",
       "        'Peru', 'Singapore', 'Sri Lanka', 'Switzerland', 'Turkey',\n",
       "        'Ukraine', 'United Kingdom', 'Uruguay', None, None, None, None,\n",
       "        None, None, None, None, None, None, None, None, None, None, None,\n",
       "        None, None, None, None, None, None, None, None, None, None, None,\n",
       "        None, None, None, None, None, None, None, None, None, None, None,\n",
       "        None, None, None, None, None, None, None, None, None, None, None,\n",
       "        None, None, None, None, None, None, None, None, None, None, None,\n",
       "        None, None, None, None, None, None, None]], dtype=object)"
      ]
     },
     "execution_count": 663,
     "metadata": {},
     "output_type": "execute_result"
    }
   ],
   "source": [
    "res_2010 = pd.DataFrame(Country_clusters).T\n",
    "res_2010.T.values"
   ]
  },
  {
   "cell_type": "markdown",
   "metadata": {},
   "source": [
    "## 2000"
   ]
  },
  {
   "cell_type": "code",
   "execution_count": 347,
   "metadata": {},
   "outputs": [],
   "source": [
    "df = pd.read_csv('WDIData.csv')\n",
    "data = df[['Country Name','Indicator Name','2000']]\n",
    "data = data.dropna(axis= 0)\n",
    "\n",
    "dframe = data['2000'].groupby([data['Country Name'],data['Indicator Name']]).sum().unstack()\n",
    "for frame in dframe.columns: \n",
    "    dframe[frame].fillna(dframe[frame].mean(), inplace = True)\n",
    "\n",
    "Country_name = np.array(list(dframe.axes[0]))\n",
    "Array = np.array(dframe)"
   ]
  },
  {
   "cell_type": "code",
   "execution_count": 359,
   "metadata": {},
   "outputs": [],
   "source": [
    "from sklearn.manifold import TSNE\n",
    "Array_embedded = TSNE(n_components= 2).fit_transform(Array)\n",
    "#plt.scatter(Array_embedded[:, 0], Array_embedded[:, 1])"
   ]
  },
  {
   "cell_type": "code",
   "execution_count": 370,
   "metadata": {},
   "outputs": [
    {
     "data": {
      "text/plain": [
       "<matplotlib.collections.PathCollection at 0x7f133e9aeba8>"
      ]
     },
     "execution_count": 370,
     "metadata": {},
     "output_type": "execute_result"
    },
    {
     "data": {
      "image/png": "[encoded data removed]",
      "text/plain": [
       "<Figure size 432x288 with 1 Axes>"
      ]
     },
     "metadata": {
      "needs_background": "light"
     },
     "output_type": "display_data"
    }
   ],
   "source": [
    "model = GaussianMixture(n_components=6)\n",
    "model.fit(Array_embedded)\n",
    "y_Array = model.predict(Array_embedded)\n",
    "\n",
    "plt.scatter(Array_embedded[:, 0], Array_embedded[:, 1], c = y_Array)"
   ]
  },
  {
   "cell_type": "code",
   "execution_count": 367,
   "metadata": {},
   "outputs": [
    {
     "data": {
      "text/plain": [
       "<matplotlib.collections.PathCollection at 0x7f133eaa68d0>"
      ]
     },
     "execution_count": 367,
     "metadata": {},
     "output_type": "execute_result"
    },
    {
     "data": {
      "image/png": "[encoded data removed]",
      "text/plain": [
       "<Figure size 432x288 with 1 Axes>"
      ]
     },
     "metadata": {
      "needs_background": "light"
     },
     "output_type": "display_data"
    }
   ],
   "source": [
    "model = Clustering(n_components=6, max_iter=100)\n",
    "model.fit(Array_embedded)\n",
    "y_Array = model.predict(Array_embedded)\n",
    "\n",
    "plt.scatter(Array_embedded[:, 0], Array_embedded[:, 1], c = y_Array)"
   ]
  },
  {
   "cell_type": "code",
   "execution_count": 372,
   "metadata": {},
   "outputs": [],
   "source": [
    "Country_clusters = [[] for i in range(len(set(y_Array)))]\n",
    "for i in range(len(y_Array)):\n",
    "    Country_clusters[y_Array[i]].append(Country_name[i])"
   ]
  },
  {
   "cell_type": "code",
   "execution_count": 375,
   "metadata": {},
   "outputs": [
    {
     "data": {
      "text/plain": [
       "array([['Chile', 'Colombia', 'Djibouti', 'Iran, Islamic Rep.', 'Iraq',\n",
       "        'Japan', 'Korea, Rep.', 'Vietnam', None, None, None, None, None,\n",
       "        None, None, None, None, None, None, None, None, None, None, None,\n",
       "        None, None, None, None, None, None, None, None, None, None, None,\n",
       "        None, None, None, None, None, None, None, None, None, None, None,\n",
       "        None, None, None, None, None, None, None, None, None, None, None,\n",
       "        None, None, None, None, None, None, None, None, None, None, None,\n",
       "        None, None, None, None, None, None, None, None, None, None, None,\n",
       "        None, None, None, None, None, None, None, None, None, None, None,\n",
       "        None],\n",
       "       ['Algeria', 'Angola', 'Argentina', 'Armenia', 'Australia',\n",
       "        'Azerbaijan', 'Bahamas, The', 'Belarus', 'Belize', 'Benin',\n",
       "        'Bhutan', 'Bolivia', 'Botswana', 'Burkina Faso', 'Burundi',\n",
       "        'Cambodia', 'Cameroon', 'Chad', 'China', 'Comoros',\n",
       "        'Congo, Dem. Rep.', 'Congo, Rep.', 'Croatia', 'Cuba',\n",
       "        'Dominican Republic', 'Ecuador', 'El Salvador',\n",
       "        'Equatorial Guinea', 'Eritrea', 'Eswatini', 'Gabon', 'Guatemala',\n",
       "        'Guinea-Bissau', 'Honduras', 'Hong Kong SAR, China', 'India',\n",
       "        'Jordan', 'Kazakhstan', 'Kenya', 'Kyrgyz Republic', 'Lao PDR',\n",
       "        'Lebanon', 'Lesotho', 'Liberia', 'Macao SAR, China',\n",
       "        'Macedonia, FYR', 'Madagascar', 'Malaysia', 'Mali', 'Mauritania',\n",
       "        'Mauritius', 'Mexico', 'Moldova', 'Montenegro', 'Morocco',\n",
       "        'Mozambique', 'Namibia', 'Nigeria', 'Oman', 'Pakistan', 'Panama',\n",
       "        'Papua New Guinea', 'Paraguay', 'Peru', 'Philippines', 'Poland',\n",
       "        'Puerto Rico', 'Romania', 'Russian Federation', 'Rwanda',\n",
       "        'Saudi Arabia', 'Senegal', 'Serbia', 'Seychelles', 'Singapore',\n",
       "        'South Africa', 'Sri Lanka', 'Sudan', 'Syrian Arab Republic',\n",
       "        'Tajikistan', 'Tanzania', 'Thailand', 'Timor-Leste', 'Togo',\n",
       "        'Turkey', 'Uganda', 'Ukraine', 'United States', 'Uruguay',\n",
       "        'Venezuela, RB', 'West Bank and Gaza'],\n",
       "       ['Andorra', 'Antigua and Barbuda', 'Aruba', 'Bahrain', 'Barbados',\n",
       "        'Bermuda', 'Bosnia and Herzegovina', 'Cabo Verde',\n",
       "        'Central African Republic', 'Channel Islands', \"Cote d'Ivoire\",\n",
       "        'Dominica', 'Ethiopia', 'Fiji', 'French Polynesia', 'Georgia',\n",
       "        'Ghana', 'Greenland', 'Grenada', 'Guinea', 'Guyana',\n",
       "        'Isle of Man', 'Jamaica', 'Kiribati', 'Kosovo', 'Kuwait',\n",
       "        'Libya', 'Liechtenstein', 'Malawi', 'Maldives',\n",
       "        'Marshall Islands', 'Micronesia, Fed. Sts.', 'Monaco',\n",
       "        'Mongolia', 'Myanmar', 'Nepal', 'New Caledonia', 'Niger',\n",
       "        'Palau', 'San Marino', 'Solomon Islands', 'St. Kitts and Nevis',\n",
       "        'St. Lucia', 'St. Vincent and the Grenadines', 'Suriname',\n",
       "        'Tonga', 'Trinidad and Tobago', 'Tuvalu', 'United Arab Emirates',\n",
       "        'Vanuatu', None, None, None, None, None, None, None, None, None,\n",
       "        None, None, None, None, None, None, None, None, None, None, None,\n",
       "        None, None, None, None, None, None, None, None, None, None, None,\n",
       "        None, None, None, None, None, None, None, None, None, None],\n",
       "       ['Albania', 'Austria', 'Bangladesh', 'Belgium', 'Brazil',\n",
       "        'Brunei Darussalam', 'Bulgaria', 'Canada', 'Costa Rica',\n",
       "        'Cyprus', 'Czech Republic', 'Denmark', 'Egypt, Arab Rep.',\n",
       "        'Estonia', 'Finland', 'France', 'Gambia, The', 'Germany',\n",
       "        'Greece', 'Haiti', 'Hungary', 'Iceland', 'Ireland', 'Israel',\n",
       "        'Italy', 'Latvia', 'Lithuania', 'Luxembourg', 'Malta',\n",
       "        'Netherlands', 'New Zealand', 'Nicaragua', 'Norway', 'Portugal',\n",
       "        'Qatar', 'Samoa', 'Sierra Leone', 'Slovak Republic', 'Slovenia',\n",
       "        'Spain', 'Sweden', 'Switzerland', 'Tunisia', 'Turkmenistan',\n",
       "        'United Kingdom', 'Uzbekistan', 'Yemen, Rep.', 'Zambia',\n",
       "        'Zimbabwe', None, None, None, None, None, None, None, None, None,\n",
       "        None, None, None, None, None, None, None, None, None, None, None,\n",
       "        None, None, None, None, None, None, None, None, None, None, None,\n",
       "        None, None, None, None, None, None, None, None, None, None, None],\n",
       "       ['Indonesia', None, None, None, None, None, None, None, None,\n",
       "        None, None, None, None, None, None, None, None, None, None, None,\n",
       "        None, None, None, None, None, None, None, None, None, None, None,\n",
       "        None, None, None, None, None, None, None, None, None, None, None,\n",
       "        None, None, None, None, None, None, None, None, None, None, None,\n",
       "        None, None, None, None, None, None, None, None, None, None, None,\n",
       "        None, None, None, None, None, None, None, None, None, None, None,\n",
       "        None, None, None, None, None, None, None, None, None, None, None,\n",
       "        None, None, None, None, None],\n",
       "       ['Afghanistan', 'American Samoa', 'Arab World',\n",
       "        'British Virgin Islands', 'Caribbean small states',\n",
       "        'Cayman Islands', 'Central Europe and the Baltics', 'Curacao',\n",
       "        'Early-demographic dividend', 'East Asia & Pacific',\n",
       "        'East Asia & Pacific (IDA & IBRD countries)',\n",
       "        'East Asia & Pacific (excluding high income)', 'Euro area',\n",
       "        'Europe & Central Asia',\n",
       "        'Europe & Central Asia (IDA & IBRD countries)',\n",
       "        'Europe & Central Asia (excluding high income)',\n",
       "        'European Union', 'Faroe Islands',\n",
       "        'Fragile and conflict affected situations', 'Gibraltar', 'Guam',\n",
       "        'Heavily indebted poor countries (HIPC)', 'High income',\n",
       "        'IBRD only', 'IDA & IBRD total', 'IDA blend', 'IDA only',\n",
       "        'IDA total', 'Korea, Dem. People’s Rep.',\n",
       "        'Late-demographic dividend', 'Latin America & Caribbean',\n",
       "        'Latin America & Caribbean (excluding high income)',\n",
       "        'Latin America & the Caribbean (IDA & IBRD countries)',\n",
       "        'Least developed countries: UN classification',\n",
       "        'Low & middle income', 'Low income', 'Lower middle income',\n",
       "        'Middle East & North Africa',\n",
       "        'Middle East & North Africa (IDA & IBRD countries)',\n",
       "        'Middle East & North Africa (excluding high income)',\n",
       "        'Middle income', 'Nauru', 'North America',\n",
       "        'Northern Mariana Islands', 'OECD members', 'Other small states',\n",
       "        'Pacific island small states', 'Post-demographic dividend',\n",
       "        'Pre-demographic dividend', 'Sao Tome and Principe',\n",
       "        'Sint Maarten (Dutch part)', 'Small states', 'Somalia',\n",
       "        'South Asia', 'South Asia (IDA & IBRD)', 'South Sudan',\n",
       "        'St. Martin (French part)', 'Sub-Saharan Africa',\n",
       "        'Sub-Saharan Africa (IDA & IBRD countries)',\n",
       "        'Sub-Saharan Africa (excluding high income)',\n",
       "        'Turks and Caicos Islands', 'Upper middle income',\n",
       "        'Virgin Islands (U.S.)', 'World', None, None, None, None, None,\n",
       "        None, None, None, None, None, None, None, None, None, None, None,\n",
       "        None, None, None, None, None, None, None, None, None, None, None]],\n",
       "      dtype=object)"
      ]
     },
     "execution_count": 375,
     "metadata": {},
     "output_type": "execute_result"
    }
   ],
   "source": [
    "res_2000 = pd.DataFrame(Country_clusters).T\n",
    "res_2000.T.values"
   ]
  },
  {
   "cell_type": "markdown",
   "metadata": {},
   "source": [
    "## 1990"
   ]
  },
  {
   "cell_type": "code",
   "execution_count": 461,
   "metadata": {},
   "outputs": [],
   "source": [
    "df = pd.read_csv('WDIData.csv')\n",
    "data = df[['Country Name','Indicator Name','1990']]\n",
    "data = data.dropna(axis= 0)\n",
    "\n",
    "dframe = data['1990'].groupby([data['Country Name'],data['Indicator Name']]).sum().unstack()\n",
    "for frame in dframe.columns: \n",
    "    dframe[frame].fillna(dframe[frame].mean(), inplace = True)\n",
    "\n",
    "Country_name = np.array(list(dframe.axes[0]))\n",
    "Array = np.array(dframe)"
   ]
  },
  {
   "cell_type": "code",
   "execution_count": 464,
   "metadata": {},
   "outputs": [],
   "source": [
    "from sklearn.manifold import TSNE\n",
    "Array_embedded = TSNE(n_components= 2).fit_transform(Array)\n",
    "#plt.scatter(Array_embedded[:, 0], Array_embedded[:, 1])"
   ]
  },
  {
   "cell_type": "code",
   "execution_count": 472,
   "metadata": {},
   "outputs": [
    {
     "data": {
      "text/plain": [
       "<matplotlib.collections.PathCollection at 0x7f1332086160>"
      ]
     },
     "execution_count": 472,
     "metadata": {},
     "output_type": "execute_result"
    },
    {
     "data": {
      "image/png": "[encoded data removed]",
      "text/plain": [
       "<Figure size 432x288 with 1 Axes>"
      ]
     },
     "metadata": {
      "needs_background": "light"
     },
     "output_type": "display_data"
    }
   ],
   "source": [
    "model = GaussianMixture(n_components=5)\n",
    "model.fit(Array_embedded)\n",
    "y_Array = model.predict(Array_embedded)\n",
    "\n",
    "plt.scatter(Array_embedded[:, 0], Array_embedded[:, 1], c = y_Array)"
   ]
  },
  {
   "cell_type": "code",
   "execution_count": 473,
   "metadata": {},
   "outputs": [
    {
     "data": {
      "text/plain": [
       "<matplotlib.collections.PathCollection at 0x7f133217c978>"
      ]
     },
     "execution_count": 473,
     "metadata": {},
     "output_type": "execute_result"
    },
    {
     "data": {
      "image/png": "[encoded data removed]",
      "text/plain": [
       "<Figure size 432x288 with 1 Axes>"
      ]
     },
     "metadata": {
      "needs_background": "light"
     },
     "output_type": "display_data"
    }
   ],
   "source": [
    "model = Clustering(n_components=5, max_iter=100)\n",
    "model.fit(Array_embedded)\n",
    "y_Array = model.predict(Array_embedded)\n",
    "\n",
    "plt.scatter(Array_embedded[:, 0], Array_embedded[:, 1], c = y_Array)"
   ]
  },
  {
   "cell_type": "code",
   "execution_count": 477,
   "metadata": {},
   "outputs": [],
   "source": [
    "Country_clusters = [[] for i in range(len(set(y_Array)))]\n",
    "for i in range(len(y_Array)):\n",
    "    Country_clusters[y_Array[i]].append(Country_name[i])"
   ]
  },
  {
   "cell_type": "code",
   "execution_count": 478,
   "metadata": {
    "scrolled": false
   },
   "outputs": [
    {
     "data": {
      "text/plain": [
       "array([['Algeria', 'Argentina', 'Armenia', 'Australia', 'Bahamas, The',\n",
       "        'Belarus', 'Belize', 'Benin', 'Bolivia', 'Botswana',\n",
       "        'Brunei Darussalam', 'Burkina Faso', 'Cameroon', 'China',\n",
       "        'Comoros', 'Congo, Rep.', 'Cuba', 'Cyprus', 'Dominican Republic',\n",
       "        'Ecuador', 'El Salvador', 'Equatorial Guinea', 'Gabon',\n",
       "        'Guatemala', 'Honduras', 'Hong Kong SAR, China', 'India',\n",
       "        'Jordan', 'Kazakhstan', 'Kenya', 'Kyrgyz Republic', 'Lesotho',\n",
       "        'Macao SAR, China', 'Macedonia, FYR', 'Madagascar', 'Malaysia',\n",
       "        'Mali', 'Mauritius', 'Mexico', 'Morocco', 'Namibia', 'Nigeria',\n",
       "        'Pakistan', 'Panama', 'Papua New Guinea', 'Peru', 'Philippines',\n",
       "        'Poland', 'Puerto Rico', 'Senegal', 'Seychelles', 'Singapore',\n",
       "        'South Africa', 'Sri Lanka', 'Syrian Arab Republic', 'Tanzania',\n",
       "        'Thailand', 'Togo', 'Turkey', 'Ukraine', 'United States',\n",
       "        'Uruguay', 'Venezuela, RB', None, None, None, None, None, None,\n",
       "        None, None, None, None, None, None, None, None, None, None, None,\n",
       "        None, None, None, None, None, None, None, None, None, None, None,\n",
       "        None, None, None, None, None],\n",
       "       ['Afghanistan', 'American Samoa', 'Arab World', 'Aruba',\n",
       "        'Bosnia and Herzegovina', 'British Virgin Islands', 'Cambodia',\n",
       "        'Caribbean small states', 'Cayman Islands',\n",
       "        'Central Europe and the Baltics', 'Channel Islands', 'Chile',\n",
       "        'Colombia', 'Croatia', 'Curacao', 'Djibouti',\n",
       "        'Early-demographic dividend', 'East Asia & Pacific',\n",
       "        'East Asia & Pacific (IDA & IBRD countries)',\n",
       "        'East Asia & Pacific (excluding high income)', 'Eritrea',\n",
       "        'Estonia', 'Euro area', 'Europe & Central Asia',\n",
       "        'Europe & Central Asia (IDA & IBRD countries)',\n",
       "        'Europe & Central Asia (excluding high income)',\n",
       "        'European Union', 'Faroe Islands',\n",
       "        'Fragile and conflict affected situations', 'Gibraltar', 'Guam',\n",
       "        'Heavily indebted poor countries (HIPC)', 'High income',\n",
       "        'Hungary', 'IBRD only', 'IDA & IBRD total', 'IDA blend',\n",
       "        'IDA only', 'IDA total', 'Iran, Islamic Rep.', 'Iraq', 'Japan',\n",
       "        'Korea, Dem. People’s Rep.', 'Korea, Rep.', 'Kosovo', 'Kuwait',\n",
       "        'Late-demographic dividend', 'Latin America & Caribbean',\n",
       "        'Latin America & Caribbean (excluding high income)',\n",
       "        'Latin America & the Caribbean (IDA & IBRD countries)', 'Latvia',\n",
       "        'Least developed countries: UN classification', 'Libya',\n",
       "        'Lithuania', 'Low & middle income', 'Low income',\n",
       "        'Lower middle income', 'Maldives', 'Middle East & North Africa',\n",
       "        'Middle East & North Africa (IDA & IBRD countries)',\n",
       "        'Middle East & North Africa (excluding high income)',\n",
       "        'Middle income', 'Moldova', 'Montenegro', 'Nauru',\n",
       "        'North America', 'Northern Mariana Islands', 'OECD members',\n",
       "        'Other small states', 'Pacific island small states', 'Palau',\n",
       "        'Post-demographic dividend', 'Pre-demographic dividend', 'Qatar',\n",
       "        'Russian Federation', 'San Marino', 'Sao Tome and Principe',\n",
       "        'Serbia', 'Sint Maarten (Dutch part)', 'Slovak Republic',\n",
       "        'Small states', 'South Asia', 'South Asia (IDA & IBRD)',\n",
       "        'South Sudan', 'St. Martin (French part)', 'Sub-Saharan Africa',\n",
       "        'Sub-Saharan Africa (IDA & IBRD countries)',\n",
       "        'Sub-Saharan Africa (excluding high income)', 'Timor-Leste',\n",
       "        'Trinidad and Tobago', 'Turks and Caicos Islands',\n",
       "        'Upper middle income', 'Vietnam', 'Virgin Islands (U.S.)',\n",
       "        'West Bank and Gaza', 'World'],\n",
       "       ['Austria', 'Bangladesh', 'Belgium', 'Bulgaria', 'Canada', 'Chad',\n",
       "        'Costa Rica', 'Czech Republic', 'Denmark', 'Egypt, Arab Rep.',\n",
       "        'Eswatini', 'Finland', 'France', 'Germany', 'Greece', 'Iceland',\n",
       "        'Ireland', 'Israel', 'Italy', 'Luxembourg', 'Mauritania',\n",
       "        'Mozambique', 'Netherlands', 'New Zealand', 'Norway', 'Portugal',\n",
       "        'Romania', 'Rwanda', 'Slovenia', 'Spain', 'Sudan', 'Sweden',\n",
       "        'Switzerland', 'Tunisia', 'Uganda', 'United Kingdom', None, None,\n",
       "        None, None, None, None, None, None, None, None, None, None, None,\n",
       "        None, None, None, None, None, None, None, None, None, None, None,\n",
       "        None, None, None, None, None, None, None, None, None, None, None,\n",
       "        None, None, None, None, None, None, None, None, None, None, None,\n",
       "        None, None, None, None, None, None, None, None, None, None, None,\n",
       "        None, None, None],\n",
       "       ['Albania', 'Andorra', 'Angola', 'Antigua and Barbuda',\n",
       "        'Azerbaijan', 'Bahrain', 'Barbados', 'Bermuda', 'Bhutan',\n",
       "        'Brazil', 'Burundi', 'Cabo Verde', 'Central African Republic',\n",
       "        'Congo, Dem. Rep.', \"Cote d'Ivoire\", 'Dominica', 'Ethiopia',\n",
       "        'Fiji', 'French Polynesia', 'Gambia, The', 'Georgia', 'Ghana',\n",
       "        'Greenland', 'Grenada', 'Guinea', 'Guinea-Bissau', 'Guyana',\n",
       "        'Haiti', 'Isle of Man', 'Jamaica', 'Kiribati', 'Lao PDR',\n",
       "        'Lebanon', 'Liberia', 'Liechtenstein', 'Malawi', 'Malta',\n",
       "        'Marshall Islands', 'Micronesia, Fed. Sts.', 'Monaco',\n",
       "        'Mongolia', 'Myanmar', 'Nepal', 'New Caledonia', 'Nicaragua',\n",
       "        'Niger', 'Oman', 'Paraguay', 'Samoa', 'Saudi Arabia',\n",
       "        'Sierra Leone', 'Solomon Islands', 'Somalia',\n",
       "        'St. Kitts and Nevis', 'St. Lucia',\n",
       "        'St. Vincent and the Grenadines', 'Suriname', 'Tajikistan',\n",
       "        'Tonga', 'Turkmenistan', 'Tuvalu', 'United Arab Emirates',\n",
       "        'Uzbekistan', 'Vanuatu', 'Yemen, Rep.', 'Zambia', 'Zimbabwe',\n",
       "        None, None, None, None, None, None, None, None, None, None, None,\n",
       "        None, None, None, None, None, None, None, None, None, None, None,\n",
       "        None, None, None, None, None, None, None],\n",
       "       ['Indonesia', None, None, None, None, None, None, None, None,\n",
       "        None, None, None, None, None, None, None, None, None, None, None,\n",
       "        None, None, None, None, None, None, None, None, None, None, None,\n",
       "        None, None, None, None, None, None, None, None, None, None, None,\n",
       "        None, None, None, None, None, None, None, None, None, None, None,\n",
       "        None, None, None, None, None, None, None, None, None, None, None,\n",
       "        None, None, None, None, None, None, None, None, None, None, None,\n",
       "        None, None, None, None, None, None, None, None, None, None, None,\n",
       "        None, None, None, None, None, None, None, None, None, None]],\n",
       "      dtype=object)"
      ]
     },
     "execution_count": 478,
     "metadata": {},
     "output_type": "execute_result"
    }
   ],
   "source": [
    "res_1990 = pd.DataFrame(Country_clusters).T\n",
    "res_1990.T.values"
   ]
  },
  {
   "cell_type": "code",
   "execution_count": null,
   "metadata": {},
   "outputs": [],
   "source": [
    "# Не переживайте, мне тоже было тяжело разобраться с данными"
   ]
  },
  {
   "cell_type": "markdown",
   "metadata": {},
   "source": [
    "# Контрольные вопросы\n",
    "Постарайтесь максимально развернуто и честно ответить на вопросы. Они охватывают тему алгоритмов кластеризации и скорее нужны преподавателям, чтобы понимать, что именно Вы усвоили плохо. Надеюсь, они подскажут, что именно в теме Вы не понимаете или наоборот порадают, что Вы все знаете ^_^"
   ]
  },
  {
   "cell_type": "markdown",
   "metadata": {},
   "source": [
    "* Опишите, пожалуйста, для каких прикладных задач Вы бы стали использовать методы кластеризации?"
   ]
  },
  {
   "cell_type": "markdown",
   "metadata": {},
   "source": [
    "***Ваше ответ здесь***\n",
    "\n",
    "Для задач где необходимо найти кластерную структуру в данных, как-то разбить группы объектов на кластера, сгруппировать какие-то объекты. Также можно обнаружить какие-то особенные объекты (выбросы), которые не принадлежат ни одному кластеру. Также если у нас много данных, например, большая группа пользователей, мы можем объединить их в группы и характеризовать пользователя в группе по \"среднему пользователю\" из этой же группы, таким образом мы сожмем наши данные о пользователях."
   ]
  },
  {
   "cell_type": "markdown",
   "metadata": {},
   "source": [
    "* Какие преимущества и недостатки Вы видите у следуюших алгоритмов кластеризации: kmeans, dbscan, агломеративная кластеризация?"
   ]
  },
  {
   "cell_type": "markdown",
   "metadata": {},
   "source": [
    "***Ваше ответ здесь***\n",
    "\n",
    "\n",
    "***Dbscan:***\n",
    "\n",
    "- Способен выделять кластеры произвольной формы\n",
    "- Не требуется задания числа кластеров, автоматичеки определяет их количество\n",
    "- Учитывает выбросы в данных\n",
    "- Плохо работает при различных плотностях кластеров\n",
    "- Неспособность соединять кластеры через небольший проёмы, а также связывает явно различные кластеры через плотно населённые перемычки \n",
    "\n",
    "\n",
    "***Агломеративная кластеризация:***\n",
    "\n",
    "- Способен выделять кластеры произвольной формы\n",
    "- Разнообразие критериев\n",
    "- Любые K из коробки, т.е. после выполнения алгоритма, мы сами можем выбрать требуемое количество кластеров.\n",
    "- Очень наглядный алгоритм (дендрограмма)\n",
    "- Требует много ресурсов\n",
    "\n",
    "***K-means:***\n",
    "\n",
    "- Вычислительно недорог\n",
    "- Прост в реализации\n",
    "- Имеет множество модификаций\n",
    "- Интерпретация кластеров через центройды\n",
    "- В результате получеются \"сферические\" кластеры что не всегда соответствует реальности\n",
    "\n"
   ]
  },
  {
   "cell_type": "markdown",
   "metadata": {},
   "source": [
    "* На лекции было показано, что EM алгоритм находит оценку максимального правдоподобия в задаче со скрытыми переменными. Из курса мат. статистики Вы можете знать, оценка максимального правдоподобия \"оптимальная\" во многих смыслах. В каких же случаях тогда не следует применять метод максимального правдоподобия?"
   ]
  },
  {
   "cell_type": "markdown",
   "metadata": {},
   "source": [
    "***Ваше ответ здесь***  \n",
    "Если правдоподие ограничено, то EM алгоритм сходится к стационарной точке. Получается, что мы можем сойтись к локальному минимуму вместо глобального. Получается, что в этом случае не следует использовать метод максимального правдоподобия. Также метод максимального правдоподобия не гарантирует несмещенность оценок. \n"
   ]
  },
  {
   "cell_type": "markdown",
   "metadata": {},
   "source": [
    "* Многие алгоритмы анализа данных страдают \"проклятием\" размерности. Страдают ли этим проклятием алгоритмы кластеризации? Если да, то как бы Вы с этим боролись?"
   ]
  },
  {
   "cell_type": "markdown",
   "metadata": {},
   "source": [
    "***Ваше ответ здесь***\n",
    "\n",
    "Да, страдают. Методы борьбы с проклятием размерности: PCA, t-SNE, отбор признаков."
   ]
  },
  {
   "cell_type": "markdown",
   "metadata": {},
   "source": [
    "* Представьте, что у Вас есть набор текстовых документов, и Вы хотите разбить эти документы на тематики - новости, спорт, кулинария, кино и так далее. Размеченной выборки у Вас нет, только сами тексты документов. Какие алгоритмы и какие признаки Вы бы использовали для решения данной задачи?"
   ]
  },
  {
   "cell_type": "markdown",
   "metadata": {},
   "source": [
    "***Ваше ответ здесь***\n",
    "\n",
    "Для начала я бы сделал токенизацию, потом провел нормализацию(лемматизация), далее осуществил бы грамматический разбор, в том плане, что оставил бы только существительные из текста (на лекциях было сказано, что это строится на основе размеченного корпуса текста или с помощью эвристик). Далее я бы использовал простой bag of words, так как нам скорее всего не нужно знать порядок слов, ведь тематики определяются особыми, специальными словами, конечно, можно бы использовать представления слов с помощью Word2Vec, но думаю bag of words тоже неплохо сработает. Далее бы провел кластеризацию, думаю здесь лучше использовать агломеративные алгоритмы."
   ]
  },
  {
   "cell_type": "markdown",
   "metadata": {},
   "source": [
    "* Теперь представьте, что небольшая часть Ваших текстов была размечена людьми, но большая часть так и осталась без таргета. Смогли ли бы Вы использовать эти данные для улучения качества кластеризации? (эта задача называется semi-supervised learning)"
   ]
  },
  {
   "cell_type": "markdown",
   "metadata": {},
   "source": [
    "***Ваше ответ здесь***  \n",
    "Для метода который я выбрал, а именно использование агломеративных алгоритмов, это никак скорее всего не поможет, но если бы я использовал Gaussian Mixture Model, или k-means, то можно былос помощью уже размеченных данных задать начальные параметры для этих кластеров."
   ]
  },
  {
   "cell_type": "markdown",
   "metadata": {},
   "source": [
    "Здесь Вы можете оставить отзыв о этой домашней работе или о всем курсе.   "
   ]
  },
  {
   "cell_type": "markdown",
   "metadata": {},
   "source": [
    "*** ВАШ ОТЗЫВ ЗДЕСЬ***\n",
    "\n",
    "Данные для данной задачи имеют слишком много пропусков, возможно, стоит предложить какую-нибудь более интересную задачу."
   ]
  }
 ],
 "metadata": {
  "anaconda-cloud": {},
  "kernelspec": {
   "display_name": "Python 3",
   "language": "python",
   "name": "python3"
  },
  "language_info": {
   "codemirror_mode": {
    "name": "ipython",
    "version": 3
   },
   "file_extension": ".py",
   "mimetype": "text/x-python",
   "name": "python",
   "nbconvert_exporter": "python",
   "pygments_lexer": "ipython3",
   "version": "3.6.6"
  }
 },
 "nbformat": 4,
 "nbformat_minor": 1
}
